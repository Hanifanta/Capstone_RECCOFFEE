{
  "nbformat": 4,
  "nbformat_minor": 0,
  "metadata": {
    "colab": {
      "provenance": [],
      "include_colab_link": true
    },
    "kernelspec": {
      "name": "python3",
      "display_name": "Python 3"
    },
    "language_info": {
      "name": "python"
    }
  },
  "cells": [
    {
      "cell_type": "markdown",
      "metadata": {
        "id": "view-in-github",
        "colab_type": "text"
      },
      "source": [
        "<a href=\"https://colab.research.google.com/github/Hanifanta/Capstone_RECCOFFEE/blob/main/Flask-deployment/notebook/reccoffee_filtering.ipynb\" target=\"_parent\"><img src=\"https://colab.research.google.com/assets/colab-badge.svg\" alt=\"Open In Colab\"/></a>"
      ]
    },
    {
      "cell_type": "markdown",
      "source": [
        "##**Import Library**"
      ],
      "metadata": {
        "id": "-2dyDVdrzcqE"
      }
    },
    {
      "cell_type": "code",
      "source": [
        "pip install joblib"
      ],
      "metadata": {
        "colab": {
          "base_uri": "https://localhost:8080/"
        },
        "id": "3CBz7KFksBx7",
        "outputId": "b9d78606-bd53-4b2c-a6ac-42ee2dcf2946"
      },
      "execution_count": 1,
      "outputs": [
        {
          "output_type": "stream",
          "name": "stdout",
          "text": [
            "Looking in indexes: https://pypi.org/simple, https://us-python.pkg.dev/colab-wheels/public/simple/\n",
            "Requirement already satisfied: joblib in /usr/local/lib/python3.7/dist-packages (1.2.0)\n"
          ]
        }
      ]
    },
    {
      "cell_type": "code",
      "execution_count": 19,
      "metadata": {
        "id": "7laNc6AjzcEo"
      },
      "outputs": [],
      "source": [
        "# Data loading and data analysis\n",
        "import pandas as pd\n",
        "import joblib\n",
        "\n",
        "# Modelling\n",
        "from sklearn import svm\n",
        "from sklearn import tree\n",
        "from sklearn.neighbors import KNeighborsClassifier\n",
        "from sklearn.ensemble import RandomForestClassifier"
      ]
    },
    {
      "cell_type": "markdown",
      "source": [
        "##**Data Preprocession**"
      ],
      "metadata": {
        "id": "sdpnKeum09s_"
      }
    },
    {
      "cell_type": "code",
      "source": [
        "coffee = pd.read_csv('/content/coffee_clean.csv')\n",
        "coffee.head(5)"
      ],
      "metadata": {
        "colab": {
          "base_uri": "https://localhost:8080/",
          "height": 669
        },
        "id": "PhHAjYbuzjBc",
        "outputId": "8b942963-d6a7-4e59-8b5a-444b3069bdc8"
      },
      "execution_count": 3,
      "outputs": [
        {
          "output_type": "execute_result",
          "data": {
            "text/plain": [
              "                                                slug  \\\n",
              "0  https://www.coffeereview.com/review/ethiopia-r...   \n",
              "1  https://www.coffeereview.com/review/double-ana...   \n",
              "2  https://www.coffeereview.com/review/ethiopia-c...   \n",
              "3  https://www.coffeereview.com/review/ethiopia-h...   \n",
              "4  https://www.coffeereview.com/review/colombia-p...   \n",
              "\n",
              "                                           name  \\\n",
              "0                     Ethiopia Reko Yirgacheffe   \n",
              "1  Double-Anaerobic Fermentation Tamiru Tadesse   \n",
              "2          Ethiopia Chelbesa Danche Yirgacheffe   \n",
              "3         Ethiopia Honey Process Tamiru Tadesse   \n",
              "4                      Colombia Planadas Tolima   \n",
              "\n",
              "                                            origin  rating  \\\n",
              "0    Yirgacheffe growing region, southern Ethiopia      94   \n",
              "1    Sidamo growing region, south-central Ethiopia      94   \n",
              "2  Chelchele, Gedeb District, Gedeo Zone, Ethiopia      94   \n",
              "3    Sidamo growing region, south-central Ethiopia      94   \n",
              "4                                 Tolima, Colombia      93   \n",
              "\n",
              "                 roaster  aroma  acid_or_milk  body  flavor  aftertaste  \\\n",
              "0          Temple Coffee    9.0           9.0   9.0     9.0         8.0   \n",
              "1     Genesis Coffee Lab    9.0           9.0   9.0     9.0         8.0   \n",
              "2  Jaunt Coffee Roasters    9.0           9.0   9.0     9.0         8.0   \n",
              "3     Genesis Coffee Lab    9.0           9.0   9.0     9.0         8.0   \n",
              "4  Jaunt Coffee Roasters    9.0           9.0   8.0     9.0         8.0   \n",
              "\n",
              "                                              desc_1  \\\n",
              "0  Rich-toned, deeply floral. White peach, tea ro...   \n",
              "1  Richly floral-toned, crisply sweet. Honeysuckl...   \n",
              "2  Elegantly sweet, floral-toned. Lilac, almond, ...   \n",
              "3  Delicately fruit-toned, tisane-like. Dried str...   \n",
              "4  Delicate, richly aromatic. Pineapple, almond n...   \n",
              "\n",
              "                                              desc_2  \\\n",
              "0  Produced by the Reko Farming Cooperative from ...   \n",
              "1  Produced by Tamiru Tadesse of Alo Coffee. Sout...   \n",
              "2  Produced by the METAD farm and mill in souther...   \n",
              "3  Produced by Tamiru Tadesse of Alo Coffee. Sout...   \n",
              "4  Produced by Jorge Elias Rojas entirely of the ...   \n",
              "\n",
              "                                              desc_3  \n",
              "0  A classic washed Yirgacheffe cup driven by not...  \n",
              "1  A floral-driven anaerobic Ethiopia cup free of...  \n",
              "2  A brightly sweet, fragrantly floral-driven was...  \n",
              "3  A delicate, elegant, honey-processed Sidamo cu...  \n",
              "4  A lovely Colombia Geisha cup, finely tea-like ...  "
            ],
            "text/html": [
              "\n",
              "  <div id=\"df-7be742e9-c730-400f-a283-0947ca7ab092\">\n",
              "    <div class=\"colab-df-container\">\n",
              "      <div>\n",
              "<style scoped>\n",
              "    .dataframe tbody tr th:only-of-type {\n",
              "        vertical-align: middle;\n",
              "    }\n",
              "\n",
              "    .dataframe tbody tr th {\n",
              "        vertical-align: top;\n",
              "    }\n",
              "\n",
              "    .dataframe thead th {\n",
              "        text-align: right;\n",
              "    }\n",
              "</style>\n",
              "<table border=\"1\" class=\"dataframe\">\n",
              "  <thead>\n",
              "    <tr style=\"text-align: right;\">\n",
              "      <th></th>\n",
              "      <th>slug</th>\n",
              "      <th>name</th>\n",
              "      <th>origin</th>\n",
              "      <th>rating</th>\n",
              "      <th>roaster</th>\n",
              "      <th>aroma</th>\n",
              "      <th>acid_or_milk</th>\n",
              "      <th>body</th>\n",
              "      <th>flavor</th>\n",
              "      <th>aftertaste</th>\n",
              "      <th>desc_1</th>\n",
              "      <th>desc_2</th>\n",
              "      <th>desc_3</th>\n",
              "    </tr>\n",
              "  </thead>\n",
              "  <tbody>\n",
              "    <tr>\n",
              "      <th>0</th>\n",
              "      <td>https://www.coffeereview.com/review/ethiopia-r...</td>\n",
              "      <td>Ethiopia Reko Yirgacheffe</td>\n",
              "      <td>Yirgacheffe growing region, southern Ethiopia</td>\n",
              "      <td>94</td>\n",
              "      <td>Temple Coffee</td>\n",
              "      <td>9.0</td>\n",
              "      <td>9.0</td>\n",
              "      <td>9.0</td>\n",
              "      <td>9.0</td>\n",
              "      <td>8.0</td>\n",
              "      <td>Rich-toned, deeply floral. White peach, tea ro...</td>\n",
              "      <td>Produced by the Reko Farming Cooperative from ...</td>\n",
              "      <td>A classic washed Yirgacheffe cup driven by not...</td>\n",
              "    </tr>\n",
              "    <tr>\n",
              "      <th>1</th>\n",
              "      <td>https://www.coffeereview.com/review/double-ana...</td>\n",
              "      <td>Double-Anaerobic Fermentation Tamiru Tadesse</td>\n",
              "      <td>Sidamo growing region, south-central Ethiopia</td>\n",
              "      <td>94</td>\n",
              "      <td>Genesis Coffee Lab</td>\n",
              "      <td>9.0</td>\n",
              "      <td>9.0</td>\n",
              "      <td>9.0</td>\n",
              "      <td>9.0</td>\n",
              "      <td>8.0</td>\n",
              "      <td>Richly floral-toned, crisply sweet. Honeysuckl...</td>\n",
              "      <td>Produced by Tamiru Tadesse of Alo Coffee. Sout...</td>\n",
              "      <td>A floral-driven anaerobic Ethiopia cup free of...</td>\n",
              "    </tr>\n",
              "    <tr>\n",
              "      <th>2</th>\n",
              "      <td>https://www.coffeereview.com/review/ethiopia-c...</td>\n",
              "      <td>Ethiopia Chelbesa Danche Yirgacheffe</td>\n",
              "      <td>Chelchele, Gedeb District, Gedeo Zone, Ethiopia</td>\n",
              "      <td>94</td>\n",
              "      <td>Jaunt Coffee Roasters</td>\n",
              "      <td>9.0</td>\n",
              "      <td>9.0</td>\n",
              "      <td>9.0</td>\n",
              "      <td>9.0</td>\n",
              "      <td>8.0</td>\n",
              "      <td>Elegantly sweet, floral-toned. Lilac, almond, ...</td>\n",
              "      <td>Produced by the METAD farm and mill in souther...</td>\n",
              "      <td>A brightly sweet, fragrantly floral-driven was...</td>\n",
              "    </tr>\n",
              "    <tr>\n",
              "      <th>3</th>\n",
              "      <td>https://www.coffeereview.com/review/ethiopia-h...</td>\n",
              "      <td>Ethiopia Honey Process Tamiru Tadesse</td>\n",
              "      <td>Sidamo growing region, south-central Ethiopia</td>\n",
              "      <td>94</td>\n",
              "      <td>Genesis Coffee Lab</td>\n",
              "      <td>9.0</td>\n",
              "      <td>9.0</td>\n",
              "      <td>9.0</td>\n",
              "      <td>9.0</td>\n",
              "      <td>8.0</td>\n",
              "      <td>Delicately fruit-toned, tisane-like. Dried str...</td>\n",
              "      <td>Produced by Tamiru Tadesse of Alo Coffee. Sout...</td>\n",
              "      <td>A delicate, elegant, honey-processed Sidamo cu...</td>\n",
              "    </tr>\n",
              "    <tr>\n",
              "      <th>4</th>\n",
              "      <td>https://www.coffeereview.com/review/colombia-p...</td>\n",
              "      <td>Colombia Planadas Tolima</td>\n",
              "      <td>Tolima, Colombia</td>\n",
              "      <td>93</td>\n",
              "      <td>Jaunt Coffee Roasters</td>\n",
              "      <td>9.0</td>\n",
              "      <td>9.0</td>\n",
              "      <td>8.0</td>\n",
              "      <td>9.0</td>\n",
              "      <td>8.0</td>\n",
              "      <td>Delicate, richly aromatic. Pineapple, almond n...</td>\n",
              "      <td>Produced by Jorge Elias Rojas entirely of the ...</td>\n",
              "      <td>A lovely Colombia Geisha cup, finely tea-like ...</td>\n",
              "    </tr>\n",
              "  </tbody>\n",
              "</table>\n",
              "</div>\n",
              "      <button class=\"colab-df-convert\" onclick=\"convertToInteractive('df-7be742e9-c730-400f-a283-0947ca7ab092')\"\n",
              "              title=\"Convert this dataframe to an interactive table.\"\n",
              "              style=\"display:none;\">\n",
              "        \n",
              "  <svg xmlns=\"http://www.w3.org/2000/svg\" height=\"24px\"viewBox=\"0 0 24 24\"\n",
              "       width=\"24px\">\n",
              "    <path d=\"M0 0h24v24H0V0z\" fill=\"none\"/>\n",
              "    <path d=\"M18.56 5.44l.94 2.06.94-2.06 2.06-.94-2.06-.94-.94-2.06-.94 2.06-2.06.94zm-11 1L8.5 8.5l.94-2.06 2.06-.94-2.06-.94L8.5 2.5l-.94 2.06-2.06.94zm10 10l.94 2.06.94-2.06 2.06-.94-2.06-.94-.94-2.06-.94 2.06-2.06.94z\"/><path d=\"M17.41 7.96l-1.37-1.37c-.4-.4-.92-.59-1.43-.59-.52 0-1.04.2-1.43.59L10.3 9.45l-7.72 7.72c-.78.78-.78 2.05 0 2.83L4 21.41c.39.39.9.59 1.41.59.51 0 1.02-.2 1.41-.59l7.78-7.78 2.81-2.81c.8-.78.8-2.07 0-2.86zM5.41 20L4 18.59l7.72-7.72 1.47 1.35L5.41 20z\"/>\n",
              "  </svg>\n",
              "      </button>\n",
              "      \n",
              "  <style>\n",
              "    .colab-df-container {\n",
              "      display:flex;\n",
              "      flex-wrap:wrap;\n",
              "      gap: 12px;\n",
              "    }\n",
              "\n",
              "    .colab-df-convert {\n",
              "      background-color: #E8F0FE;\n",
              "      border: none;\n",
              "      border-radius: 50%;\n",
              "      cursor: pointer;\n",
              "      display: none;\n",
              "      fill: #1967D2;\n",
              "      height: 32px;\n",
              "      padding: 0 0 0 0;\n",
              "      width: 32px;\n",
              "    }\n",
              "\n",
              "    .colab-df-convert:hover {\n",
              "      background-color: #E2EBFA;\n",
              "      box-shadow: 0px 1px 2px rgba(60, 64, 67, 0.3), 0px 1px 3px 1px rgba(60, 64, 67, 0.15);\n",
              "      fill: #174EA6;\n",
              "    }\n",
              "\n",
              "    [theme=dark] .colab-df-convert {\n",
              "      background-color: #3B4455;\n",
              "      fill: #D2E3FC;\n",
              "    }\n",
              "\n",
              "    [theme=dark] .colab-df-convert:hover {\n",
              "      background-color: #434B5C;\n",
              "      box-shadow: 0px 1px 3px 1px rgba(0, 0, 0, 0.15);\n",
              "      filter: drop-shadow(0px 1px 2px rgba(0, 0, 0, 0.3));\n",
              "      fill: #FFFFFF;\n",
              "    }\n",
              "  </style>\n",
              "\n",
              "      <script>\n",
              "        const buttonEl =\n",
              "          document.querySelector('#df-7be742e9-c730-400f-a283-0947ca7ab092 button.colab-df-convert');\n",
              "        buttonEl.style.display =\n",
              "          google.colab.kernel.accessAllowed ? 'block' : 'none';\n",
              "\n",
              "        async function convertToInteractive(key) {\n",
              "          const element = document.querySelector('#df-7be742e9-c730-400f-a283-0947ca7ab092');\n",
              "          const dataTable =\n",
              "            await google.colab.kernel.invokeFunction('convertToInteractive',\n",
              "                                                     [key], {});\n",
              "          if (!dataTable) return;\n",
              "\n",
              "          const docLinkHtml = 'Like what you see? Visit the ' +\n",
              "            '<a target=\"_blank\" href=https://colab.research.google.com/notebooks/data_table.ipynb>data table notebook</a>'\n",
              "            + ' to learn more about interactive tables.';\n",
              "          element.innerHTML = '';\n",
              "          dataTable['output_type'] = 'display_data';\n",
              "          await google.colab.output.renderOutput(dataTable, element);\n",
              "          const docLink = document.createElement('div');\n",
              "          docLink.innerHTML = docLinkHtml;\n",
              "          element.appendChild(docLink);\n",
              "        }\n",
              "      </script>\n",
              "    </div>\n",
              "  </div>\n",
              "  "
            ]
          },
          "metadata": {},
          "execution_count": 3
        }
      ]
    },
    {
      "cell_type": "code",
      "source": [
        "data = coffee.filter(['aroma', 'acid_or_milk', 'body', 'flavor', 'aftertaste', 'name'])\n",
        "data.head(5)"
      ],
      "metadata": {
        "colab": {
          "base_uri": "https://localhost:8080/",
          "height": 206
        },
        "id": "WGZiAnYU1ImR",
        "outputId": "956d8b63-0591-4c0a-97e8-c57a4ca4a9b7"
      },
      "execution_count": 4,
      "outputs": [
        {
          "output_type": "execute_result",
          "data": {
            "text/plain": [
              "   aroma  acid_or_milk  body  flavor  aftertaste  \\\n",
              "0    9.0           9.0   9.0     9.0         8.0   \n",
              "1    9.0           9.0   9.0     9.0         8.0   \n",
              "2    9.0           9.0   9.0     9.0         8.0   \n",
              "3    9.0           9.0   9.0     9.0         8.0   \n",
              "4    9.0           9.0   8.0     9.0         8.0   \n",
              "\n",
              "                                           name  \n",
              "0                     Ethiopia Reko Yirgacheffe  \n",
              "1  Double-Anaerobic Fermentation Tamiru Tadesse  \n",
              "2          Ethiopia Chelbesa Danche Yirgacheffe  \n",
              "3         Ethiopia Honey Process Tamiru Tadesse  \n",
              "4                      Colombia Planadas Tolima  "
            ],
            "text/html": [
              "\n",
              "  <div id=\"df-617e5e03-0fa0-4258-912a-44c7582b60cd\">\n",
              "    <div class=\"colab-df-container\">\n",
              "      <div>\n",
              "<style scoped>\n",
              "    .dataframe tbody tr th:only-of-type {\n",
              "        vertical-align: middle;\n",
              "    }\n",
              "\n",
              "    .dataframe tbody tr th {\n",
              "        vertical-align: top;\n",
              "    }\n",
              "\n",
              "    .dataframe thead th {\n",
              "        text-align: right;\n",
              "    }\n",
              "</style>\n",
              "<table border=\"1\" class=\"dataframe\">\n",
              "  <thead>\n",
              "    <tr style=\"text-align: right;\">\n",
              "      <th></th>\n",
              "      <th>aroma</th>\n",
              "      <th>acid_or_milk</th>\n",
              "      <th>body</th>\n",
              "      <th>flavor</th>\n",
              "      <th>aftertaste</th>\n",
              "      <th>name</th>\n",
              "    </tr>\n",
              "  </thead>\n",
              "  <tbody>\n",
              "    <tr>\n",
              "      <th>0</th>\n",
              "      <td>9.0</td>\n",
              "      <td>9.0</td>\n",
              "      <td>9.0</td>\n",
              "      <td>9.0</td>\n",
              "      <td>8.0</td>\n",
              "      <td>Ethiopia Reko Yirgacheffe</td>\n",
              "    </tr>\n",
              "    <tr>\n",
              "      <th>1</th>\n",
              "      <td>9.0</td>\n",
              "      <td>9.0</td>\n",
              "      <td>9.0</td>\n",
              "      <td>9.0</td>\n",
              "      <td>8.0</td>\n",
              "      <td>Double-Anaerobic Fermentation Tamiru Tadesse</td>\n",
              "    </tr>\n",
              "    <tr>\n",
              "      <th>2</th>\n",
              "      <td>9.0</td>\n",
              "      <td>9.0</td>\n",
              "      <td>9.0</td>\n",
              "      <td>9.0</td>\n",
              "      <td>8.0</td>\n",
              "      <td>Ethiopia Chelbesa Danche Yirgacheffe</td>\n",
              "    </tr>\n",
              "    <tr>\n",
              "      <th>3</th>\n",
              "      <td>9.0</td>\n",
              "      <td>9.0</td>\n",
              "      <td>9.0</td>\n",
              "      <td>9.0</td>\n",
              "      <td>8.0</td>\n",
              "      <td>Ethiopia Honey Process Tamiru Tadesse</td>\n",
              "    </tr>\n",
              "    <tr>\n",
              "      <th>4</th>\n",
              "      <td>9.0</td>\n",
              "      <td>9.0</td>\n",
              "      <td>8.0</td>\n",
              "      <td>9.0</td>\n",
              "      <td>8.0</td>\n",
              "      <td>Colombia Planadas Tolima</td>\n",
              "    </tr>\n",
              "  </tbody>\n",
              "</table>\n",
              "</div>\n",
              "      <button class=\"colab-df-convert\" onclick=\"convertToInteractive('df-617e5e03-0fa0-4258-912a-44c7582b60cd')\"\n",
              "              title=\"Convert this dataframe to an interactive table.\"\n",
              "              style=\"display:none;\">\n",
              "        \n",
              "  <svg xmlns=\"http://www.w3.org/2000/svg\" height=\"24px\"viewBox=\"0 0 24 24\"\n",
              "       width=\"24px\">\n",
              "    <path d=\"M0 0h24v24H0V0z\" fill=\"none\"/>\n",
              "    <path d=\"M18.56 5.44l.94 2.06.94-2.06 2.06-.94-2.06-.94-.94-2.06-.94 2.06-2.06.94zm-11 1L8.5 8.5l.94-2.06 2.06-.94-2.06-.94L8.5 2.5l-.94 2.06-2.06.94zm10 10l.94 2.06.94-2.06 2.06-.94-2.06-.94-.94-2.06-.94 2.06-2.06.94z\"/><path d=\"M17.41 7.96l-1.37-1.37c-.4-.4-.92-.59-1.43-.59-.52 0-1.04.2-1.43.59L10.3 9.45l-7.72 7.72c-.78.78-.78 2.05 0 2.83L4 21.41c.39.39.9.59 1.41.59.51 0 1.02-.2 1.41-.59l7.78-7.78 2.81-2.81c.8-.78.8-2.07 0-2.86zM5.41 20L4 18.59l7.72-7.72 1.47 1.35L5.41 20z\"/>\n",
              "  </svg>\n",
              "      </button>\n",
              "      \n",
              "  <style>\n",
              "    .colab-df-container {\n",
              "      display:flex;\n",
              "      flex-wrap:wrap;\n",
              "      gap: 12px;\n",
              "    }\n",
              "\n",
              "    .colab-df-convert {\n",
              "      background-color: #E8F0FE;\n",
              "      border: none;\n",
              "      border-radius: 50%;\n",
              "      cursor: pointer;\n",
              "      display: none;\n",
              "      fill: #1967D2;\n",
              "      height: 32px;\n",
              "      padding: 0 0 0 0;\n",
              "      width: 32px;\n",
              "    }\n",
              "\n",
              "    .colab-df-convert:hover {\n",
              "      background-color: #E2EBFA;\n",
              "      box-shadow: 0px 1px 2px rgba(60, 64, 67, 0.3), 0px 1px 3px 1px rgba(60, 64, 67, 0.15);\n",
              "      fill: #174EA6;\n",
              "    }\n",
              "\n",
              "    [theme=dark] .colab-df-convert {\n",
              "      background-color: #3B4455;\n",
              "      fill: #D2E3FC;\n",
              "    }\n",
              "\n",
              "    [theme=dark] .colab-df-convert:hover {\n",
              "      background-color: #434B5C;\n",
              "      box-shadow: 0px 1px 3px 1px rgba(0, 0, 0, 0.15);\n",
              "      filter: drop-shadow(0px 1px 2px rgba(0, 0, 0, 0.3));\n",
              "      fill: #FFFFFF;\n",
              "    }\n",
              "  </style>\n",
              "\n",
              "      <script>\n",
              "        const buttonEl =\n",
              "          document.querySelector('#df-617e5e03-0fa0-4258-912a-44c7582b60cd button.colab-df-convert');\n",
              "        buttonEl.style.display =\n",
              "          google.colab.kernel.accessAllowed ? 'block' : 'none';\n",
              "\n",
              "        async function convertToInteractive(key) {\n",
              "          const element = document.querySelector('#df-617e5e03-0fa0-4258-912a-44c7582b60cd');\n",
              "          const dataTable =\n",
              "            await google.colab.kernel.invokeFunction('convertToInteractive',\n",
              "                                                     [key], {});\n",
              "          if (!dataTable) return;\n",
              "\n",
              "          const docLinkHtml = 'Like what you see? Visit the ' +\n",
              "            '<a target=\"_blank\" href=https://colab.research.google.com/notebooks/data_table.ipynb>data table notebook</a>'\n",
              "            + ' to learn more about interactive tables.';\n",
              "          element.innerHTML = '';\n",
              "          dataTable['output_type'] = 'display_data';\n",
              "          await google.colab.output.renderOutput(dataTable, element);\n",
              "          const docLink = document.createElement('div');\n",
              "          docLink.innerHTML = docLinkHtml;\n",
              "          element.appendChild(docLink);\n",
              "        }\n",
              "      </script>\n",
              "    </div>\n",
              "  </div>\n",
              "  "
            ]
          },
          "metadata": {},
          "execution_count": 4
        }
      ]
    },
    {
      "cell_type": "code",
      "source": [
        "data.rename(columns=({'name':'label'}), inplace=True)\n",
        "data.head(5)"
      ],
      "metadata": {
        "colab": {
          "base_uri": "https://localhost:8080/",
          "height": 206
        },
        "id": "mXDNfc84rLYA",
        "outputId": "cfba4197-31bb-4173-bb4a-626ab4e38d39"
      },
      "execution_count": 5,
      "outputs": [
        {
          "output_type": "execute_result",
          "data": {
            "text/plain": [
              "   aroma  acid_or_milk  body  flavor  aftertaste  \\\n",
              "0    9.0           9.0   9.0     9.0         8.0   \n",
              "1    9.0           9.0   9.0     9.0         8.0   \n",
              "2    9.0           9.0   9.0     9.0         8.0   \n",
              "3    9.0           9.0   9.0     9.0         8.0   \n",
              "4    9.0           9.0   8.0     9.0         8.0   \n",
              "\n",
              "                                          label  \n",
              "0                     Ethiopia Reko Yirgacheffe  \n",
              "1  Double-Anaerobic Fermentation Tamiru Tadesse  \n",
              "2          Ethiopia Chelbesa Danche Yirgacheffe  \n",
              "3         Ethiopia Honey Process Tamiru Tadesse  \n",
              "4                      Colombia Planadas Tolima  "
            ],
            "text/html": [
              "\n",
              "  <div id=\"df-00c90228-b8df-4a18-bff3-dde9b9425094\">\n",
              "    <div class=\"colab-df-container\">\n",
              "      <div>\n",
              "<style scoped>\n",
              "    .dataframe tbody tr th:only-of-type {\n",
              "        vertical-align: middle;\n",
              "    }\n",
              "\n",
              "    .dataframe tbody tr th {\n",
              "        vertical-align: top;\n",
              "    }\n",
              "\n",
              "    .dataframe thead th {\n",
              "        text-align: right;\n",
              "    }\n",
              "</style>\n",
              "<table border=\"1\" class=\"dataframe\">\n",
              "  <thead>\n",
              "    <tr style=\"text-align: right;\">\n",
              "      <th></th>\n",
              "      <th>aroma</th>\n",
              "      <th>acid_or_milk</th>\n",
              "      <th>body</th>\n",
              "      <th>flavor</th>\n",
              "      <th>aftertaste</th>\n",
              "      <th>label</th>\n",
              "    </tr>\n",
              "  </thead>\n",
              "  <tbody>\n",
              "    <tr>\n",
              "      <th>0</th>\n",
              "      <td>9.0</td>\n",
              "      <td>9.0</td>\n",
              "      <td>9.0</td>\n",
              "      <td>9.0</td>\n",
              "      <td>8.0</td>\n",
              "      <td>Ethiopia Reko Yirgacheffe</td>\n",
              "    </tr>\n",
              "    <tr>\n",
              "      <th>1</th>\n",
              "      <td>9.0</td>\n",
              "      <td>9.0</td>\n",
              "      <td>9.0</td>\n",
              "      <td>9.0</td>\n",
              "      <td>8.0</td>\n",
              "      <td>Double-Anaerobic Fermentation Tamiru Tadesse</td>\n",
              "    </tr>\n",
              "    <tr>\n",
              "      <th>2</th>\n",
              "      <td>9.0</td>\n",
              "      <td>9.0</td>\n",
              "      <td>9.0</td>\n",
              "      <td>9.0</td>\n",
              "      <td>8.0</td>\n",
              "      <td>Ethiopia Chelbesa Danche Yirgacheffe</td>\n",
              "    </tr>\n",
              "    <tr>\n",
              "      <th>3</th>\n",
              "      <td>9.0</td>\n",
              "      <td>9.0</td>\n",
              "      <td>9.0</td>\n",
              "      <td>9.0</td>\n",
              "      <td>8.0</td>\n",
              "      <td>Ethiopia Honey Process Tamiru Tadesse</td>\n",
              "    </tr>\n",
              "    <tr>\n",
              "      <th>4</th>\n",
              "      <td>9.0</td>\n",
              "      <td>9.0</td>\n",
              "      <td>8.0</td>\n",
              "      <td>9.0</td>\n",
              "      <td>8.0</td>\n",
              "      <td>Colombia Planadas Tolima</td>\n",
              "    </tr>\n",
              "  </tbody>\n",
              "</table>\n",
              "</div>\n",
              "      <button class=\"colab-df-convert\" onclick=\"convertToInteractive('df-00c90228-b8df-4a18-bff3-dde9b9425094')\"\n",
              "              title=\"Convert this dataframe to an interactive table.\"\n",
              "              style=\"display:none;\">\n",
              "        \n",
              "  <svg xmlns=\"http://www.w3.org/2000/svg\" height=\"24px\"viewBox=\"0 0 24 24\"\n",
              "       width=\"24px\">\n",
              "    <path d=\"M0 0h24v24H0V0z\" fill=\"none\"/>\n",
              "    <path d=\"M18.56 5.44l.94 2.06.94-2.06 2.06-.94-2.06-.94-.94-2.06-.94 2.06-2.06.94zm-11 1L8.5 8.5l.94-2.06 2.06-.94-2.06-.94L8.5 2.5l-.94 2.06-2.06.94zm10 10l.94 2.06.94-2.06 2.06-.94-2.06-.94-.94-2.06-.94 2.06-2.06.94z\"/><path d=\"M17.41 7.96l-1.37-1.37c-.4-.4-.92-.59-1.43-.59-.52 0-1.04.2-1.43.59L10.3 9.45l-7.72 7.72c-.78.78-.78 2.05 0 2.83L4 21.41c.39.39.9.59 1.41.59.51 0 1.02-.2 1.41-.59l7.78-7.78 2.81-2.81c.8-.78.8-2.07 0-2.86zM5.41 20L4 18.59l7.72-7.72 1.47 1.35L5.41 20z\"/>\n",
              "  </svg>\n",
              "      </button>\n",
              "      \n",
              "  <style>\n",
              "    .colab-df-container {\n",
              "      display:flex;\n",
              "      flex-wrap:wrap;\n",
              "      gap: 12px;\n",
              "    }\n",
              "\n",
              "    .colab-df-convert {\n",
              "      background-color: #E8F0FE;\n",
              "      border: none;\n",
              "      border-radius: 50%;\n",
              "      cursor: pointer;\n",
              "      display: none;\n",
              "      fill: #1967D2;\n",
              "      height: 32px;\n",
              "      padding: 0 0 0 0;\n",
              "      width: 32px;\n",
              "    }\n",
              "\n",
              "    .colab-df-convert:hover {\n",
              "      background-color: #E2EBFA;\n",
              "      box-shadow: 0px 1px 2px rgba(60, 64, 67, 0.3), 0px 1px 3px 1px rgba(60, 64, 67, 0.15);\n",
              "      fill: #174EA6;\n",
              "    }\n",
              "\n",
              "    [theme=dark] .colab-df-convert {\n",
              "      background-color: #3B4455;\n",
              "      fill: #D2E3FC;\n",
              "    }\n",
              "\n",
              "    [theme=dark] .colab-df-convert:hover {\n",
              "      background-color: #434B5C;\n",
              "      box-shadow: 0px 1px 3px 1px rgba(0, 0, 0, 0.15);\n",
              "      filter: drop-shadow(0px 1px 2px rgba(0, 0, 0, 0.3));\n",
              "      fill: #FFFFFF;\n",
              "    }\n",
              "  </style>\n",
              "\n",
              "      <script>\n",
              "        const buttonEl =\n",
              "          document.querySelector('#df-00c90228-b8df-4a18-bff3-dde9b9425094 button.colab-df-convert');\n",
              "        buttonEl.style.display =\n",
              "          google.colab.kernel.accessAllowed ? 'block' : 'none';\n",
              "\n",
              "        async function convertToInteractive(key) {\n",
              "          const element = document.querySelector('#df-00c90228-b8df-4a18-bff3-dde9b9425094');\n",
              "          const dataTable =\n",
              "            await google.colab.kernel.invokeFunction('convertToInteractive',\n",
              "                                                     [key], {});\n",
              "          if (!dataTable) return;\n",
              "\n",
              "          const docLinkHtml = 'Like what you see? Visit the ' +\n",
              "            '<a target=\"_blank\" href=https://colab.research.google.com/notebooks/data_table.ipynb>data table notebook</a>'\n",
              "            + ' to learn more about interactive tables.';\n",
              "          element.innerHTML = '';\n",
              "          dataTable['output_type'] = 'display_data';\n",
              "          await google.colab.output.renderOutput(dataTable, element);\n",
              "          const docLink = document.createElement('div');\n",
              "          docLink.innerHTML = docLinkHtml;\n",
              "          element.appendChild(docLink);\n",
              "        }\n",
              "      </script>\n",
              "    </div>\n",
              "  </div>\n",
              "  "
            ]
          },
          "metadata": {},
          "execution_count": 5
        }
      ]
    },
    {
      "cell_type": "markdown",
      "source": [
        "##**Modelling**"
      ],
      "metadata": {
        "id": "WD_kl3H-03se"
      }
    },
    {
      "cell_type": "code",
      "source": [
        "X = data.iloc[:, 0:-1]\n",
        "y = data.iloc[:, -1]"
      ],
      "metadata": {
        "id": "1z_SIpiNvTo8"
      },
      "execution_count": 21,
      "outputs": []
    },
    {
      "cell_type": "code",
      "source": [
        "model = svm.SVC()\n",
        "model_2 = KNeighborsClassifier()\n",
        "model_3 = RandomForestClassifier(n_estimators=100)\n",
        "model_4 = tree.DecisionTreeClassifier()"
      ],
      "metadata": {
        "id": "q43ckSf2BqI5"
      },
      "execution_count": 20,
      "outputs": []
    },
    {
      "cell_type": "markdown",
      "source": [
        "### **KN Classifier**"
      ],
      "metadata": {
        "id": "AIgrHZS7zo2y"
      }
    },
    {
      "cell_type": "code",
      "source": [
        "model_2.fit(X.values, y)"
      ],
      "metadata": {
        "colab": {
          "base_uri": "https://localhost:8080/"
        },
        "id": "74NxZJUrzk4I",
        "outputId": "bf4aa770-2c90-4f91-d318-c54800679fe1"
      },
      "execution_count": 39,
      "outputs": [
        {
          "output_type": "execute_result",
          "data": {
            "text/plain": [
              "KNeighborsClassifier()"
            ]
          },
          "metadata": {},
          "execution_count": 39
        }
      ]
    },
    {
      "cell_type": "code",
      "source": [
        "kn_pred = model_2.predict([[5.0, 8.0, 7.0, 9.0, 6.0]])\n",
        "print(kn_pred)"
      ],
      "metadata": {
        "colab": {
          "base_uri": "https://localhost:8080/"
        },
        "id": "psAYe2Fmznsj",
        "outputId": "91db34a2-d1a6-4bb8-841d-e2d58a7ae3b6"
      },
      "execution_count": 40,
      "outputs": [
        {
          "output_type": "stream",
          "name": "stdout",
          "text": [
            "['Aged Sumatra Espresso']\n"
          ]
        }
      ]
    },
    {
      "cell_type": "code",
      "source": [
        "coffee[coffee['name'] == 'Aged Sumatra Espresso']"
      ],
      "metadata": {
        "colab": {
          "base_uri": "https://localhost:8080/",
          "height": 212
        },
        "id": "mUHH6QrV0vNx",
        "outputId": "a4cd9b64-faa2-4c5b-8ca2-4b40f7fa8772"
      },
      "execution_count": 41,
      "outputs": [
        {
          "output_type": "execute_result",
          "data": {
            "text/plain": [
              "                                                   slug  \\\n",
              "1389  https://www.coffeereview.com/review/aged-sumat...   \n",
              "\n",
              "                       name   origin  rating                    roaster  \\\n",
              "1389  Aged Sumatra Espresso  Sumatra      88  Telluride Coffee Roasters   \n",
              "\n",
              "      aroma  acid_or_milk  body  flavor  aftertaste  \\\n",
              "1389    7.0           8.0   8.0     8.0         7.0   \n",
              "\n",
              "                                                 desc_1  \\\n",
              "1389  Evaluated as espresso. Sweet, odd, earth-toned...   \n",
              "\n",
              "                                                 desc_2  \\\n",
              "1389  This coffee was processed by the washed method...   \n",
              "\n",
              "                                                 desc_3  \n",
              "1389  The sweet, fruit-on-the-edge of decay characte...  "
            ],
            "text/html": [
              "\n",
              "  <div id=\"df-e71fd1d4-2d22-49e1-9473-549e6ce3f02a\">\n",
              "    <div class=\"colab-df-container\">\n",
              "      <div>\n",
              "<style scoped>\n",
              "    .dataframe tbody tr th:only-of-type {\n",
              "        vertical-align: middle;\n",
              "    }\n",
              "\n",
              "    .dataframe tbody tr th {\n",
              "        vertical-align: top;\n",
              "    }\n",
              "\n",
              "    .dataframe thead th {\n",
              "        text-align: right;\n",
              "    }\n",
              "</style>\n",
              "<table border=\"1\" class=\"dataframe\">\n",
              "  <thead>\n",
              "    <tr style=\"text-align: right;\">\n",
              "      <th></th>\n",
              "      <th>slug</th>\n",
              "      <th>name</th>\n",
              "      <th>origin</th>\n",
              "      <th>rating</th>\n",
              "      <th>roaster</th>\n",
              "      <th>aroma</th>\n",
              "      <th>acid_or_milk</th>\n",
              "      <th>body</th>\n",
              "      <th>flavor</th>\n",
              "      <th>aftertaste</th>\n",
              "      <th>desc_1</th>\n",
              "      <th>desc_2</th>\n",
              "      <th>desc_3</th>\n",
              "    </tr>\n",
              "  </thead>\n",
              "  <tbody>\n",
              "    <tr>\n",
              "      <th>1389</th>\n",
              "      <td>https://www.coffeereview.com/review/aged-sumat...</td>\n",
              "      <td>Aged Sumatra Espresso</td>\n",
              "      <td>Sumatra</td>\n",
              "      <td>88</td>\n",
              "      <td>Telluride Coffee Roasters</td>\n",
              "      <td>7.0</td>\n",
              "      <td>8.0</td>\n",
              "      <td>8.0</td>\n",
              "      <td>8.0</td>\n",
              "      <td>7.0</td>\n",
              "      <td>Evaluated as espresso. Sweet, odd, earth-toned...</td>\n",
              "      <td>This coffee was processed by the washed method...</td>\n",
              "      <td>The sweet, fruit-on-the-edge of decay characte...</td>\n",
              "    </tr>\n",
              "  </tbody>\n",
              "</table>\n",
              "</div>\n",
              "      <button class=\"colab-df-convert\" onclick=\"convertToInteractive('df-e71fd1d4-2d22-49e1-9473-549e6ce3f02a')\"\n",
              "              title=\"Convert this dataframe to an interactive table.\"\n",
              "              style=\"display:none;\">\n",
              "        \n",
              "  <svg xmlns=\"http://www.w3.org/2000/svg\" height=\"24px\"viewBox=\"0 0 24 24\"\n",
              "       width=\"24px\">\n",
              "    <path d=\"M0 0h24v24H0V0z\" fill=\"none\"/>\n",
              "    <path d=\"M18.56 5.44l.94 2.06.94-2.06 2.06-.94-2.06-.94-.94-2.06-.94 2.06-2.06.94zm-11 1L8.5 8.5l.94-2.06 2.06-.94-2.06-.94L8.5 2.5l-.94 2.06-2.06.94zm10 10l.94 2.06.94-2.06 2.06-.94-2.06-.94-.94-2.06-.94 2.06-2.06.94z\"/><path d=\"M17.41 7.96l-1.37-1.37c-.4-.4-.92-.59-1.43-.59-.52 0-1.04.2-1.43.59L10.3 9.45l-7.72 7.72c-.78.78-.78 2.05 0 2.83L4 21.41c.39.39.9.59 1.41.59.51 0 1.02-.2 1.41-.59l7.78-7.78 2.81-2.81c.8-.78.8-2.07 0-2.86zM5.41 20L4 18.59l7.72-7.72 1.47 1.35L5.41 20z\"/>\n",
              "  </svg>\n",
              "      </button>\n",
              "      \n",
              "  <style>\n",
              "    .colab-df-container {\n",
              "      display:flex;\n",
              "      flex-wrap:wrap;\n",
              "      gap: 12px;\n",
              "    }\n",
              "\n",
              "    .colab-df-convert {\n",
              "      background-color: #E8F0FE;\n",
              "      border: none;\n",
              "      border-radius: 50%;\n",
              "      cursor: pointer;\n",
              "      display: none;\n",
              "      fill: #1967D2;\n",
              "      height: 32px;\n",
              "      padding: 0 0 0 0;\n",
              "      width: 32px;\n",
              "    }\n",
              "\n",
              "    .colab-df-convert:hover {\n",
              "      background-color: #E2EBFA;\n",
              "      box-shadow: 0px 1px 2px rgba(60, 64, 67, 0.3), 0px 1px 3px 1px rgba(60, 64, 67, 0.15);\n",
              "      fill: #174EA6;\n",
              "    }\n",
              "\n",
              "    [theme=dark] .colab-df-convert {\n",
              "      background-color: #3B4455;\n",
              "      fill: #D2E3FC;\n",
              "    }\n",
              "\n",
              "    [theme=dark] .colab-df-convert:hover {\n",
              "      background-color: #434B5C;\n",
              "      box-shadow: 0px 1px 3px 1px rgba(0, 0, 0, 0.15);\n",
              "      filter: drop-shadow(0px 1px 2px rgba(0, 0, 0, 0.3));\n",
              "      fill: #FFFFFF;\n",
              "    }\n",
              "  </style>\n",
              "\n",
              "      <script>\n",
              "        const buttonEl =\n",
              "          document.querySelector('#df-e71fd1d4-2d22-49e1-9473-549e6ce3f02a button.colab-df-convert');\n",
              "        buttonEl.style.display =\n",
              "          google.colab.kernel.accessAllowed ? 'block' : 'none';\n",
              "\n",
              "        async function convertToInteractive(key) {\n",
              "          const element = document.querySelector('#df-e71fd1d4-2d22-49e1-9473-549e6ce3f02a');\n",
              "          const dataTable =\n",
              "            await google.colab.kernel.invokeFunction('convertToInteractive',\n",
              "                                                     [key], {});\n",
              "          if (!dataTable) return;\n",
              "\n",
              "          const docLinkHtml = 'Like what you see? Visit the ' +\n",
              "            '<a target=\"_blank\" href=https://colab.research.google.com/notebooks/data_table.ipynb>data table notebook</a>'\n",
              "            + ' to learn more about interactive tables.';\n",
              "          element.innerHTML = '';\n",
              "          dataTable['output_type'] = 'display_data';\n",
              "          await google.colab.output.renderOutput(dataTable, element);\n",
              "          const docLink = document.createElement('div');\n",
              "          docLink.innerHTML = docLinkHtml;\n",
              "          element.appendChild(docLink);\n",
              "        }\n",
              "      </script>\n",
              "    </div>\n",
              "  </div>\n",
              "  "
            ]
          },
          "metadata": {},
          "execution_count": 41
        }
      ]
    },
    {
      "cell_type": "markdown",
      "source": [
        "### **Random Forest**"
      ],
      "metadata": {
        "id": "YdoayzXd0VxV"
      }
    },
    {
      "cell_type": "code",
      "source": [
        "model_3.fit(X.values, y)"
      ],
      "metadata": {
        "colab": {
          "base_uri": "https://localhost:8080/"
        },
        "id": "NGVXLXV10VEV",
        "outputId": "9a0ba0d4-8904-47b5-c6f2-9ee8345037bc"
      },
      "execution_count": 32,
      "outputs": [
        {
          "output_type": "execute_result",
          "data": {
            "text/plain": [
              "RandomForestClassifier()"
            ]
          },
          "metadata": {},
          "execution_count": 32
        }
      ]
    },
    {
      "cell_type": "code",
      "source": [
        "rf_pred = model_3.predict([[5.0, 8.0, 7.0, 9.0, 6.0]])\n",
        "print(rf_pred)"
      ],
      "metadata": {
        "colab": {
          "base_uri": "https://localhost:8080/"
        },
        "id": "-KeX0ZN6CgTA",
        "outputId": "fff2987c-1134-457d-cd5d-36bebb5bcf8e"
      },
      "execution_count": 43,
      "outputs": [
        {
          "output_type": "stream",
          "name": "stdout",
          "text": [
            "['Super Instant Coffee']\n"
          ]
        }
      ]
    },
    {
      "cell_type": "code",
      "source": [
        "coffee[coffee['name'] == 'Super Instant Coffee']"
      ],
      "metadata": {
        "colab": {
          "base_uri": "https://localhost:8080/",
          "height": 212
        },
        "id": "neUcBhY70loW",
        "outputId": "5ec839a6-0a1e-4b60-fa2e-5aacad783584"
      },
      "execution_count": 44,
      "outputs": [
        {
          "output_type": "execute_result",
          "data": {
            "text/plain": [
              "                                                   slug                  name  \\\n",
              "1045  https://www.coffeereview.com/review/super-inst...  Super Instant Coffee   \n",
              "\n",
              "                origin  rating    roaster  aroma  acid_or_milk  body  flavor  \\\n",
              "1045  Sidamo, Ethiopia      89  Yum China    8.0           8.0   7.0     9.0   \n",
              "\n",
              "      aftertaste                                             desc_1  \\\n",
              "1045         7.0  Sweetly caramelly and briskly cocoa-toned. Dar...   \n",
              "\n",
              "                                                 desc_2  \\\n",
              "1045  Sold in individual, sealed plastic capsules, e...   \n",
              "\n",
              "                                                 desc_3  \n",
              "1045  Chocolate and caramel notes animate this light...  "
            ],
            "text/html": [
              "\n",
              "  <div id=\"df-1bfaea44-31e2-4bc3-bcde-9aa3880c5d56\">\n",
              "    <div class=\"colab-df-container\">\n",
              "      <div>\n",
              "<style scoped>\n",
              "    .dataframe tbody tr th:only-of-type {\n",
              "        vertical-align: middle;\n",
              "    }\n",
              "\n",
              "    .dataframe tbody tr th {\n",
              "        vertical-align: top;\n",
              "    }\n",
              "\n",
              "    .dataframe thead th {\n",
              "        text-align: right;\n",
              "    }\n",
              "</style>\n",
              "<table border=\"1\" class=\"dataframe\">\n",
              "  <thead>\n",
              "    <tr style=\"text-align: right;\">\n",
              "      <th></th>\n",
              "      <th>slug</th>\n",
              "      <th>name</th>\n",
              "      <th>origin</th>\n",
              "      <th>rating</th>\n",
              "      <th>roaster</th>\n",
              "      <th>aroma</th>\n",
              "      <th>acid_or_milk</th>\n",
              "      <th>body</th>\n",
              "      <th>flavor</th>\n",
              "      <th>aftertaste</th>\n",
              "      <th>desc_1</th>\n",
              "      <th>desc_2</th>\n",
              "      <th>desc_3</th>\n",
              "    </tr>\n",
              "  </thead>\n",
              "  <tbody>\n",
              "    <tr>\n",
              "      <th>1045</th>\n",
              "      <td>https://www.coffeereview.com/review/super-inst...</td>\n",
              "      <td>Super Instant Coffee</td>\n",
              "      <td>Sidamo, Ethiopia</td>\n",
              "      <td>89</td>\n",
              "      <td>Yum China</td>\n",
              "      <td>8.0</td>\n",
              "      <td>8.0</td>\n",
              "      <td>7.0</td>\n",
              "      <td>9.0</td>\n",
              "      <td>7.0</td>\n",
              "      <td>Sweetly caramelly and briskly cocoa-toned. Dar...</td>\n",
              "      <td>Sold in individual, sealed plastic capsules, e...</td>\n",
              "      <td>Chocolate and caramel notes animate this light...</td>\n",
              "    </tr>\n",
              "  </tbody>\n",
              "</table>\n",
              "</div>\n",
              "      <button class=\"colab-df-convert\" onclick=\"convertToInteractive('df-1bfaea44-31e2-4bc3-bcde-9aa3880c5d56')\"\n",
              "              title=\"Convert this dataframe to an interactive table.\"\n",
              "              style=\"display:none;\">\n",
              "        \n",
              "  <svg xmlns=\"http://www.w3.org/2000/svg\" height=\"24px\"viewBox=\"0 0 24 24\"\n",
              "       width=\"24px\">\n",
              "    <path d=\"M0 0h24v24H0V0z\" fill=\"none\"/>\n",
              "    <path d=\"M18.56 5.44l.94 2.06.94-2.06 2.06-.94-2.06-.94-.94-2.06-.94 2.06-2.06.94zm-11 1L8.5 8.5l.94-2.06 2.06-.94-2.06-.94L8.5 2.5l-.94 2.06-2.06.94zm10 10l.94 2.06.94-2.06 2.06-.94-2.06-.94-.94-2.06-.94 2.06-2.06.94z\"/><path d=\"M17.41 7.96l-1.37-1.37c-.4-.4-.92-.59-1.43-.59-.52 0-1.04.2-1.43.59L10.3 9.45l-7.72 7.72c-.78.78-.78 2.05 0 2.83L4 21.41c.39.39.9.59 1.41.59.51 0 1.02-.2 1.41-.59l7.78-7.78 2.81-2.81c.8-.78.8-2.07 0-2.86zM5.41 20L4 18.59l7.72-7.72 1.47 1.35L5.41 20z\"/>\n",
              "  </svg>\n",
              "      </button>\n",
              "      \n",
              "  <style>\n",
              "    .colab-df-container {\n",
              "      display:flex;\n",
              "      flex-wrap:wrap;\n",
              "      gap: 12px;\n",
              "    }\n",
              "\n",
              "    .colab-df-convert {\n",
              "      background-color: #E8F0FE;\n",
              "      border: none;\n",
              "      border-radius: 50%;\n",
              "      cursor: pointer;\n",
              "      display: none;\n",
              "      fill: #1967D2;\n",
              "      height: 32px;\n",
              "      padding: 0 0 0 0;\n",
              "      width: 32px;\n",
              "    }\n",
              "\n",
              "    .colab-df-convert:hover {\n",
              "      background-color: #E2EBFA;\n",
              "      box-shadow: 0px 1px 2px rgba(60, 64, 67, 0.3), 0px 1px 3px 1px rgba(60, 64, 67, 0.15);\n",
              "      fill: #174EA6;\n",
              "    }\n",
              "\n",
              "    [theme=dark] .colab-df-convert {\n",
              "      background-color: #3B4455;\n",
              "      fill: #D2E3FC;\n",
              "    }\n",
              "\n",
              "    [theme=dark] .colab-df-convert:hover {\n",
              "      background-color: #434B5C;\n",
              "      box-shadow: 0px 1px 3px 1px rgba(0, 0, 0, 0.15);\n",
              "      filter: drop-shadow(0px 1px 2px rgba(0, 0, 0, 0.3));\n",
              "      fill: #FFFFFF;\n",
              "    }\n",
              "  </style>\n",
              "\n",
              "      <script>\n",
              "        const buttonEl =\n",
              "          document.querySelector('#df-1bfaea44-31e2-4bc3-bcde-9aa3880c5d56 button.colab-df-convert');\n",
              "        buttonEl.style.display =\n",
              "          google.colab.kernel.accessAllowed ? 'block' : 'none';\n",
              "\n",
              "        async function convertToInteractive(key) {\n",
              "          const element = document.querySelector('#df-1bfaea44-31e2-4bc3-bcde-9aa3880c5d56');\n",
              "          const dataTable =\n",
              "            await google.colab.kernel.invokeFunction('convertToInteractive',\n",
              "                                                     [key], {});\n",
              "          if (!dataTable) return;\n",
              "\n",
              "          const docLinkHtml = 'Like what you see? Visit the ' +\n",
              "            '<a target=\"_blank\" href=https://colab.research.google.com/notebooks/data_table.ipynb>data table notebook</a>'\n",
              "            + ' to learn more about interactive tables.';\n",
              "          element.innerHTML = '';\n",
              "          dataTable['output_type'] = 'display_data';\n",
              "          await google.colab.output.renderOutput(dataTable, element);\n",
              "          const docLink = document.createElement('div');\n",
              "          docLink.innerHTML = docLinkHtml;\n",
              "          element.appendChild(docLink);\n",
              "        }\n",
              "      </script>\n",
              "    </div>\n",
              "  </div>\n",
              "  "
            ]
          },
          "metadata": {},
          "execution_count": 44
        }
      ]
    },
    {
      "cell_type": "markdown",
      "source": [
        "### **SVM**"
      ],
      "metadata": {
        "id": "PfBR7J8vum4_"
      }
    },
    {
      "cell_type": "code",
      "source": [
        "model.fit(X.values, y)"
      ],
      "metadata": {
        "colab": {
          "base_uri": "https://localhost:8080/"
        },
        "id": "FktQKgORur7a",
        "outputId": "0446f689-195c-405a-f0fe-a9973242fd50"
      },
      "execution_count": 22,
      "outputs": [
        {
          "output_type": "execute_result",
          "data": {
            "text/plain": [
              "SVC()"
            ]
          },
          "metadata": {},
          "execution_count": 22
        }
      ]
    },
    {
      "cell_type": "code",
      "source": [
        "svm_pred = model.predict([[5.0, 8.0, 7.0, 9.0, 6.0]])\n",
        "print(svm_pred)"
      ],
      "metadata": {
        "colab": {
          "base_uri": "https://localhost:8080/"
        },
        "id": "WU92VcoEuvAs",
        "outputId": "233fe7fd-9688-43c9-9607-c3758e3edd5e"
      },
      "execution_count": 37,
      "outputs": [
        {
          "output_type": "stream",
          "name": "stdout",
          "text": [
            "['Via Instant Veranda Blend Blonde']\n"
          ]
        }
      ]
    },
    {
      "cell_type": "code",
      "source": [
        "coffee[coffee['name'] == 'Via Instant Veranda Blend Blonde']"
      ],
      "metadata": {
        "colab": {
          "base_uri": "https://localhost:8080/",
          "height": 229
        },
        "id": "b6zA8C2L0w2g",
        "outputId": "05487ece-dc25-4764-faf1-7a881de26739"
      },
      "execution_count": 42,
      "outputs": [
        {
          "output_type": "execute_result",
          "data": {
            "text/plain": [
              "                                                   slug  \\\n",
              "1860  https://www.coffeereview.com/review/via-instan...   \n",
              "\n",
              "                                  name         origin  rating  \\\n",
              "1860  Via Instant Veranda Blend Blonde  Not disclosed      83   \n",
              "\n",
              "               roaster  aroma  acid_or_milk  body  flavor  aftertaste  \\\n",
              "1860  Starbucks Coffee    6.0           7.0   7.0     7.0         6.0   \n",
              "\n",
              "                                                 desc_1  \\\n",
              "1860  Evaluated at proportions of 5 grams of instant...   \n",
              "\n",
              "                                                 desc_2  \\\n",
              "1860  This coffee tied for the fifth-highest rating ...   \n",
              "\n",
              "                                                 desc_3  \n",
              "1860  We enjoyed the caramel, nut and cocoa and the ...  "
            ],
            "text/html": [
              "\n",
              "  <div id=\"df-2ba4e758-164a-4a45-84dd-785580540564\">\n",
              "    <div class=\"colab-df-container\">\n",
              "      <div>\n",
              "<style scoped>\n",
              "    .dataframe tbody tr th:only-of-type {\n",
              "        vertical-align: middle;\n",
              "    }\n",
              "\n",
              "    .dataframe tbody tr th {\n",
              "        vertical-align: top;\n",
              "    }\n",
              "\n",
              "    .dataframe thead th {\n",
              "        text-align: right;\n",
              "    }\n",
              "</style>\n",
              "<table border=\"1\" class=\"dataframe\">\n",
              "  <thead>\n",
              "    <tr style=\"text-align: right;\">\n",
              "      <th></th>\n",
              "      <th>slug</th>\n",
              "      <th>name</th>\n",
              "      <th>origin</th>\n",
              "      <th>rating</th>\n",
              "      <th>roaster</th>\n",
              "      <th>aroma</th>\n",
              "      <th>acid_or_milk</th>\n",
              "      <th>body</th>\n",
              "      <th>flavor</th>\n",
              "      <th>aftertaste</th>\n",
              "      <th>desc_1</th>\n",
              "      <th>desc_2</th>\n",
              "      <th>desc_3</th>\n",
              "    </tr>\n",
              "  </thead>\n",
              "  <tbody>\n",
              "    <tr>\n",
              "      <th>1860</th>\n",
              "      <td>https://www.coffeereview.com/review/via-instan...</td>\n",
              "      <td>Via Instant Veranda Blend Blonde</td>\n",
              "      <td>Not disclosed</td>\n",
              "      <td>83</td>\n",
              "      <td>Starbucks Coffee</td>\n",
              "      <td>6.0</td>\n",
              "      <td>7.0</td>\n",
              "      <td>7.0</td>\n",
              "      <td>7.0</td>\n",
              "      <td>6.0</td>\n",
              "      <td>Evaluated at proportions of 5 grams of instant...</td>\n",
              "      <td>This coffee tied for the fifth-highest rating ...</td>\n",
              "      <td>We enjoyed the caramel, nut and cocoa and the ...</td>\n",
              "    </tr>\n",
              "  </tbody>\n",
              "</table>\n",
              "</div>\n",
              "      <button class=\"colab-df-convert\" onclick=\"convertToInteractive('df-2ba4e758-164a-4a45-84dd-785580540564')\"\n",
              "              title=\"Convert this dataframe to an interactive table.\"\n",
              "              style=\"display:none;\">\n",
              "        \n",
              "  <svg xmlns=\"http://www.w3.org/2000/svg\" height=\"24px\"viewBox=\"0 0 24 24\"\n",
              "       width=\"24px\">\n",
              "    <path d=\"M0 0h24v24H0V0z\" fill=\"none\"/>\n",
              "    <path d=\"M18.56 5.44l.94 2.06.94-2.06 2.06-.94-2.06-.94-.94-2.06-.94 2.06-2.06.94zm-11 1L8.5 8.5l.94-2.06 2.06-.94-2.06-.94L8.5 2.5l-.94 2.06-2.06.94zm10 10l.94 2.06.94-2.06 2.06-.94-2.06-.94-.94-2.06-.94 2.06-2.06.94z\"/><path d=\"M17.41 7.96l-1.37-1.37c-.4-.4-.92-.59-1.43-.59-.52 0-1.04.2-1.43.59L10.3 9.45l-7.72 7.72c-.78.78-.78 2.05 0 2.83L4 21.41c.39.39.9.59 1.41.59.51 0 1.02-.2 1.41-.59l7.78-7.78 2.81-2.81c.8-.78.8-2.07 0-2.86zM5.41 20L4 18.59l7.72-7.72 1.47 1.35L5.41 20z\"/>\n",
              "  </svg>\n",
              "      </button>\n",
              "      \n",
              "  <style>\n",
              "    .colab-df-container {\n",
              "      display:flex;\n",
              "      flex-wrap:wrap;\n",
              "      gap: 12px;\n",
              "    }\n",
              "\n",
              "    .colab-df-convert {\n",
              "      background-color: #E8F0FE;\n",
              "      border: none;\n",
              "      border-radius: 50%;\n",
              "      cursor: pointer;\n",
              "      display: none;\n",
              "      fill: #1967D2;\n",
              "      height: 32px;\n",
              "      padding: 0 0 0 0;\n",
              "      width: 32px;\n",
              "    }\n",
              "\n",
              "    .colab-df-convert:hover {\n",
              "      background-color: #E2EBFA;\n",
              "      box-shadow: 0px 1px 2px rgba(60, 64, 67, 0.3), 0px 1px 3px 1px rgba(60, 64, 67, 0.15);\n",
              "      fill: #174EA6;\n",
              "    }\n",
              "\n",
              "    [theme=dark] .colab-df-convert {\n",
              "      background-color: #3B4455;\n",
              "      fill: #D2E3FC;\n",
              "    }\n",
              "\n",
              "    [theme=dark] .colab-df-convert:hover {\n",
              "      background-color: #434B5C;\n",
              "      box-shadow: 0px 1px 3px 1px rgba(0, 0, 0, 0.15);\n",
              "      filter: drop-shadow(0px 1px 2px rgba(0, 0, 0, 0.3));\n",
              "      fill: #FFFFFF;\n",
              "    }\n",
              "  </style>\n",
              "\n",
              "      <script>\n",
              "        const buttonEl =\n",
              "          document.querySelector('#df-2ba4e758-164a-4a45-84dd-785580540564 button.colab-df-convert');\n",
              "        buttonEl.style.display =\n",
              "          google.colab.kernel.accessAllowed ? 'block' : 'none';\n",
              "\n",
              "        async function convertToInteractive(key) {\n",
              "          const element = document.querySelector('#df-2ba4e758-164a-4a45-84dd-785580540564');\n",
              "          const dataTable =\n",
              "            await google.colab.kernel.invokeFunction('convertToInteractive',\n",
              "                                                     [key], {});\n",
              "          if (!dataTable) return;\n",
              "\n",
              "          const docLinkHtml = 'Like what you see? Visit the ' +\n",
              "            '<a target=\"_blank\" href=https://colab.research.google.com/notebooks/data_table.ipynb>data table notebook</a>'\n",
              "            + ' to learn more about interactive tables.';\n",
              "          element.innerHTML = '';\n",
              "          dataTable['output_type'] = 'display_data';\n",
              "          await google.colab.output.renderOutput(dataTable, element);\n",
              "          const docLink = document.createElement('div');\n",
              "          docLink.innerHTML = docLinkHtml;\n",
              "          element.appendChild(docLink);\n",
              "        }\n",
              "      </script>\n",
              "    </div>\n",
              "  </div>\n",
              "  "
            ]
          },
          "metadata": {},
          "execution_count": 42
        }
      ]
    },
    {
      "cell_type": "markdown",
      "source": [
        "### **Decision Tree**"
      ],
      "metadata": {
        "id": "1qOr2FOkjczT"
      }
    },
    {
      "cell_type": "code",
      "source": [
        "model_4.fit(X.values, y)"
      ],
      "metadata": {
        "colab": {
          "base_uri": "https://localhost:8080/"
        },
        "id": "9cWy52w9f3m_",
        "outputId": "87e7d844-8641-4521-881e-0aa06c3860cc"
      },
      "execution_count": 23,
      "outputs": [
        {
          "output_type": "execute_result",
          "data": {
            "text/plain": [
              "DecisionTreeClassifier()"
            ]
          },
          "metadata": {},
          "execution_count": 23
        }
      ]
    },
    {
      "cell_type": "code",
      "source": [
        "dt_pred = model_4.predict([[5.0, 8.0, 7.0, 9.0, 6.0]])\n",
        "print(dt_pred)"
      ],
      "metadata": {
        "colab": {
          "base_uri": "https://localhost:8080/"
        },
        "id": "MPgOm3jdf6Xq",
        "outputId": "0dc50a63-6de4-4cef-ada2-7f46b9049873"
      },
      "execution_count": 35,
      "outputs": [
        {
          "output_type": "stream",
          "name": "stdout",
          "text": [
            "['Via Instant Veranda Blend Blonde']\n"
          ]
        }
      ]
    },
    {
      "cell_type": "code",
      "source": [
        "coffee[coffee['name'] == 'Via Instant Veranda Blend Blonde']"
      ],
      "metadata": {
        "colab": {
          "base_uri": "https://localhost:8080/",
          "height": 229
        },
        "id": "Gl9Svnbnf-ar",
        "outputId": "761006af-20ab-4645-a542-6cf6af63ffdb"
      },
      "execution_count": 36,
      "outputs": [
        {
          "output_type": "execute_result",
          "data": {
            "text/plain": [
              "                                                   slug  \\\n",
              "1860  https://www.coffeereview.com/review/via-instan...   \n",
              "\n",
              "                                  name         origin  rating  \\\n",
              "1860  Via Instant Veranda Blend Blonde  Not disclosed      83   \n",
              "\n",
              "               roaster  aroma  acid_or_milk  body  flavor  aftertaste  \\\n",
              "1860  Starbucks Coffee    6.0           7.0   7.0     7.0         6.0   \n",
              "\n",
              "                                                 desc_1  \\\n",
              "1860  Evaluated at proportions of 5 grams of instant...   \n",
              "\n",
              "                                                 desc_2  \\\n",
              "1860  This coffee tied for the fifth-highest rating ...   \n",
              "\n",
              "                                                 desc_3  \n",
              "1860  We enjoyed the caramel, nut and cocoa and the ...  "
            ],
            "text/html": [
              "\n",
              "  <div id=\"df-5914ded0-4c5d-4095-b9b9-b91f33f988d9\">\n",
              "    <div class=\"colab-df-container\">\n",
              "      <div>\n",
              "<style scoped>\n",
              "    .dataframe tbody tr th:only-of-type {\n",
              "        vertical-align: middle;\n",
              "    }\n",
              "\n",
              "    .dataframe tbody tr th {\n",
              "        vertical-align: top;\n",
              "    }\n",
              "\n",
              "    .dataframe thead th {\n",
              "        text-align: right;\n",
              "    }\n",
              "</style>\n",
              "<table border=\"1\" class=\"dataframe\">\n",
              "  <thead>\n",
              "    <tr style=\"text-align: right;\">\n",
              "      <th></th>\n",
              "      <th>slug</th>\n",
              "      <th>name</th>\n",
              "      <th>origin</th>\n",
              "      <th>rating</th>\n",
              "      <th>roaster</th>\n",
              "      <th>aroma</th>\n",
              "      <th>acid_or_milk</th>\n",
              "      <th>body</th>\n",
              "      <th>flavor</th>\n",
              "      <th>aftertaste</th>\n",
              "      <th>desc_1</th>\n",
              "      <th>desc_2</th>\n",
              "      <th>desc_3</th>\n",
              "    </tr>\n",
              "  </thead>\n",
              "  <tbody>\n",
              "    <tr>\n",
              "      <th>1860</th>\n",
              "      <td>https://www.coffeereview.com/review/via-instan...</td>\n",
              "      <td>Via Instant Veranda Blend Blonde</td>\n",
              "      <td>Not disclosed</td>\n",
              "      <td>83</td>\n",
              "      <td>Starbucks Coffee</td>\n",
              "      <td>6.0</td>\n",
              "      <td>7.0</td>\n",
              "      <td>7.0</td>\n",
              "      <td>7.0</td>\n",
              "      <td>6.0</td>\n",
              "      <td>Evaluated at proportions of 5 grams of instant...</td>\n",
              "      <td>This coffee tied for the fifth-highest rating ...</td>\n",
              "      <td>We enjoyed the caramel, nut and cocoa and the ...</td>\n",
              "    </tr>\n",
              "  </tbody>\n",
              "</table>\n",
              "</div>\n",
              "      <button class=\"colab-df-convert\" onclick=\"convertToInteractive('df-5914ded0-4c5d-4095-b9b9-b91f33f988d9')\"\n",
              "              title=\"Convert this dataframe to an interactive table.\"\n",
              "              style=\"display:none;\">\n",
              "        \n",
              "  <svg xmlns=\"http://www.w3.org/2000/svg\" height=\"24px\"viewBox=\"0 0 24 24\"\n",
              "       width=\"24px\">\n",
              "    <path d=\"M0 0h24v24H0V0z\" fill=\"none\"/>\n",
              "    <path d=\"M18.56 5.44l.94 2.06.94-2.06 2.06-.94-2.06-.94-.94-2.06-.94 2.06-2.06.94zm-11 1L8.5 8.5l.94-2.06 2.06-.94-2.06-.94L8.5 2.5l-.94 2.06-2.06.94zm10 10l.94 2.06.94-2.06 2.06-.94-2.06-.94-.94-2.06-.94 2.06-2.06.94z\"/><path d=\"M17.41 7.96l-1.37-1.37c-.4-.4-.92-.59-1.43-.59-.52 0-1.04.2-1.43.59L10.3 9.45l-7.72 7.72c-.78.78-.78 2.05 0 2.83L4 21.41c.39.39.9.59 1.41.59.51 0 1.02-.2 1.41-.59l7.78-7.78 2.81-2.81c.8-.78.8-2.07 0-2.86zM5.41 20L4 18.59l7.72-7.72 1.47 1.35L5.41 20z\"/>\n",
              "  </svg>\n",
              "      </button>\n",
              "      \n",
              "  <style>\n",
              "    .colab-df-container {\n",
              "      display:flex;\n",
              "      flex-wrap:wrap;\n",
              "      gap: 12px;\n",
              "    }\n",
              "\n",
              "    .colab-df-convert {\n",
              "      background-color: #E8F0FE;\n",
              "      border: none;\n",
              "      border-radius: 50%;\n",
              "      cursor: pointer;\n",
              "      display: none;\n",
              "      fill: #1967D2;\n",
              "      height: 32px;\n",
              "      padding: 0 0 0 0;\n",
              "      width: 32px;\n",
              "    }\n",
              "\n",
              "    .colab-df-convert:hover {\n",
              "      background-color: #E2EBFA;\n",
              "      box-shadow: 0px 1px 2px rgba(60, 64, 67, 0.3), 0px 1px 3px 1px rgba(60, 64, 67, 0.15);\n",
              "      fill: #174EA6;\n",
              "    }\n",
              "\n",
              "    [theme=dark] .colab-df-convert {\n",
              "      background-color: #3B4455;\n",
              "      fill: #D2E3FC;\n",
              "    }\n",
              "\n",
              "    [theme=dark] .colab-df-convert:hover {\n",
              "      background-color: #434B5C;\n",
              "      box-shadow: 0px 1px 3px 1px rgba(0, 0, 0, 0.15);\n",
              "      filter: drop-shadow(0px 1px 2px rgba(0, 0, 0, 0.3));\n",
              "      fill: #FFFFFF;\n",
              "    }\n",
              "  </style>\n",
              "\n",
              "      <script>\n",
              "        const buttonEl =\n",
              "          document.querySelector('#df-5914ded0-4c5d-4095-b9b9-b91f33f988d9 button.colab-df-convert');\n",
              "        buttonEl.style.display =\n",
              "          google.colab.kernel.accessAllowed ? 'block' : 'none';\n",
              "\n",
              "        async function convertToInteractive(key) {\n",
              "          const element = document.querySelector('#df-5914ded0-4c5d-4095-b9b9-b91f33f988d9');\n",
              "          const dataTable =\n",
              "            await google.colab.kernel.invokeFunction('convertToInteractive',\n",
              "                                                     [key], {});\n",
              "          if (!dataTable) return;\n",
              "\n",
              "          const docLinkHtml = 'Like what you see? Visit the ' +\n",
              "            '<a target=\"_blank\" href=https://colab.research.google.com/notebooks/data_table.ipynb>data table notebook</a>'\n",
              "            + ' to learn more about interactive tables.';\n",
              "          element.innerHTML = '';\n",
              "          dataTable['output_type'] = 'display_data';\n",
              "          await google.colab.output.renderOutput(dataTable, element);\n",
              "          const docLink = document.createElement('div');\n",
              "          docLink.innerHTML = docLinkHtml;\n",
              "          element.appendChild(docLink);\n",
              "        }\n",
              "      </script>\n",
              "    </div>\n",
              "  </div>\n",
              "  "
            ]
          },
          "metadata": {},
          "execution_count": 36
        }
      ]
    },
    {
      "cell_type": "markdown",
      "source": [
        "### **Export Classifier Model**"
      ],
      "metadata": {
        "id": "dWI-cUj8rS4X"
      }
    },
    {
      "cell_type": "markdown",
      "source": [
        "Because of several algorithms that we have tried by entering the same data produces different outputs, and we see the results of the SVM and Decision Tree models have the closest output from the data entered but we chose Decision Tree because it has the smallest model size to be applied to machine learning."
      ],
      "metadata": {
        "id": "1YeBdaP7rMBg"
      }
    },
    {
      "cell_type": "code",
      "source": [
        "# dt model is stored in the \"model_4\" variable\n",
        "joblib.dump(model_4,'./dt_model.pkl')"
      ],
      "metadata": {
        "colab": {
          "base_uri": "https://localhost:8080/"
        },
        "id": "H-X--oLNgDfy",
        "outputId": "e87fc85a-5f06-45b6-b9a7-f59095f7e30b"
      },
      "execution_count": 26,
      "outputs": [
        {
          "output_type": "execute_result",
          "data": {
            "text/plain": [
              "['./dt_model.pkl']"
            ]
          },
          "metadata": {},
          "execution_count": 26
        }
      ]
    }
  ]
}