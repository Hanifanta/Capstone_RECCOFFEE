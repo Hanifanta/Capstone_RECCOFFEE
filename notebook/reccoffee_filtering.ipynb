{
  "nbformat": 4,
  "nbformat_minor": 0,
  "metadata": {
    "colab": {
      "provenance": [],
      "include_colab_link": true
    },
    "kernelspec": {
      "name": "python3",
      "display_name": "Python 3"
    },
    "language_info": {
      "name": "python"
    }
  },
  "cells": [
    {
      "cell_type": "markdown",
      "metadata": {
        "id": "view-in-github",
        "colab_type": "text"
      },
      "source": [
        "<a href=\"https://colab.research.google.com/github/Hanifanta/Capstone_RECCOFFEE/blob/main/notebook/reccoffee_filtering.ipynb\" target=\"_parent\"><img src=\"https://colab.research.google.com/assets/colab-badge.svg\" alt=\"Open In Colab\"/></a>"
      ]
    },
    {
      "cell_type": "markdown",
      "source": [
        "##**Import Library**"
      ],
      "metadata": {
        "id": "-2dyDVdrzcqE"
      }
    },
    {
      "cell_type": "code",
      "source": [
        "pip install joblib"
      ],
      "metadata": {
        "colab": {
          "base_uri": "https://localhost:8080/"
        },
        "id": "3CBz7KFksBx7",
        "outputId": "736b656b-f50a-455e-cfb8-4d96d4c1a685"
      },
      "execution_count": 1,
      "outputs": [
        {
          "output_type": "stream",
          "name": "stdout",
          "text": [
            "Looking in indexes: https://pypi.org/simple, https://us-python.pkg.dev/colab-wheels/public/simple/\n",
            "Requirement already satisfied: joblib in /usr/local/lib/python3.7/dist-packages (1.2.0)\n"
          ]
        }
      ]
    },
    {
      "cell_type": "code",
      "execution_count": 2,
      "metadata": {
        "id": "7laNc6AjzcEo"
      },
      "outputs": [],
      "source": [
        "# Data loading and data analysis\n",
        "import pandas as pd\n",
        "import joblib\n",
        "\n",
        "# Modelling\n",
        "from sklearn import svm\n",
        "from sklearn.neighbors import KNeighborsClassifier\n",
        "from sklearn.ensemble import RandomForestClassifier\n",
        "from sklearn.metrics import accuracy_score"
      ]
    },
    {
      "cell_type": "markdown",
      "source": [
        "##**Data Preprocession**"
      ],
      "metadata": {
        "id": "sdpnKeum09s_"
      }
    },
    {
      "cell_type": "code",
      "source": [
        "coffee = pd.read_csv('/content/coffee_clean_rev.csv')\n",
        "coffee.head(5)"
      ],
      "metadata": {
        "colab": {
          "base_uri": "https://localhost:8080/",
          "height": 669
        },
        "id": "PhHAjYbuzjBc",
        "outputId": "9960bc96-8edb-438b-f034-06b4685f1f07"
      },
      "execution_count": 3,
      "outputs": [
        {
          "output_type": "execute_result",
          "data": {
            "text/plain": [
              "                                                slug  \\\n",
              "0  https://www.coffeereview.com/review/ethiopia-r...   \n",
              "1  https://www.coffeereview.com/review/double-ana...   \n",
              "2  https://www.coffeereview.com/review/ethiopia-c...   \n",
              "3  https://www.coffeereview.com/review/ethiopia-h...   \n",
              "4  https://www.coffeereview.com/review/colombia-p...   \n",
              "\n",
              "                                           name  \\\n",
              "0                     Ethiopia Reko Yirgacheffe   \n",
              "1  Double-Anaerobic Fermentation Tamiru Tadesse   \n",
              "2          Ethiopia Chelbesa Danche Yirgacheffe   \n",
              "3         Ethiopia Honey Process Tamiru Tadesse   \n",
              "4                      Colombia Planadas Tolima   \n",
              "\n",
              "                                            origin  rating  \\\n",
              "0    Yirgacheffe growing region, southern Ethiopia      94   \n",
              "1    Sidamo growing region, south-central Ethiopia      94   \n",
              "2  Chelchele, Gedeb District, Gedeo Zone, Ethiopia      94   \n",
              "3    Sidamo growing region, south-central Ethiopia      94   \n",
              "4                                 Tolima, Colombia      93   \n",
              "\n",
              "                 roaster  aroma  acid_or_milk  body  flavor  aftertaste  \\\n",
              "0          Temple Coffee    9.0           9.0   9.0     9.0         8.0   \n",
              "1     Genesis Coffee Lab    9.0           9.0   9.0     9.0         8.0   \n",
              "2  Jaunt Coffee Roasters    9.0           9.0   9.0     9.0         8.0   \n",
              "3     Genesis Coffee Lab    9.0           9.0   9.0     9.0         8.0   \n",
              "4  Jaunt Coffee Roasters    9.0           9.0   8.0     9.0         8.0   \n",
              "\n",
              "                                              desc_1  \\\n",
              "0  Rich-toned, deeply floral. White peach, tea ro...   \n",
              "1  Richly floral-toned, crisply sweet. Honeysuckl...   \n",
              "2  Elegantly sweet, floral-toned. Lilac, almond, ...   \n",
              "3  Delicately fruit-toned, tisane-like. Dried str...   \n",
              "4  Delicate, richly aromatic. Pineapple, almond n...   \n",
              "\n",
              "                                              desc_2  \\\n",
              "0  Produced by the Reko Farming Cooperative from ...   \n",
              "1  Produced by Tamiru Tadesse of Alo Coffee. Sout...   \n",
              "2  Produced by the METAD farm and mill in souther...   \n",
              "3  Produced by Tamiru Tadesse of Alo Coffee. Sout...   \n",
              "4  Produced by Jorge Elias Rojas entirely of the ...   \n",
              "\n",
              "                                              desc_3  \n",
              "0  A classic washed Yirgacheffe cup driven by not...  \n",
              "1  A floral-driven anaerobic Ethiopia cup free of...  \n",
              "2  A brightly sweet, fragrantly floral-driven was...  \n",
              "3  A delicate, elegant, honey-processed Sidamo cu...  \n",
              "4  A lovely Colombia Geisha cup, finely tea-like ...  "
            ],
            "text/html": [
              "\n",
              "  <div id=\"df-1ad0e11a-a91f-4e34-8fad-fcbd9a342357\">\n",
              "    <div class=\"colab-df-container\">\n",
              "      <div>\n",
              "<style scoped>\n",
              "    .dataframe tbody tr th:only-of-type {\n",
              "        vertical-align: middle;\n",
              "    }\n",
              "\n",
              "    .dataframe tbody tr th {\n",
              "        vertical-align: top;\n",
              "    }\n",
              "\n",
              "    .dataframe thead th {\n",
              "        text-align: right;\n",
              "    }\n",
              "</style>\n",
              "<table border=\"1\" class=\"dataframe\">\n",
              "  <thead>\n",
              "    <tr style=\"text-align: right;\">\n",
              "      <th></th>\n",
              "      <th>slug</th>\n",
              "      <th>name</th>\n",
              "      <th>origin</th>\n",
              "      <th>rating</th>\n",
              "      <th>roaster</th>\n",
              "      <th>aroma</th>\n",
              "      <th>acid_or_milk</th>\n",
              "      <th>body</th>\n",
              "      <th>flavor</th>\n",
              "      <th>aftertaste</th>\n",
              "      <th>desc_1</th>\n",
              "      <th>desc_2</th>\n",
              "      <th>desc_3</th>\n",
              "    </tr>\n",
              "  </thead>\n",
              "  <tbody>\n",
              "    <tr>\n",
              "      <th>0</th>\n",
              "      <td>https://www.coffeereview.com/review/ethiopia-r...</td>\n",
              "      <td>Ethiopia Reko Yirgacheffe</td>\n",
              "      <td>Yirgacheffe growing region, southern Ethiopia</td>\n",
              "      <td>94</td>\n",
              "      <td>Temple Coffee</td>\n",
              "      <td>9.0</td>\n",
              "      <td>9.0</td>\n",
              "      <td>9.0</td>\n",
              "      <td>9.0</td>\n",
              "      <td>8.0</td>\n",
              "      <td>Rich-toned, deeply floral. White peach, tea ro...</td>\n",
              "      <td>Produced by the Reko Farming Cooperative from ...</td>\n",
              "      <td>A classic washed Yirgacheffe cup driven by not...</td>\n",
              "    </tr>\n",
              "    <tr>\n",
              "      <th>1</th>\n",
              "      <td>https://www.coffeereview.com/review/double-ana...</td>\n",
              "      <td>Double-Anaerobic Fermentation Tamiru Tadesse</td>\n",
              "      <td>Sidamo growing region, south-central Ethiopia</td>\n",
              "      <td>94</td>\n",
              "      <td>Genesis Coffee Lab</td>\n",
              "      <td>9.0</td>\n",
              "      <td>9.0</td>\n",
              "      <td>9.0</td>\n",
              "      <td>9.0</td>\n",
              "      <td>8.0</td>\n",
              "      <td>Richly floral-toned, crisply sweet. Honeysuckl...</td>\n",
              "      <td>Produced by Tamiru Tadesse of Alo Coffee. Sout...</td>\n",
              "      <td>A floral-driven anaerobic Ethiopia cup free of...</td>\n",
              "    </tr>\n",
              "    <tr>\n",
              "      <th>2</th>\n",
              "      <td>https://www.coffeereview.com/review/ethiopia-c...</td>\n",
              "      <td>Ethiopia Chelbesa Danche Yirgacheffe</td>\n",
              "      <td>Chelchele, Gedeb District, Gedeo Zone, Ethiopia</td>\n",
              "      <td>94</td>\n",
              "      <td>Jaunt Coffee Roasters</td>\n",
              "      <td>9.0</td>\n",
              "      <td>9.0</td>\n",
              "      <td>9.0</td>\n",
              "      <td>9.0</td>\n",
              "      <td>8.0</td>\n",
              "      <td>Elegantly sweet, floral-toned. Lilac, almond, ...</td>\n",
              "      <td>Produced by the METAD farm and mill in souther...</td>\n",
              "      <td>A brightly sweet, fragrantly floral-driven was...</td>\n",
              "    </tr>\n",
              "    <tr>\n",
              "      <th>3</th>\n",
              "      <td>https://www.coffeereview.com/review/ethiopia-h...</td>\n",
              "      <td>Ethiopia Honey Process Tamiru Tadesse</td>\n",
              "      <td>Sidamo growing region, south-central Ethiopia</td>\n",
              "      <td>94</td>\n",
              "      <td>Genesis Coffee Lab</td>\n",
              "      <td>9.0</td>\n",
              "      <td>9.0</td>\n",
              "      <td>9.0</td>\n",
              "      <td>9.0</td>\n",
              "      <td>8.0</td>\n",
              "      <td>Delicately fruit-toned, tisane-like. Dried str...</td>\n",
              "      <td>Produced by Tamiru Tadesse of Alo Coffee. Sout...</td>\n",
              "      <td>A delicate, elegant, honey-processed Sidamo cu...</td>\n",
              "    </tr>\n",
              "    <tr>\n",
              "      <th>4</th>\n",
              "      <td>https://www.coffeereview.com/review/colombia-p...</td>\n",
              "      <td>Colombia Planadas Tolima</td>\n",
              "      <td>Tolima, Colombia</td>\n",
              "      <td>93</td>\n",
              "      <td>Jaunt Coffee Roasters</td>\n",
              "      <td>9.0</td>\n",
              "      <td>9.0</td>\n",
              "      <td>8.0</td>\n",
              "      <td>9.0</td>\n",
              "      <td>8.0</td>\n",
              "      <td>Delicate, richly aromatic. Pineapple, almond n...</td>\n",
              "      <td>Produced by Jorge Elias Rojas entirely of the ...</td>\n",
              "      <td>A lovely Colombia Geisha cup, finely tea-like ...</td>\n",
              "    </tr>\n",
              "  </tbody>\n",
              "</table>\n",
              "</div>\n",
              "      <button class=\"colab-df-convert\" onclick=\"convertToInteractive('df-1ad0e11a-a91f-4e34-8fad-fcbd9a342357')\"\n",
              "              title=\"Convert this dataframe to an interactive table.\"\n",
              "              style=\"display:none;\">\n",
              "        \n",
              "  <svg xmlns=\"http://www.w3.org/2000/svg\" height=\"24px\"viewBox=\"0 0 24 24\"\n",
              "       width=\"24px\">\n",
              "    <path d=\"M0 0h24v24H0V0z\" fill=\"none\"/>\n",
              "    <path d=\"M18.56 5.44l.94 2.06.94-2.06 2.06-.94-2.06-.94-.94-2.06-.94 2.06-2.06.94zm-11 1L8.5 8.5l.94-2.06 2.06-.94-2.06-.94L8.5 2.5l-.94 2.06-2.06.94zm10 10l.94 2.06.94-2.06 2.06-.94-2.06-.94-.94-2.06-.94 2.06-2.06.94z\"/><path d=\"M17.41 7.96l-1.37-1.37c-.4-.4-.92-.59-1.43-.59-.52 0-1.04.2-1.43.59L10.3 9.45l-7.72 7.72c-.78.78-.78 2.05 0 2.83L4 21.41c.39.39.9.59 1.41.59.51 0 1.02-.2 1.41-.59l7.78-7.78 2.81-2.81c.8-.78.8-2.07 0-2.86zM5.41 20L4 18.59l7.72-7.72 1.47 1.35L5.41 20z\"/>\n",
              "  </svg>\n",
              "      </button>\n",
              "      \n",
              "  <style>\n",
              "    .colab-df-container {\n",
              "      display:flex;\n",
              "      flex-wrap:wrap;\n",
              "      gap: 12px;\n",
              "    }\n",
              "\n",
              "    .colab-df-convert {\n",
              "      background-color: #E8F0FE;\n",
              "      border: none;\n",
              "      border-radius: 50%;\n",
              "      cursor: pointer;\n",
              "      display: none;\n",
              "      fill: #1967D2;\n",
              "      height: 32px;\n",
              "      padding: 0 0 0 0;\n",
              "      width: 32px;\n",
              "    }\n",
              "\n",
              "    .colab-df-convert:hover {\n",
              "      background-color: #E2EBFA;\n",
              "      box-shadow: 0px 1px 2px rgba(60, 64, 67, 0.3), 0px 1px 3px 1px rgba(60, 64, 67, 0.15);\n",
              "      fill: #174EA6;\n",
              "    }\n",
              "\n",
              "    [theme=dark] .colab-df-convert {\n",
              "      background-color: #3B4455;\n",
              "      fill: #D2E3FC;\n",
              "    }\n",
              "\n",
              "    [theme=dark] .colab-df-convert:hover {\n",
              "      background-color: #434B5C;\n",
              "      box-shadow: 0px 1px 3px 1px rgba(0, 0, 0, 0.15);\n",
              "      filter: drop-shadow(0px 1px 2px rgba(0, 0, 0, 0.3));\n",
              "      fill: #FFFFFF;\n",
              "    }\n",
              "  </style>\n",
              "\n",
              "      <script>\n",
              "        const buttonEl =\n",
              "          document.querySelector('#df-1ad0e11a-a91f-4e34-8fad-fcbd9a342357 button.colab-df-convert');\n",
              "        buttonEl.style.display =\n",
              "          google.colab.kernel.accessAllowed ? 'block' : 'none';\n",
              "\n",
              "        async function convertToInteractive(key) {\n",
              "          const element = document.querySelector('#df-1ad0e11a-a91f-4e34-8fad-fcbd9a342357');\n",
              "          const dataTable =\n",
              "            await google.colab.kernel.invokeFunction('convertToInteractive',\n",
              "                                                     [key], {});\n",
              "          if (!dataTable) return;\n",
              "\n",
              "          const docLinkHtml = 'Like what you see? Visit the ' +\n",
              "            '<a target=\"_blank\" href=https://colab.research.google.com/notebooks/data_table.ipynb>data table notebook</a>'\n",
              "            + ' to learn more about interactive tables.';\n",
              "          element.innerHTML = '';\n",
              "          dataTable['output_type'] = 'display_data';\n",
              "          await google.colab.output.renderOutput(dataTable, element);\n",
              "          const docLink = document.createElement('div');\n",
              "          docLink.innerHTML = docLinkHtml;\n",
              "          element.appendChild(docLink);\n",
              "        }\n",
              "      </script>\n",
              "    </div>\n",
              "  </div>\n",
              "  "
            ]
          },
          "metadata": {},
          "execution_count": 3
        }
      ]
    },
    {
      "cell_type": "code",
      "source": [
        "data = coffee.filter(['aroma', 'acid_or_milk', 'body', 'flavor', 'aftertaste', 'name'])\n",
        "data.head(5)"
      ],
      "metadata": {
        "colab": {
          "base_uri": "https://localhost:8080/",
          "height": 206
        },
        "id": "WGZiAnYU1ImR",
        "outputId": "f3967266-80eb-43df-b02c-2f9f9a94be59"
      },
      "execution_count": 4,
      "outputs": [
        {
          "output_type": "execute_result",
          "data": {
            "text/plain": [
              "   aroma  acid_or_milk  body  flavor  aftertaste  \\\n",
              "0    9.0           9.0   9.0     9.0         8.0   \n",
              "1    9.0           9.0   9.0     9.0         8.0   \n",
              "2    9.0           9.0   9.0     9.0         8.0   \n",
              "3    9.0           9.0   9.0     9.0         8.0   \n",
              "4    9.0           9.0   8.0     9.0         8.0   \n",
              "\n",
              "                                           name  \n",
              "0                     Ethiopia Reko Yirgacheffe  \n",
              "1  Double-Anaerobic Fermentation Tamiru Tadesse  \n",
              "2          Ethiopia Chelbesa Danche Yirgacheffe  \n",
              "3         Ethiopia Honey Process Tamiru Tadesse  \n",
              "4                      Colombia Planadas Tolima  "
            ],
            "text/html": [
              "\n",
              "  <div id=\"df-93d12f6f-904f-4cd9-92e7-d94cf512fa87\">\n",
              "    <div class=\"colab-df-container\">\n",
              "      <div>\n",
              "<style scoped>\n",
              "    .dataframe tbody tr th:only-of-type {\n",
              "        vertical-align: middle;\n",
              "    }\n",
              "\n",
              "    .dataframe tbody tr th {\n",
              "        vertical-align: top;\n",
              "    }\n",
              "\n",
              "    .dataframe thead th {\n",
              "        text-align: right;\n",
              "    }\n",
              "</style>\n",
              "<table border=\"1\" class=\"dataframe\">\n",
              "  <thead>\n",
              "    <tr style=\"text-align: right;\">\n",
              "      <th></th>\n",
              "      <th>aroma</th>\n",
              "      <th>acid_or_milk</th>\n",
              "      <th>body</th>\n",
              "      <th>flavor</th>\n",
              "      <th>aftertaste</th>\n",
              "      <th>name</th>\n",
              "    </tr>\n",
              "  </thead>\n",
              "  <tbody>\n",
              "    <tr>\n",
              "      <th>0</th>\n",
              "      <td>9.0</td>\n",
              "      <td>9.0</td>\n",
              "      <td>9.0</td>\n",
              "      <td>9.0</td>\n",
              "      <td>8.0</td>\n",
              "      <td>Ethiopia Reko Yirgacheffe</td>\n",
              "    </tr>\n",
              "    <tr>\n",
              "      <th>1</th>\n",
              "      <td>9.0</td>\n",
              "      <td>9.0</td>\n",
              "      <td>9.0</td>\n",
              "      <td>9.0</td>\n",
              "      <td>8.0</td>\n",
              "      <td>Double-Anaerobic Fermentation Tamiru Tadesse</td>\n",
              "    </tr>\n",
              "    <tr>\n",
              "      <th>2</th>\n",
              "      <td>9.0</td>\n",
              "      <td>9.0</td>\n",
              "      <td>9.0</td>\n",
              "      <td>9.0</td>\n",
              "      <td>8.0</td>\n",
              "      <td>Ethiopia Chelbesa Danche Yirgacheffe</td>\n",
              "    </tr>\n",
              "    <tr>\n",
              "      <th>3</th>\n",
              "      <td>9.0</td>\n",
              "      <td>9.0</td>\n",
              "      <td>9.0</td>\n",
              "      <td>9.0</td>\n",
              "      <td>8.0</td>\n",
              "      <td>Ethiopia Honey Process Tamiru Tadesse</td>\n",
              "    </tr>\n",
              "    <tr>\n",
              "      <th>4</th>\n",
              "      <td>9.0</td>\n",
              "      <td>9.0</td>\n",
              "      <td>8.0</td>\n",
              "      <td>9.0</td>\n",
              "      <td>8.0</td>\n",
              "      <td>Colombia Planadas Tolima</td>\n",
              "    </tr>\n",
              "  </tbody>\n",
              "</table>\n",
              "</div>\n",
              "      <button class=\"colab-df-convert\" onclick=\"convertToInteractive('df-93d12f6f-904f-4cd9-92e7-d94cf512fa87')\"\n",
              "              title=\"Convert this dataframe to an interactive table.\"\n",
              "              style=\"display:none;\">\n",
              "        \n",
              "  <svg xmlns=\"http://www.w3.org/2000/svg\" height=\"24px\"viewBox=\"0 0 24 24\"\n",
              "       width=\"24px\">\n",
              "    <path d=\"M0 0h24v24H0V0z\" fill=\"none\"/>\n",
              "    <path d=\"M18.56 5.44l.94 2.06.94-2.06 2.06-.94-2.06-.94-.94-2.06-.94 2.06-2.06.94zm-11 1L8.5 8.5l.94-2.06 2.06-.94-2.06-.94L8.5 2.5l-.94 2.06-2.06.94zm10 10l.94 2.06.94-2.06 2.06-.94-2.06-.94-.94-2.06-.94 2.06-2.06.94z\"/><path d=\"M17.41 7.96l-1.37-1.37c-.4-.4-.92-.59-1.43-.59-.52 0-1.04.2-1.43.59L10.3 9.45l-7.72 7.72c-.78.78-.78 2.05 0 2.83L4 21.41c.39.39.9.59 1.41.59.51 0 1.02-.2 1.41-.59l7.78-7.78 2.81-2.81c.8-.78.8-2.07 0-2.86zM5.41 20L4 18.59l7.72-7.72 1.47 1.35L5.41 20z\"/>\n",
              "  </svg>\n",
              "      </button>\n",
              "      \n",
              "  <style>\n",
              "    .colab-df-container {\n",
              "      display:flex;\n",
              "      flex-wrap:wrap;\n",
              "      gap: 12px;\n",
              "    }\n",
              "\n",
              "    .colab-df-convert {\n",
              "      background-color: #E8F0FE;\n",
              "      border: none;\n",
              "      border-radius: 50%;\n",
              "      cursor: pointer;\n",
              "      display: none;\n",
              "      fill: #1967D2;\n",
              "      height: 32px;\n",
              "      padding: 0 0 0 0;\n",
              "      width: 32px;\n",
              "    }\n",
              "\n",
              "    .colab-df-convert:hover {\n",
              "      background-color: #E2EBFA;\n",
              "      box-shadow: 0px 1px 2px rgba(60, 64, 67, 0.3), 0px 1px 3px 1px rgba(60, 64, 67, 0.15);\n",
              "      fill: #174EA6;\n",
              "    }\n",
              "\n",
              "    [theme=dark] .colab-df-convert {\n",
              "      background-color: #3B4455;\n",
              "      fill: #D2E3FC;\n",
              "    }\n",
              "\n",
              "    [theme=dark] .colab-df-convert:hover {\n",
              "      background-color: #434B5C;\n",
              "      box-shadow: 0px 1px 3px 1px rgba(0, 0, 0, 0.15);\n",
              "      filter: drop-shadow(0px 1px 2px rgba(0, 0, 0, 0.3));\n",
              "      fill: #FFFFFF;\n",
              "    }\n",
              "  </style>\n",
              "\n",
              "      <script>\n",
              "        const buttonEl =\n",
              "          document.querySelector('#df-93d12f6f-904f-4cd9-92e7-d94cf512fa87 button.colab-df-convert');\n",
              "        buttonEl.style.display =\n",
              "          google.colab.kernel.accessAllowed ? 'block' : 'none';\n",
              "\n",
              "        async function convertToInteractive(key) {\n",
              "          const element = document.querySelector('#df-93d12f6f-904f-4cd9-92e7-d94cf512fa87');\n",
              "          const dataTable =\n",
              "            await google.colab.kernel.invokeFunction('convertToInteractive',\n",
              "                                                     [key], {});\n",
              "          if (!dataTable) return;\n",
              "\n",
              "          const docLinkHtml = 'Like what you see? Visit the ' +\n",
              "            '<a target=\"_blank\" href=https://colab.research.google.com/notebooks/data_table.ipynb>data table notebook</a>'\n",
              "            + ' to learn more about interactive tables.';\n",
              "          element.innerHTML = '';\n",
              "          dataTable['output_type'] = 'display_data';\n",
              "          await google.colab.output.renderOutput(dataTable, element);\n",
              "          const docLink = document.createElement('div');\n",
              "          docLink.innerHTML = docLinkHtml;\n",
              "          element.appendChild(docLink);\n",
              "        }\n",
              "      </script>\n",
              "    </div>\n",
              "  </div>\n",
              "  "
            ]
          },
          "metadata": {},
          "execution_count": 4
        }
      ]
    },
    {
      "cell_type": "code",
      "source": [
        "data.rename(columns=({'name':'label'}), inplace=True)\n",
        "data.head(5)"
      ],
      "metadata": {
        "colab": {
          "base_uri": "https://localhost:8080/",
          "height": 206
        },
        "id": "mXDNfc84rLYA",
        "outputId": "911a4cf8-2ab6-422c-9c9a-588bac3cd3be"
      },
      "execution_count": 5,
      "outputs": [
        {
          "output_type": "execute_result",
          "data": {
            "text/plain": [
              "   aroma  acid_or_milk  body  flavor  aftertaste  \\\n",
              "0    9.0           9.0   9.0     9.0         8.0   \n",
              "1    9.0           9.0   9.0     9.0         8.0   \n",
              "2    9.0           9.0   9.0     9.0         8.0   \n",
              "3    9.0           9.0   9.0     9.0         8.0   \n",
              "4    9.0           9.0   8.0     9.0         8.0   \n",
              "\n",
              "                                          label  \n",
              "0                     Ethiopia Reko Yirgacheffe  \n",
              "1  Double-Anaerobic Fermentation Tamiru Tadesse  \n",
              "2          Ethiopia Chelbesa Danche Yirgacheffe  \n",
              "3         Ethiopia Honey Process Tamiru Tadesse  \n",
              "4                      Colombia Planadas Tolima  "
            ],
            "text/html": [
              "\n",
              "  <div id=\"df-2bba62fa-78ea-4c22-883c-a82004e7ce0c\">\n",
              "    <div class=\"colab-df-container\">\n",
              "      <div>\n",
              "<style scoped>\n",
              "    .dataframe tbody tr th:only-of-type {\n",
              "        vertical-align: middle;\n",
              "    }\n",
              "\n",
              "    .dataframe tbody tr th {\n",
              "        vertical-align: top;\n",
              "    }\n",
              "\n",
              "    .dataframe thead th {\n",
              "        text-align: right;\n",
              "    }\n",
              "</style>\n",
              "<table border=\"1\" class=\"dataframe\">\n",
              "  <thead>\n",
              "    <tr style=\"text-align: right;\">\n",
              "      <th></th>\n",
              "      <th>aroma</th>\n",
              "      <th>acid_or_milk</th>\n",
              "      <th>body</th>\n",
              "      <th>flavor</th>\n",
              "      <th>aftertaste</th>\n",
              "      <th>label</th>\n",
              "    </tr>\n",
              "  </thead>\n",
              "  <tbody>\n",
              "    <tr>\n",
              "      <th>0</th>\n",
              "      <td>9.0</td>\n",
              "      <td>9.0</td>\n",
              "      <td>9.0</td>\n",
              "      <td>9.0</td>\n",
              "      <td>8.0</td>\n",
              "      <td>Ethiopia Reko Yirgacheffe</td>\n",
              "    </tr>\n",
              "    <tr>\n",
              "      <th>1</th>\n",
              "      <td>9.0</td>\n",
              "      <td>9.0</td>\n",
              "      <td>9.0</td>\n",
              "      <td>9.0</td>\n",
              "      <td>8.0</td>\n",
              "      <td>Double-Anaerobic Fermentation Tamiru Tadesse</td>\n",
              "    </tr>\n",
              "    <tr>\n",
              "      <th>2</th>\n",
              "      <td>9.0</td>\n",
              "      <td>9.0</td>\n",
              "      <td>9.0</td>\n",
              "      <td>9.0</td>\n",
              "      <td>8.0</td>\n",
              "      <td>Ethiopia Chelbesa Danche Yirgacheffe</td>\n",
              "    </tr>\n",
              "    <tr>\n",
              "      <th>3</th>\n",
              "      <td>9.0</td>\n",
              "      <td>9.0</td>\n",
              "      <td>9.0</td>\n",
              "      <td>9.0</td>\n",
              "      <td>8.0</td>\n",
              "      <td>Ethiopia Honey Process Tamiru Tadesse</td>\n",
              "    </tr>\n",
              "    <tr>\n",
              "      <th>4</th>\n",
              "      <td>9.0</td>\n",
              "      <td>9.0</td>\n",
              "      <td>8.0</td>\n",
              "      <td>9.0</td>\n",
              "      <td>8.0</td>\n",
              "      <td>Colombia Planadas Tolima</td>\n",
              "    </tr>\n",
              "  </tbody>\n",
              "</table>\n",
              "</div>\n",
              "      <button class=\"colab-df-convert\" onclick=\"convertToInteractive('df-2bba62fa-78ea-4c22-883c-a82004e7ce0c')\"\n",
              "              title=\"Convert this dataframe to an interactive table.\"\n",
              "              style=\"display:none;\">\n",
              "        \n",
              "  <svg xmlns=\"http://www.w3.org/2000/svg\" height=\"24px\"viewBox=\"0 0 24 24\"\n",
              "       width=\"24px\">\n",
              "    <path d=\"M0 0h24v24H0V0z\" fill=\"none\"/>\n",
              "    <path d=\"M18.56 5.44l.94 2.06.94-2.06 2.06-.94-2.06-.94-.94-2.06-.94 2.06-2.06.94zm-11 1L8.5 8.5l.94-2.06 2.06-.94-2.06-.94L8.5 2.5l-.94 2.06-2.06.94zm10 10l.94 2.06.94-2.06 2.06-.94-2.06-.94-.94-2.06-.94 2.06-2.06.94z\"/><path d=\"M17.41 7.96l-1.37-1.37c-.4-.4-.92-.59-1.43-.59-.52 0-1.04.2-1.43.59L10.3 9.45l-7.72 7.72c-.78.78-.78 2.05 0 2.83L4 21.41c.39.39.9.59 1.41.59.51 0 1.02-.2 1.41-.59l7.78-7.78 2.81-2.81c.8-.78.8-2.07 0-2.86zM5.41 20L4 18.59l7.72-7.72 1.47 1.35L5.41 20z\"/>\n",
              "  </svg>\n",
              "      </button>\n",
              "      \n",
              "  <style>\n",
              "    .colab-df-container {\n",
              "      display:flex;\n",
              "      flex-wrap:wrap;\n",
              "      gap: 12px;\n",
              "    }\n",
              "\n",
              "    .colab-df-convert {\n",
              "      background-color: #E8F0FE;\n",
              "      border: none;\n",
              "      border-radius: 50%;\n",
              "      cursor: pointer;\n",
              "      display: none;\n",
              "      fill: #1967D2;\n",
              "      height: 32px;\n",
              "      padding: 0 0 0 0;\n",
              "      width: 32px;\n",
              "    }\n",
              "\n",
              "    .colab-df-convert:hover {\n",
              "      background-color: #E2EBFA;\n",
              "      box-shadow: 0px 1px 2px rgba(60, 64, 67, 0.3), 0px 1px 3px 1px rgba(60, 64, 67, 0.15);\n",
              "      fill: #174EA6;\n",
              "    }\n",
              "\n",
              "    [theme=dark] .colab-df-convert {\n",
              "      background-color: #3B4455;\n",
              "      fill: #D2E3FC;\n",
              "    }\n",
              "\n",
              "    [theme=dark] .colab-df-convert:hover {\n",
              "      background-color: #434B5C;\n",
              "      box-shadow: 0px 1px 3px 1px rgba(0, 0, 0, 0.15);\n",
              "      filter: drop-shadow(0px 1px 2px rgba(0, 0, 0, 0.3));\n",
              "      fill: #FFFFFF;\n",
              "    }\n",
              "  </style>\n",
              "\n",
              "      <script>\n",
              "        const buttonEl =\n",
              "          document.querySelector('#df-2bba62fa-78ea-4c22-883c-a82004e7ce0c button.colab-df-convert');\n",
              "        buttonEl.style.display =\n",
              "          google.colab.kernel.accessAllowed ? 'block' : 'none';\n",
              "\n",
              "        async function convertToInteractive(key) {\n",
              "          const element = document.querySelector('#df-2bba62fa-78ea-4c22-883c-a82004e7ce0c');\n",
              "          const dataTable =\n",
              "            await google.colab.kernel.invokeFunction('convertToInteractive',\n",
              "                                                     [key], {});\n",
              "          if (!dataTable) return;\n",
              "\n",
              "          const docLinkHtml = 'Like what you see? Visit the ' +\n",
              "            '<a target=\"_blank\" href=https://colab.research.google.com/notebooks/data_table.ipynb>data table notebook</a>'\n",
              "            + ' to learn more about interactive tables.';\n",
              "          element.innerHTML = '';\n",
              "          dataTable['output_type'] = 'display_data';\n",
              "          await google.colab.output.renderOutput(dataTable, element);\n",
              "          const docLink = document.createElement('div');\n",
              "          docLink.innerHTML = docLinkHtml;\n",
              "          element.appendChild(docLink);\n",
              "        }\n",
              "      </script>\n",
              "    </div>\n",
              "  </div>\n",
              "  "
            ]
          },
          "metadata": {},
          "execution_count": 5
        }
      ]
    },
    {
      "cell_type": "markdown",
      "source": [
        "##**Modelling**"
      ],
      "metadata": {
        "id": "WD_kl3H-03se"
      }
    },
    {
      "cell_type": "code",
      "source": [
        "X = data.iloc[:, 0:-1]\n",
        "y = data.iloc[:, -1]"
      ],
      "metadata": {
        "id": "1z_SIpiNvTo8"
      },
      "execution_count": 6,
      "outputs": []
    },
    {
      "cell_type": "code",
      "source": [
        "model = svm.SVC()\n",
        "model_2 = KNeighborsClassifier()\n",
        "model_3 = RandomForestClassifier(n_estimators=100)"
      ],
      "metadata": {
        "id": "q43ckSf2BqI5"
      },
      "execution_count": 7,
      "outputs": []
    },
    {
      "cell_type": "markdown",
      "source": [
        "**SVM**"
      ],
      "metadata": {
        "id": "PfBR7J8vum4_"
      }
    },
    {
      "cell_type": "code",
      "source": [
        "model.fit(X.values, y)"
      ],
      "metadata": {
        "colab": {
          "base_uri": "https://localhost:8080/"
        },
        "id": "FktQKgORur7a",
        "outputId": "de914e4d-adb3-4e1e-9f02-19b7839fe392"
      },
      "execution_count": 8,
      "outputs": [
        {
          "output_type": "execute_result",
          "data": {
            "text/plain": [
              "SVC()"
            ]
          },
          "metadata": {},
          "execution_count": 8
        }
      ]
    },
    {
      "cell_type": "code",
      "source": [
        "svm_pred = model.predict([[9.0, 9.0, 9.0, 9.0, 8.0]])\n",
        "print(svm_pred)"
      ],
      "metadata": {
        "colab": {
          "base_uri": "https://localhost:8080/"
        },
        "id": "WU92VcoEuvAs",
        "outputId": "d87068c2-aa82-45fa-c9bf-fe4d28c8cff8"
      },
      "execution_count": 9,
      "outputs": [
        {
          "output_type": "stream",
          "name": "stdout",
          "text": [
            "['Yule Blend 2018']\n"
          ]
        }
      ]
    },
    {
      "cell_type": "code",
      "source": [
        "coffee[coffee['name'] == 'Yule Blend 2018']"
      ],
      "metadata": {
        "colab": {
          "base_uri": "https://localhost:8080/",
          "height": 266
        },
        "id": "b6zA8C2L0w2g",
        "outputId": "209a31df-e99f-49a6-ce22-3ff4fa3a98d1"
      },
      "execution_count": 10,
      "outputs": [
        {
          "output_type": "execute_result",
          "data": {
            "text/plain": [
              "                                                   slug             name  \\\n",
              "2056  https://www.coffeereview.com/review/yule-blend...  Yule Blend 2018   \n",
              "\n",
              "                                       origin  rating            roaster  \\\n",
              "2056  Kirinyaga District, south-central Kenya      94  Flight Coffee Co.   \n",
              "\n",
              "      aroma  acid_or_milk  body  flavor  aftertaste  \\\n",
              "2056    9.0           9.0   9.0     9.0         8.0   \n",
              "\n",
              "                                                 desc_1  \\\n",
              "2056  Crisp, sweet-savory. Mulberry, pink peppercorn...   \n",
              "\n",
              "                                                 desc_2  \\\n",
              "2056  This coffee tied for the third-highest rating ...   \n",
              "\n",
              "                                                 desc_3  \n",
              "2056  A balanced, savory-leaning and richly sweet bl...  "
            ],
            "text/html": [
              "\n",
              "  <div id=\"df-50ead4f9-9656-4d08-b47b-7f8c69fc9225\">\n",
              "    <div class=\"colab-df-container\">\n",
              "      <div>\n",
              "<style scoped>\n",
              "    .dataframe tbody tr th:only-of-type {\n",
              "        vertical-align: middle;\n",
              "    }\n",
              "\n",
              "    .dataframe tbody tr th {\n",
              "        vertical-align: top;\n",
              "    }\n",
              "\n",
              "    .dataframe thead th {\n",
              "        text-align: right;\n",
              "    }\n",
              "</style>\n",
              "<table border=\"1\" class=\"dataframe\">\n",
              "  <thead>\n",
              "    <tr style=\"text-align: right;\">\n",
              "      <th></th>\n",
              "      <th>slug</th>\n",
              "      <th>name</th>\n",
              "      <th>origin</th>\n",
              "      <th>rating</th>\n",
              "      <th>roaster</th>\n",
              "      <th>aroma</th>\n",
              "      <th>acid_or_milk</th>\n",
              "      <th>body</th>\n",
              "      <th>flavor</th>\n",
              "      <th>aftertaste</th>\n",
              "      <th>desc_1</th>\n",
              "      <th>desc_2</th>\n",
              "      <th>desc_3</th>\n",
              "    </tr>\n",
              "  </thead>\n",
              "  <tbody>\n",
              "    <tr>\n",
              "      <th>2056</th>\n",
              "      <td>https://www.coffeereview.com/review/yule-blend...</td>\n",
              "      <td>Yule Blend 2018</td>\n",
              "      <td>Kirinyaga District, south-central Kenya</td>\n",
              "      <td>94</td>\n",
              "      <td>Flight Coffee Co.</td>\n",
              "      <td>9.0</td>\n",
              "      <td>9.0</td>\n",
              "      <td>9.0</td>\n",
              "      <td>9.0</td>\n",
              "      <td>8.0</td>\n",
              "      <td>Crisp, sweet-savory. Mulberry, pink peppercorn...</td>\n",
              "      <td>This coffee tied for the third-highest rating ...</td>\n",
              "      <td>A balanced, savory-leaning and richly sweet bl...</td>\n",
              "    </tr>\n",
              "  </tbody>\n",
              "</table>\n",
              "</div>\n",
              "      <button class=\"colab-df-convert\" onclick=\"convertToInteractive('df-50ead4f9-9656-4d08-b47b-7f8c69fc9225')\"\n",
              "              title=\"Convert this dataframe to an interactive table.\"\n",
              "              style=\"display:none;\">\n",
              "        \n",
              "  <svg xmlns=\"http://www.w3.org/2000/svg\" height=\"24px\"viewBox=\"0 0 24 24\"\n",
              "       width=\"24px\">\n",
              "    <path d=\"M0 0h24v24H0V0z\" fill=\"none\"/>\n",
              "    <path d=\"M18.56 5.44l.94 2.06.94-2.06 2.06-.94-2.06-.94-.94-2.06-.94 2.06-2.06.94zm-11 1L8.5 8.5l.94-2.06 2.06-.94-2.06-.94L8.5 2.5l-.94 2.06-2.06.94zm10 10l.94 2.06.94-2.06 2.06-.94-2.06-.94-.94-2.06-.94 2.06-2.06.94z\"/><path d=\"M17.41 7.96l-1.37-1.37c-.4-.4-.92-.59-1.43-.59-.52 0-1.04.2-1.43.59L10.3 9.45l-7.72 7.72c-.78.78-.78 2.05 0 2.83L4 21.41c.39.39.9.59 1.41.59.51 0 1.02-.2 1.41-.59l7.78-7.78 2.81-2.81c.8-.78.8-2.07 0-2.86zM5.41 20L4 18.59l7.72-7.72 1.47 1.35L5.41 20z\"/>\n",
              "  </svg>\n",
              "      </button>\n",
              "      \n",
              "  <style>\n",
              "    .colab-df-container {\n",
              "      display:flex;\n",
              "      flex-wrap:wrap;\n",
              "      gap: 12px;\n",
              "    }\n",
              "\n",
              "    .colab-df-convert {\n",
              "      background-color: #E8F0FE;\n",
              "      border: none;\n",
              "      border-radius: 50%;\n",
              "      cursor: pointer;\n",
              "      display: none;\n",
              "      fill: #1967D2;\n",
              "      height: 32px;\n",
              "      padding: 0 0 0 0;\n",
              "      width: 32px;\n",
              "    }\n",
              "\n",
              "    .colab-df-convert:hover {\n",
              "      background-color: #E2EBFA;\n",
              "      box-shadow: 0px 1px 2px rgba(60, 64, 67, 0.3), 0px 1px 3px 1px rgba(60, 64, 67, 0.15);\n",
              "      fill: #174EA6;\n",
              "    }\n",
              "\n",
              "    [theme=dark] .colab-df-convert {\n",
              "      background-color: #3B4455;\n",
              "      fill: #D2E3FC;\n",
              "    }\n",
              "\n",
              "    [theme=dark] .colab-df-convert:hover {\n",
              "      background-color: #434B5C;\n",
              "      box-shadow: 0px 1px 3px 1px rgba(0, 0, 0, 0.15);\n",
              "      filter: drop-shadow(0px 1px 2px rgba(0, 0, 0, 0.3));\n",
              "      fill: #FFFFFF;\n",
              "    }\n",
              "  </style>\n",
              "\n",
              "      <script>\n",
              "        const buttonEl =\n",
              "          document.querySelector('#df-50ead4f9-9656-4d08-b47b-7f8c69fc9225 button.colab-df-convert');\n",
              "        buttonEl.style.display =\n",
              "          google.colab.kernel.accessAllowed ? 'block' : 'none';\n",
              "\n",
              "        async function convertToInteractive(key) {\n",
              "          const element = document.querySelector('#df-50ead4f9-9656-4d08-b47b-7f8c69fc9225');\n",
              "          const dataTable =\n",
              "            await google.colab.kernel.invokeFunction('convertToInteractive',\n",
              "                                                     [key], {});\n",
              "          if (!dataTable) return;\n",
              "\n",
              "          const docLinkHtml = 'Like what you see? Visit the ' +\n",
              "            '<a target=\"_blank\" href=https://colab.research.google.com/notebooks/data_table.ipynb>data table notebook</a>'\n",
              "            + ' to learn more about interactive tables.';\n",
              "          element.innerHTML = '';\n",
              "          dataTable['output_type'] = 'display_data';\n",
              "          await google.colab.output.renderOutput(dataTable, element);\n",
              "          const docLink = document.createElement('div');\n",
              "          docLink.innerHTML = docLinkHtml;\n",
              "          element.appendChild(docLink);\n",
              "        }\n",
              "      </script>\n",
              "    </div>\n",
              "  </div>\n",
              "  "
            ]
          },
          "metadata": {},
          "execution_count": 10
        }
      ]
    },
    {
      "cell_type": "markdown",
      "source": [
        "**KN Classifier**"
      ],
      "metadata": {
        "id": "AIgrHZS7zo2y"
      }
    },
    {
      "cell_type": "code",
      "source": [
        "model_2.fit(X.values, y)"
      ],
      "metadata": {
        "colab": {
          "base_uri": "https://localhost:8080/"
        },
        "id": "74NxZJUrzk4I",
        "outputId": "71215d82-8225-42d7-b031-1a1e78715030"
      },
      "execution_count": 11,
      "outputs": [
        {
          "output_type": "execute_result",
          "data": {
            "text/plain": [
              "KNeighborsClassifier()"
            ]
          },
          "metadata": {},
          "execution_count": 11
        }
      ]
    },
    {
      "cell_type": "code",
      "source": [
        "kn_pred = model_2.predict([[9.0, 9.0, 9.0, 9.0, 8.0]])\n",
        "print(kn_pred)"
      ],
      "metadata": {
        "colab": {
          "base_uri": "https://localhost:8080/"
        },
        "id": "psAYe2Fmznsj",
        "outputId": "b1655146-a05c-475d-d42f-88f3e907a4da"
      },
      "execution_count": 12,
      "outputs": [
        {
          "output_type": "stream",
          "name": "stdout",
          "text": [
            "['Colombia Tres Dragones']\n"
          ]
        }
      ]
    },
    {
      "cell_type": "code",
      "source": [
        "coffee[coffee['name'] == 'Colombia Tres Dragones']"
      ],
      "metadata": {
        "colab": {
          "base_uri": "https://localhost:8080/",
          "height": 249
        },
        "id": "mUHH6QrV0vNx",
        "outputId": "a913d05f-144a-4962-f8bf-905d6fdfb2e1"
      },
      "execution_count": 13,
      "outputs": [
        {
          "output_type": "execute_result",
          "data": {
            "text/plain": [
              "                                                 slug                    name  \\\n",
              "45  https://www.coffeereview.com/review/colombia-t...  Colombia Tres Dragones   \n",
              "\n",
              "                                             origin  rating  \\\n",
              "45  Caicedonia, Valle de Cauca Department, Colombia      94   \n",
              "\n",
              "                      roaster  aroma  acid_or_milk  body  flavor  aftertaste  \\\n",
              "45  Bird Rock Coffee Roasters    9.0           9.0   9.0     9.0         8.0   \n",
              "\n",
              "                                               desc_1  \\\n",
              "45  Richly chocolaty, sweetly fermenty. Cherry cor...   \n",
              "\n",
              "                                               desc_2  \\\n",
              "45  Produced by Rigoberto and Rodrigo Herrera of F...   \n",
              "\n",
              "                                               desc_3  \n",
              "45  A delicately fermenty, richly chocolaty fruit ...  "
            ],
            "text/html": [
              "\n",
              "  <div id=\"df-288551eb-cd80-4016-906e-1a4d0cc206e8\">\n",
              "    <div class=\"colab-df-container\">\n",
              "      <div>\n",
              "<style scoped>\n",
              "    .dataframe tbody tr th:only-of-type {\n",
              "        vertical-align: middle;\n",
              "    }\n",
              "\n",
              "    .dataframe tbody tr th {\n",
              "        vertical-align: top;\n",
              "    }\n",
              "\n",
              "    .dataframe thead th {\n",
              "        text-align: right;\n",
              "    }\n",
              "</style>\n",
              "<table border=\"1\" class=\"dataframe\">\n",
              "  <thead>\n",
              "    <tr style=\"text-align: right;\">\n",
              "      <th></th>\n",
              "      <th>slug</th>\n",
              "      <th>name</th>\n",
              "      <th>origin</th>\n",
              "      <th>rating</th>\n",
              "      <th>roaster</th>\n",
              "      <th>aroma</th>\n",
              "      <th>acid_or_milk</th>\n",
              "      <th>body</th>\n",
              "      <th>flavor</th>\n",
              "      <th>aftertaste</th>\n",
              "      <th>desc_1</th>\n",
              "      <th>desc_2</th>\n",
              "      <th>desc_3</th>\n",
              "    </tr>\n",
              "  </thead>\n",
              "  <tbody>\n",
              "    <tr>\n",
              "      <th>45</th>\n",
              "      <td>https://www.coffeereview.com/review/colombia-t...</td>\n",
              "      <td>Colombia Tres Dragones</td>\n",
              "      <td>Caicedonia, Valle de Cauca Department, Colombia</td>\n",
              "      <td>94</td>\n",
              "      <td>Bird Rock Coffee Roasters</td>\n",
              "      <td>9.0</td>\n",
              "      <td>9.0</td>\n",
              "      <td>9.0</td>\n",
              "      <td>9.0</td>\n",
              "      <td>8.0</td>\n",
              "      <td>Richly chocolaty, sweetly fermenty. Cherry cor...</td>\n",
              "      <td>Produced by Rigoberto and Rodrigo Herrera of F...</td>\n",
              "      <td>A delicately fermenty, richly chocolaty fruit ...</td>\n",
              "    </tr>\n",
              "  </tbody>\n",
              "</table>\n",
              "</div>\n",
              "      <button class=\"colab-df-convert\" onclick=\"convertToInteractive('df-288551eb-cd80-4016-906e-1a4d0cc206e8')\"\n",
              "              title=\"Convert this dataframe to an interactive table.\"\n",
              "              style=\"display:none;\">\n",
              "        \n",
              "  <svg xmlns=\"http://www.w3.org/2000/svg\" height=\"24px\"viewBox=\"0 0 24 24\"\n",
              "       width=\"24px\">\n",
              "    <path d=\"M0 0h24v24H0V0z\" fill=\"none\"/>\n",
              "    <path d=\"M18.56 5.44l.94 2.06.94-2.06 2.06-.94-2.06-.94-.94-2.06-.94 2.06-2.06.94zm-11 1L8.5 8.5l.94-2.06 2.06-.94-2.06-.94L8.5 2.5l-.94 2.06-2.06.94zm10 10l.94 2.06.94-2.06 2.06-.94-2.06-.94-.94-2.06-.94 2.06-2.06.94z\"/><path d=\"M17.41 7.96l-1.37-1.37c-.4-.4-.92-.59-1.43-.59-.52 0-1.04.2-1.43.59L10.3 9.45l-7.72 7.72c-.78.78-.78 2.05 0 2.83L4 21.41c.39.39.9.59 1.41.59.51 0 1.02-.2 1.41-.59l7.78-7.78 2.81-2.81c.8-.78.8-2.07 0-2.86zM5.41 20L4 18.59l7.72-7.72 1.47 1.35L5.41 20z\"/>\n",
              "  </svg>\n",
              "      </button>\n",
              "      \n",
              "  <style>\n",
              "    .colab-df-container {\n",
              "      display:flex;\n",
              "      flex-wrap:wrap;\n",
              "      gap: 12px;\n",
              "    }\n",
              "\n",
              "    .colab-df-convert {\n",
              "      background-color: #E8F0FE;\n",
              "      border: none;\n",
              "      border-radius: 50%;\n",
              "      cursor: pointer;\n",
              "      display: none;\n",
              "      fill: #1967D2;\n",
              "      height: 32px;\n",
              "      padding: 0 0 0 0;\n",
              "      width: 32px;\n",
              "    }\n",
              "\n",
              "    .colab-df-convert:hover {\n",
              "      background-color: #E2EBFA;\n",
              "      box-shadow: 0px 1px 2px rgba(60, 64, 67, 0.3), 0px 1px 3px 1px rgba(60, 64, 67, 0.15);\n",
              "      fill: #174EA6;\n",
              "    }\n",
              "\n",
              "    [theme=dark] .colab-df-convert {\n",
              "      background-color: #3B4455;\n",
              "      fill: #D2E3FC;\n",
              "    }\n",
              "\n",
              "    [theme=dark] .colab-df-convert:hover {\n",
              "      background-color: #434B5C;\n",
              "      box-shadow: 0px 1px 3px 1px rgba(0, 0, 0, 0.15);\n",
              "      filter: drop-shadow(0px 1px 2px rgba(0, 0, 0, 0.3));\n",
              "      fill: #FFFFFF;\n",
              "    }\n",
              "  </style>\n",
              "\n",
              "      <script>\n",
              "        const buttonEl =\n",
              "          document.querySelector('#df-288551eb-cd80-4016-906e-1a4d0cc206e8 button.colab-df-convert');\n",
              "        buttonEl.style.display =\n",
              "          google.colab.kernel.accessAllowed ? 'block' : 'none';\n",
              "\n",
              "        async function convertToInteractive(key) {\n",
              "          const element = document.querySelector('#df-288551eb-cd80-4016-906e-1a4d0cc206e8');\n",
              "          const dataTable =\n",
              "            await google.colab.kernel.invokeFunction('convertToInteractive',\n",
              "                                                     [key], {});\n",
              "          if (!dataTable) return;\n",
              "\n",
              "          const docLinkHtml = 'Like what you see? Visit the ' +\n",
              "            '<a target=\"_blank\" href=https://colab.research.google.com/notebooks/data_table.ipynb>data table notebook</a>'\n",
              "            + ' to learn more about interactive tables.';\n",
              "          element.innerHTML = '';\n",
              "          dataTable['output_type'] = 'display_data';\n",
              "          await google.colab.output.renderOutput(dataTable, element);\n",
              "          const docLink = document.createElement('div');\n",
              "          docLink.innerHTML = docLinkHtml;\n",
              "          element.appendChild(docLink);\n",
              "        }\n",
              "      </script>\n",
              "    </div>\n",
              "  </div>\n",
              "  "
            ]
          },
          "metadata": {},
          "execution_count": 13
        }
      ]
    },
    {
      "cell_type": "markdown",
      "source": [
        "**Random Forest**"
      ],
      "metadata": {
        "id": "YdoayzXd0VxV"
      }
    },
    {
      "cell_type": "code",
      "source": [
        "model_3.fit(X.values, y)"
      ],
      "metadata": {
        "colab": {
          "base_uri": "https://localhost:8080/"
        },
        "id": "NGVXLXV10VEV",
        "outputId": "9ca29e4a-a3d6-4a22-9309-b23e59d26560"
      },
      "execution_count": 14,
      "outputs": [
        {
          "output_type": "execute_result",
          "data": {
            "text/plain": [
              "RandomForestClassifier()"
            ]
          },
          "metadata": {},
          "execution_count": 14
        }
      ]
    },
    {
      "cell_type": "code",
      "source": [
        "rf_pred = model_3.predict([[9.0, 9.0, 9.0, 9.0, 8.0]])\n",
        "print(rf_pred)"
      ],
      "metadata": {
        "colab": {
          "base_uri": "https://localhost:8080/"
        },
        "id": "-KeX0ZN6CgTA",
        "outputId": "f7643c26-dd01-4aa8-b4d1-46ef3d8bf74a"
      },
      "execution_count": 15,
      "outputs": [
        {
          "output_type": "stream",
          "name": "stdout",
          "text": [
            "['Ethiopia Oromia Guji Washed']\n"
          ]
        }
      ]
    },
    {
      "cell_type": "code",
      "source": [
        "coffee[coffee['name'] == 'Ethiopia Natural Yirgacheffe Blue Donkey Lot #2']"
      ],
      "metadata": {
        "colab": {
          "base_uri": "https://localhost:8080/",
          "height": 249
        },
        "id": "neUcBhY70loW",
        "outputId": "3c2e27d9-db9b-4cd4-984f-2d9f2be856f1"
      },
      "execution_count": 16,
      "outputs": [
        {
          "output_type": "execute_result",
          "data": {
            "text/plain": [
              "                                                   slug  \\\n",
              "1494  https://www.coffeereview.com/review/ethiopia-n...   \n",
              "\n",
              "                                                 name  \\\n",
              "1494  Ethiopia Natural Yirgacheffe Blue Donkey Lot #2   \n",
              "\n",
              "                                                 origin  rating  \\\n",
              "1494  Kochere, Yirgacheffe growing region, south-cen...      94   \n",
              "\n",
              "            roaster  aroma  acid_or_milk  body  flavor  aftertaste  \\\n",
              "1494  Kakalove Cafe    9.0           9.0   9.0     9.0         8.0   \n",
              "\n",
              "                                                 desc_1  \\\n",
              "1494  Delicate, berry-toned, deeply sweet. Wild stra...   \n",
              "\n",
              "                                                 desc_2  \\\n",
              "1494  Coffees from the Yirgacheffe region are produc...   \n",
              "\n",
              "                                                 desc_3  \n",
              "1494  An exceptionally purely expressed natural-proc...  "
            ],
            "text/html": [
              "\n",
              "  <div id=\"df-272a9ea1-e0ff-4246-9de3-ed0c8b2093c6\">\n",
              "    <div class=\"colab-df-container\">\n",
              "      <div>\n",
              "<style scoped>\n",
              "    .dataframe tbody tr th:only-of-type {\n",
              "        vertical-align: middle;\n",
              "    }\n",
              "\n",
              "    .dataframe tbody tr th {\n",
              "        vertical-align: top;\n",
              "    }\n",
              "\n",
              "    .dataframe thead th {\n",
              "        text-align: right;\n",
              "    }\n",
              "</style>\n",
              "<table border=\"1\" class=\"dataframe\">\n",
              "  <thead>\n",
              "    <tr style=\"text-align: right;\">\n",
              "      <th></th>\n",
              "      <th>slug</th>\n",
              "      <th>name</th>\n",
              "      <th>origin</th>\n",
              "      <th>rating</th>\n",
              "      <th>roaster</th>\n",
              "      <th>aroma</th>\n",
              "      <th>acid_or_milk</th>\n",
              "      <th>body</th>\n",
              "      <th>flavor</th>\n",
              "      <th>aftertaste</th>\n",
              "      <th>desc_1</th>\n",
              "      <th>desc_2</th>\n",
              "      <th>desc_3</th>\n",
              "    </tr>\n",
              "  </thead>\n",
              "  <tbody>\n",
              "    <tr>\n",
              "      <th>1494</th>\n",
              "      <td>https://www.coffeereview.com/review/ethiopia-n...</td>\n",
              "      <td>Ethiopia Natural Yirgacheffe Blue Donkey Lot #2</td>\n",
              "      <td>Kochere, Yirgacheffe growing region, south-cen...</td>\n",
              "      <td>94</td>\n",
              "      <td>Kakalove Cafe</td>\n",
              "      <td>9.0</td>\n",
              "      <td>9.0</td>\n",
              "      <td>9.0</td>\n",
              "      <td>9.0</td>\n",
              "      <td>8.0</td>\n",
              "      <td>Delicate, berry-toned, deeply sweet. Wild stra...</td>\n",
              "      <td>Coffees from the Yirgacheffe region are produc...</td>\n",
              "      <td>An exceptionally purely expressed natural-proc...</td>\n",
              "    </tr>\n",
              "  </tbody>\n",
              "</table>\n",
              "</div>\n",
              "      <button class=\"colab-df-convert\" onclick=\"convertToInteractive('df-272a9ea1-e0ff-4246-9de3-ed0c8b2093c6')\"\n",
              "              title=\"Convert this dataframe to an interactive table.\"\n",
              "              style=\"display:none;\">\n",
              "        \n",
              "  <svg xmlns=\"http://www.w3.org/2000/svg\" height=\"24px\"viewBox=\"0 0 24 24\"\n",
              "       width=\"24px\">\n",
              "    <path d=\"M0 0h24v24H0V0z\" fill=\"none\"/>\n",
              "    <path d=\"M18.56 5.44l.94 2.06.94-2.06 2.06-.94-2.06-.94-.94-2.06-.94 2.06-2.06.94zm-11 1L8.5 8.5l.94-2.06 2.06-.94-2.06-.94L8.5 2.5l-.94 2.06-2.06.94zm10 10l.94 2.06.94-2.06 2.06-.94-2.06-.94-.94-2.06-.94 2.06-2.06.94z\"/><path d=\"M17.41 7.96l-1.37-1.37c-.4-.4-.92-.59-1.43-.59-.52 0-1.04.2-1.43.59L10.3 9.45l-7.72 7.72c-.78.78-.78 2.05 0 2.83L4 21.41c.39.39.9.59 1.41.59.51 0 1.02-.2 1.41-.59l7.78-7.78 2.81-2.81c.8-.78.8-2.07 0-2.86zM5.41 20L4 18.59l7.72-7.72 1.47 1.35L5.41 20z\"/>\n",
              "  </svg>\n",
              "      </button>\n",
              "      \n",
              "  <style>\n",
              "    .colab-df-container {\n",
              "      display:flex;\n",
              "      flex-wrap:wrap;\n",
              "      gap: 12px;\n",
              "    }\n",
              "\n",
              "    .colab-df-convert {\n",
              "      background-color: #E8F0FE;\n",
              "      border: none;\n",
              "      border-radius: 50%;\n",
              "      cursor: pointer;\n",
              "      display: none;\n",
              "      fill: #1967D2;\n",
              "      height: 32px;\n",
              "      padding: 0 0 0 0;\n",
              "      width: 32px;\n",
              "    }\n",
              "\n",
              "    .colab-df-convert:hover {\n",
              "      background-color: #E2EBFA;\n",
              "      box-shadow: 0px 1px 2px rgba(60, 64, 67, 0.3), 0px 1px 3px 1px rgba(60, 64, 67, 0.15);\n",
              "      fill: #174EA6;\n",
              "    }\n",
              "\n",
              "    [theme=dark] .colab-df-convert {\n",
              "      background-color: #3B4455;\n",
              "      fill: #D2E3FC;\n",
              "    }\n",
              "\n",
              "    [theme=dark] .colab-df-convert:hover {\n",
              "      background-color: #434B5C;\n",
              "      box-shadow: 0px 1px 3px 1px rgba(0, 0, 0, 0.15);\n",
              "      filter: drop-shadow(0px 1px 2px rgba(0, 0, 0, 0.3));\n",
              "      fill: #FFFFFF;\n",
              "    }\n",
              "  </style>\n",
              "\n",
              "      <script>\n",
              "        const buttonEl =\n",
              "          document.querySelector('#df-272a9ea1-e0ff-4246-9de3-ed0c8b2093c6 button.colab-df-convert');\n",
              "        buttonEl.style.display =\n",
              "          google.colab.kernel.accessAllowed ? 'block' : 'none';\n",
              "\n",
              "        async function convertToInteractive(key) {\n",
              "          const element = document.querySelector('#df-272a9ea1-e0ff-4246-9de3-ed0c8b2093c6');\n",
              "          const dataTable =\n",
              "            await google.colab.kernel.invokeFunction('convertToInteractive',\n",
              "                                                     [key], {});\n",
              "          if (!dataTable) return;\n",
              "\n",
              "          const docLinkHtml = 'Like what you see? Visit the ' +\n",
              "            '<a target=\"_blank\" href=https://colab.research.google.com/notebooks/data_table.ipynb>data table notebook</a>'\n",
              "            + ' to learn more about interactive tables.';\n",
              "          element.innerHTML = '';\n",
              "          dataTable['output_type'] = 'display_data';\n",
              "          await google.colab.output.renderOutput(dataTable, element);\n",
              "          const docLink = document.createElement('div');\n",
              "          docLink.innerHTML = docLinkHtml;\n",
              "          element.appendChild(docLink);\n",
              "        }\n",
              "      </script>\n",
              "    </div>\n",
              "  </div>\n",
              "  "
            ]
          },
          "metadata": {},
          "execution_count": 16
        }
      ]
    },
    {
      "cell_type": "markdown",
      "source": [
        "Because the three models have the same results and accuracy, we choose to use the KN-Classifier model because the fitting time for data from this model is the fastest compared to the other models."
      ],
      "metadata": {
        "id": "1YeBdaP7rMBg"
      }
    },
    {
      "cell_type": "markdown",
      "source": [
        "**Export KN Classifier Model**"
      ],
      "metadata": {
        "id": "dWI-cUj8rS4X"
      }
    },
    {
      "cell_type": "code",
      "source": [
        "# KN Classifier model is stored in the \"model_2\" variable\n",
        "joblib.dump(model_2,'./kn_model.pkl')"
      ],
      "metadata": {
        "colab": {
          "base_uri": "https://localhost:8080/"
        },
        "id": "c6AKuTHCrMxV",
        "outputId": "2b51c8d4-c905-4622-d3f5-c27739561b1e"
      },
      "execution_count": 17,
      "outputs": [
        {
          "output_type": "execute_result",
          "data": {
            "text/plain": [
              "['./kn_model.pkl']"
            ]
          },
          "metadata": {},
          "execution_count": 17
        }
      ]
    }
  ]
}