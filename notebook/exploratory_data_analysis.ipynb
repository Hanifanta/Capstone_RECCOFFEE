{
  "nbformat": 4,
  "nbformat_minor": 0,
  "metadata": {
    "colab": {
      "provenance": []
    },
    "kernelspec": {
      "name": "python3",
      "display_name": "Python 3"
    },
    "language_info": {
      "name": "python"
    }
  },
  "cells": [
    {
      "cell_type": "markdown",
      "source": [
        "#**Exploratory Data Analysis**"
      ],
      "metadata": {
        "id": "3DWVtcYyLt0I"
      }
    },
    {
      "cell_type": "markdown",
      "source": [
        "##**Import Library**"
      ],
      "metadata": {
        "id": "Wc_XUa3rL1tE"
      }
    },
    {
      "cell_type": "code",
      "execution_count": 132,
      "metadata": {
        "id": "KRsBgFcGKSAh"
      },
      "outputs": [],
      "source": [
        "# Data loading and data analysis\n",
        "import pandas as pd\n",
        "\n",
        "# Data visualization\n",
        "import matplotlib.pyplot as plt\n",
        "import seaborn as sns\n",
        "%matplotlib inline\n",
        "plt.style.use('seaborn')"
      ]
    },
    {
      "cell_type": "markdown",
      "source": [
        "##**Dataset Information**"
      ],
      "metadata": {
        "id": "VY8TFzbIMBHs"
      }
    },
    {
      "cell_type": "code",
      "source": [
        "data_rev = pd.read_csv('coffee_rev.csv')\n",
        "data_rev.head(5)"
      ],
      "metadata": {
        "colab": {
          "base_uri": "https://localhost:8080/",
          "height": 669
        },
        "id": "Cddo_6N3N6uI",
        "outputId": "d8f6796d-ca73-4ee3-e026-dc9eaf8fd835"
      },
      "execution_count": 133,
      "outputs": [
        {
          "output_type": "execute_result",
          "data": {
            "text/plain": [
              "                                                slug  \\\n",
              "0  https://www.coffeereview.com/review/ethiopia-r...   \n",
              "1  https://www.coffeereview.com/review/double-ana...   \n",
              "2  https://www.coffeereview.com/review/ethiopia-c...   \n",
              "3  https://www.coffeereview.com/review/ethiopia-h...   \n",
              "4  https://www.coffeereview.com/review/colombia-p...   \n",
              "\n",
              "                                            all_text  rating  \\\n",
              "0   \\n\\n\\n94\\n\\n\\nTemple Coffee\\nEthiopia Reko Yi...      94   \n",
              "1   \\n\\n\\n94\\n\\n\\nGenesis Coffee Lab\\nDouble-Anae...      94   \n",
              "2   \\n\\n\\n94\\n\\n\\nJaunt Coffee Roasters\\nEthiopia...      94   \n",
              "3   \\n\\n\\n94\\n\\n\\nGenesis Coffee Lab\\nEthiopia Ho...      94   \n",
              "4   \\n\\n\\n93\\n\\n\\nJaunt Coffee Roasters\\nColombia...      93   \n",
              "\n",
              "                 roaster                                          name  \\\n",
              "0          Temple Coffee                     Ethiopia Reko Yirgacheffe   \n",
              "1     Genesis Coffee Lab  Double-Anaerobic Fermentation Tamiru Tadesse   \n",
              "2  Jaunt Coffee Roasters          Ethiopia Chelbesa Danche Yirgacheffe   \n",
              "3     Genesis Coffee Lab         Ethiopia Honey Process Tamiru Tadesse   \n",
              "4  Jaunt Coffee Roasters                      Colombia Planadas Tolima   \n",
              "\n",
              "                 location                                           origin  \\\n",
              "0  Sacramento, California    Yirgacheffe growing region, southern Ethiopia   \n",
              "1        Big Lake, Alaska    Sidamo growing region, south-central Ethiopia   \n",
              "2   San Diego, California  Chelchele, Gedeb District, Gedeo Zone, Ethiopia   \n",
              "3        Big Lake, Alaska    Sidamo growing region, south-central Ethiopia   \n",
              "4   San Diego, California                                 Tolima, Colombia   \n",
              "\n",
              "          roast         est_price    review_date agtron  aroma  acid  body  \\\n",
              "0  Medium-Light  $23.50/12 ounces  November 2022  60/76    9.0   9.0   9.0   \n",
              "1         Light  $40.00/10 ounces  November 2022  62/80    9.0   9.0   9.0   \n",
              "2  Medium-Light  $24.00/12 ounces  November 2022  60/77    9.0   9.0   9.0   \n",
              "3         Light  $35.00/10 ounces  November 2022  64/83    9.0   9.0   9.0   \n",
              "4         Light   $24.00/8 ounces  November 2022  65/81    9.0   9.0   8.0   \n",
              "\n",
              "   flavor  aftertaste  with_milk  \\\n",
              "0     9.0         8.0        NaN   \n",
              "1     9.0         8.0        NaN   \n",
              "2     9.0         8.0        NaN   \n",
              "3     9.0         8.0        NaN   \n",
              "4     9.0         8.0        NaN   \n",
              "\n",
              "                                              desc_1  \\\n",
              "0  Rich-toned, deeply floral. White peach, tea ro...   \n",
              "1  Richly floral-toned, crisply sweet. Honeysuckl...   \n",
              "2  Elegantly sweet, floral-toned. Lilac, almond, ...   \n",
              "3  Delicately fruit-toned, tisane-like. Dried str...   \n",
              "4  Delicate, richly aromatic. Pineapple, almond n...   \n",
              "\n",
              "                                              desc_2  \\\n",
              "0  Produced by the Reko Farming Cooperative from ...   \n",
              "1  Produced by Tamiru Tadesse of Alo Coffee. Sout...   \n",
              "2  Produced by the METAD farm and mill in souther...   \n",
              "3  Produced by Tamiru Tadesse of Alo Coffee. Sout...   \n",
              "4  Produced by Jorge Elias Rojas entirely of the ...   \n",
              "\n",
              "                                              desc_3  \n",
              "0  A classic washed Yirgacheffe cup driven by not...  \n",
              "1  A floral-driven anaerobic Ethiopia cup free of...  \n",
              "2  A brightly sweet, fragrantly floral-driven was...  \n",
              "3  A delicate, elegant, honey-processed Sidamo cu...  \n",
              "4  A lovely Colombia Geisha cup, finely tea-like ...  "
            ],
            "text/html": [
              "\n",
              "  <div id=\"df-bec642e9-68b7-411c-bd14-2302b9aa87b9\">\n",
              "    <div class=\"colab-df-container\">\n",
              "      <div>\n",
              "<style scoped>\n",
              "    .dataframe tbody tr th:only-of-type {\n",
              "        vertical-align: middle;\n",
              "    }\n",
              "\n",
              "    .dataframe tbody tr th {\n",
              "        vertical-align: top;\n",
              "    }\n",
              "\n",
              "    .dataframe thead th {\n",
              "        text-align: right;\n",
              "    }\n",
              "</style>\n",
              "<table border=\"1\" class=\"dataframe\">\n",
              "  <thead>\n",
              "    <tr style=\"text-align: right;\">\n",
              "      <th></th>\n",
              "      <th>slug</th>\n",
              "      <th>all_text</th>\n",
              "      <th>rating</th>\n",
              "      <th>roaster</th>\n",
              "      <th>name</th>\n",
              "      <th>location</th>\n",
              "      <th>origin</th>\n",
              "      <th>roast</th>\n",
              "      <th>est_price</th>\n",
              "      <th>review_date</th>\n",
              "      <th>agtron</th>\n",
              "      <th>aroma</th>\n",
              "      <th>acid</th>\n",
              "      <th>body</th>\n",
              "      <th>flavor</th>\n",
              "      <th>aftertaste</th>\n",
              "      <th>with_milk</th>\n",
              "      <th>desc_1</th>\n",
              "      <th>desc_2</th>\n",
              "      <th>desc_3</th>\n",
              "    </tr>\n",
              "  </thead>\n",
              "  <tbody>\n",
              "    <tr>\n",
              "      <th>0</th>\n",
              "      <td>https://www.coffeereview.com/review/ethiopia-r...</td>\n",
              "      <td>\\n\\n\\n94\\n\\n\\nTemple Coffee\\nEthiopia Reko Yi...</td>\n",
              "      <td>94</td>\n",
              "      <td>Temple Coffee</td>\n",
              "      <td>Ethiopia Reko Yirgacheffe</td>\n",
              "      <td>Sacramento, California</td>\n",
              "      <td>Yirgacheffe growing region, southern Ethiopia</td>\n",
              "      <td>Medium-Light</td>\n",
              "      <td>$23.50/12 ounces</td>\n",
              "      <td>November 2022</td>\n",
              "      <td>60/76</td>\n",
              "      <td>9.0</td>\n",
              "      <td>9.0</td>\n",
              "      <td>9.0</td>\n",
              "      <td>9.0</td>\n",
              "      <td>8.0</td>\n",
              "      <td>NaN</td>\n",
              "      <td>Rich-toned, deeply floral. White peach, tea ro...</td>\n",
              "      <td>Produced by the Reko Farming Cooperative from ...</td>\n",
              "      <td>A classic washed Yirgacheffe cup driven by not...</td>\n",
              "    </tr>\n",
              "    <tr>\n",
              "      <th>1</th>\n",
              "      <td>https://www.coffeereview.com/review/double-ana...</td>\n",
              "      <td>\\n\\n\\n94\\n\\n\\nGenesis Coffee Lab\\nDouble-Anae...</td>\n",
              "      <td>94</td>\n",
              "      <td>Genesis Coffee Lab</td>\n",
              "      <td>Double-Anaerobic Fermentation Tamiru Tadesse</td>\n",
              "      <td>Big Lake, Alaska</td>\n",
              "      <td>Sidamo growing region, south-central Ethiopia</td>\n",
              "      <td>Light</td>\n",
              "      <td>$40.00/10 ounces</td>\n",
              "      <td>November 2022</td>\n",
              "      <td>62/80</td>\n",
              "      <td>9.0</td>\n",
              "      <td>9.0</td>\n",
              "      <td>9.0</td>\n",
              "      <td>9.0</td>\n",
              "      <td>8.0</td>\n",
              "      <td>NaN</td>\n",
              "      <td>Richly floral-toned, crisply sweet. Honeysuckl...</td>\n",
              "      <td>Produced by Tamiru Tadesse of Alo Coffee. Sout...</td>\n",
              "      <td>A floral-driven anaerobic Ethiopia cup free of...</td>\n",
              "    </tr>\n",
              "    <tr>\n",
              "      <th>2</th>\n",
              "      <td>https://www.coffeereview.com/review/ethiopia-c...</td>\n",
              "      <td>\\n\\n\\n94\\n\\n\\nJaunt Coffee Roasters\\nEthiopia...</td>\n",
              "      <td>94</td>\n",
              "      <td>Jaunt Coffee Roasters</td>\n",
              "      <td>Ethiopia Chelbesa Danche Yirgacheffe</td>\n",
              "      <td>San Diego, California</td>\n",
              "      <td>Chelchele, Gedeb District, Gedeo Zone, Ethiopia</td>\n",
              "      <td>Medium-Light</td>\n",
              "      <td>$24.00/12 ounces</td>\n",
              "      <td>November 2022</td>\n",
              "      <td>60/77</td>\n",
              "      <td>9.0</td>\n",
              "      <td>9.0</td>\n",
              "      <td>9.0</td>\n",
              "      <td>9.0</td>\n",
              "      <td>8.0</td>\n",
              "      <td>NaN</td>\n",
              "      <td>Elegantly sweet, floral-toned. Lilac, almond, ...</td>\n",
              "      <td>Produced by the METAD farm and mill in souther...</td>\n",
              "      <td>A brightly sweet, fragrantly floral-driven was...</td>\n",
              "    </tr>\n",
              "    <tr>\n",
              "      <th>3</th>\n",
              "      <td>https://www.coffeereview.com/review/ethiopia-h...</td>\n",
              "      <td>\\n\\n\\n94\\n\\n\\nGenesis Coffee Lab\\nEthiopia Ho...</td>\n",
              "      <td>94</td>\n",
              "      <td>Genesis Coffee Lab</td>\n",
              "      <td>Ethiopia Honey Process Tamiru Tadesse</td>\n",
              "      <td>Big Lake, Alaska</td>\n",
              "      <td>Sidamo growing region, south-central Ethiopia</td>\n",
              "      <td>Light</td>\n",
              "      <td>$35.00/10 ounces</td>\n",
              "      <td>November 2022</td>\n",
              "      <td>64/83</td>\n",
              "      <td>9.0</td>\n",
              "      <td>9.0</td>\n",
              "      <td>9.0</td>\n",
              "      <td>9.0</td>\n",
              "      <td>8.0</td>\n",
              "      <td>NaN</td>\n",
              "      <td>Delicately fruit-toned, tisane-like. Dried str...</td>\n",
              "      <td>Produced by Tamiru Tadesse of Alo Coffee. Sout...</td>\n",
              "      <td>A delicate, elegant, honey-processed Sidamo cu...</td>\n",
              "    </tr>\n",
              "    <tr>\n",
              "      <th>4</th>\n",
              "      <td>https://www.coffeereview.com/review/colombia-p...</td>\n",
              "      <td>\\n\\n\\n93\\n\\n\\nJaunt Coffee Roasters\\nColombia...</td>\n",
              "      <td>93</td>\n",
              "      <td>Jaunt Coffee Roasters</td>\n",
              "      <td>Colombia Planadas Tolima</td>\n",
              "      <td>San Diego, California</td>\n",
              "      <td>Tolima, Colombia</td>\n",
              "      <td>Light</td>\n",
              "      <td>$24.00/8 ounces</td>\n",
              "      <td>November 2022</td>\n",
              "      <td>65/81</td>\n",
              "      <td>9.0</td>\n",
              "      <td>9.0</td>\n",
              "      <td>8.0</td>\n",
              "      <td>9.0</td>\n",
              "      <td>8.0</td>\n",
              "      <td>NaN</td>\n",
              "      <td>Delicate, richly aromatic. Pineapple, almond n...</td>\n",
              "      <td>Produced by Jorge Elias Rojas entirely of the ...</td>\n",
              "      <td>A lovely Colombia Geisha cup, finely tea-like ...</td>\n",
              "    </tr>\n",
              "  </tbody>\n",
              "</table>\n",
              "</div>\n",
              "      <button class=\"colab-df-convert\" onclick=\"convertToInteractive('df-bec642e9-68b7-411c-bd14-2302b9aa87b9')\"\n",
              "              title=\"Convert this dataframe to an interactive table.\"\n",
              "              style=\"display:none;\">\n",
              "        \n",
              "  <svg xmlns=\"http://www.w3.org/2000/svg\" height=\"24px\"viewBox=\"0 0 24 24\"\n",
              "       width=\"24px\">\n",
              "    <path d=\"M0 0h24v24H0V0z\" fill=\"none\"/>\n",
              "    <path d=\"M18.56 5.44l.94 2.06.94-2.06 2.06-.94-2.06-.94-.94-2.06-.94 2.06-2.06.94zm-11 1L8.5 8.5l.94-2.06 2.06-.94-2.06-.94L8.5 2.5l-.94 2.06-2.06.94zm10 10l.94 2.06.94-2.06 2.06-.94-2.06-.94-.94-2.06-.94 2.06-2.06.94z\"/><path d=\"M17.41 7.96l-1.37-1.37c-.4-.4-.92-.59-1.43-.59-.52 0-1.04.2-1.43.59L10.3 9.45l-7.72 7.72c-.78.78-.78 2.05 0 2.83L4 21.41c.39.39.9.59 1.41.59.51 0 1.02-.2 1.41-.59l7.78-7.78 2.81-2.81c.8-.78.8-2.07 0-2.86zM5.41 20L4 18.59l7.72-7.72 1.47 1.35L5.41 20z\"/>\n",
              "  </svg>\n",
              "      </button>\n",
              "      \n",
              "  <style>\n",
              "    .colab-df-container {\n",
              "      display:flex;\n",
              "      flex-wrap:wrap;\n",
              "      gap: 12px;\n",
              "    }\n",
              "\n",
              "    .colab-df-convert {\n",
              "      background-color: #E8F0FE;\n",
              "      border: none;\n",
              "      border-radius: 50%;\n",
              "      cursor: pointer;\n",
              "      display: none;\n",
              "      fill: #1967D2;\n",
              "      height: 32px;\n",
              "      padding: 0 0 0 0;\n",
              "      width: 32px;\n",
              "    }\n",
              "\n",
              "    .colab-df-convert:hover {\n",
              "      background-color: #E2EBFA;\n",
              "      box-shadow: 0px 1px 2px rgba(60, 64, 67, 0.3), 0px 1px 3px 1px rgba(60, 64, 67, 0.15);\n",
              "      fill: #174EA6;\n",
              "    }\n",
              "\n",
              "    [theme=dark] .colab-df-convert {\n",
              "      background-color: #3B4455;\n",
              "      fill: #D2E3FC;\n",
              "    }\n",
              "\n",
              "    [theme=dark] .colab-df-convert:hover {\n",
              "      background-color: #434B5C;\n",
              "      box-shadow: 0px 1px 3px 1px rgba(0, 0, 0, 0.15);\n",
              "      filter: drop-shadow(0px 1px 2px rgba(0, 0, 0, 0.3));\n",
              "      fill: #FFFFFF;\n",
              "    }\n",
              "  </style>\n",
              "\n",
              "      <script>\n",
              "        const buttonEl =\n",
              "          document.querySelector('#df-bec642e9-68b7-411c-bd14-2302b9aa87b9 button.colab-df-convert');\n",
              "        buttonEl.style.display =\n",
              "          google.colab.kernel.accessAllowed ? 'block' : 'none';\n",
              "\n",
              "        async function convertToInteractive(key) {\n",
              "          const element = document.querySelector('#df-bec642e9-68b7-411c-bd14-2302b9aa87b9');\n",
              "          const dataTable =\n",
              "            await google.colab.kernel.invokeFunction('convertToInteractive',\n",
              "                                                     [key], {});\n",
              "          if (!dataTable) return;\n",
              "\n",
              "          const docLinkHtml = 'Like what you see? Visit the ' +\n",
              "            '<a target=\"_blank\" href=https://colab.research.google.com/notebooks/data_table.ipynb>data table notebook</a>'\n",
              "            + ' to learn more about interactive tables.';\n",
              "          element.innerHTML = '';\n",
              "          dataTable['output_type'] = 'display_data';\n",
              "          await google.colab.output.renderOutput(dataTable, element);\n",
              "          const docLink = document.createElement('div');\n",
              "          docLink.innerHTML = docLinkHtml;\n",
              "          element.appendChild(docLink);\n",
              "        }\n",
              "      </script>\n",
              "    </div>\n",
              "  </div>\n",
              "  "
            ]
          },
          "metadata": {},
          "execution_count": 133
        }
      ]
    },
    {
      "cell_type": "code",
      "source": [
        "print(f'Data consist of {data_rev.shape[1]} columns')\n",
        "print(f'Each column consists of {data_rev.shape[0]} records')"
      ],
      "metadata": {
        "colab": {
          "base_uri": "https://localhost:8080/"
        },
        "id": "CFgtydopOBJC",
        "outputId": "06d8693f-6d2c-4025-d0b3-3deea8360d08"
      },
      "execution_count": 134,
      "outputs": [
        {
          "output_type": "stream",
          "name": "stdout",
          "text": [
            "Data consist of 20 columns\n",
            "Each column consists of 2278 records\n"
          ]
        }
      ]
    },
    {
      "cell_type": "code",
      "source": [
        "column_headers = list(data_rev.columns.values)\n",
        "print(\"The Column Header :\", column_headers)"
      ],
      "metadata": {
        "colab": {
          "base_uri": "https://localhost:8080/"
        },
        "id": "DcdS_mtENxoi",
        "outputId": "462a3c76-fd42-40d4-f4d4-1dd8fc95a307"
      },
      "execution_count": 135,
      "outputs": [
        {
          "output_type": "stream",
          "name": "stdout",
          "text": [
            "The Column Header : ['slug', 'all_text', 'rating', 'roaster', 'name', 'location', 'origin', 'roast', 'est_price', 'review_date', 'agtron', 'aroma', 'acid', 'body', 'flavor', 'aftertaste', 'with_milk', 'desc_1', 'desc_2', 'desc_3']\n"
          ]
        }
      ]
    },
    {
      "cell_type": "markdown",
      "source": [
        "##**Choose The Column to Use**"
      ],
      "metadata": {
        "id": "KB6NZU6GMr4E"
      }
    },
    {
      "cell_type": "markdown",
      "source": [
        "**The variables that we will use in this project:**\n",
        "\n",
        "* name : Coffee name\n",
        "* origin : Coffee origin\n",
        "* rating : Coffee rating (0-100)\n",
        "* roaster : Coffee roasting company\n",
        "* aroma : Coffee aroma\n",
        "* acid : Coffee acidity\n",
        "* body : Coffee body size\n",
        "* flavor : Coffee flavor\n",
        "* aftertaste : Coffee aftertaste\n",
        "* desc_1 : Description coffee by Blind Assessment\n",
        "* desc_2 : Description coffee by Notes\n",
        "* desc_3 : Description coffee by The Bottom Line\n"
      ],
      "metadata": {
        "id": "SAaXv8tyMw1q"
      }
    },
    {
      "cell_type": "code",
      "source": [
        "coffee_rev = data_rev.filter(['slug', 'name', 'origin', 'rating', 'roaster', 'aroma', 'acid', 'body', 'flavor', 'aftertaste', 'with_milk', 'desc_1', 'desc_2', 'desc_3'])\n",
        "coffee_rev.head(5)"
      ],
      "metadata": {
        "colab": {
          "base_uri": "https://localhost:8080/",
          "height": 669
        },
        "id": "u0o7lmRpOzTI",
        "outputId": "dda97717-b167-437c-ad5d-12cb71945d0b"
      },
      "execution_count": 136,
      "outputs": [
        {
          "output_type": "execute_result",
          "data": {
            "text/plain": [
              "                                                slug  \\\n",
              "0  https://www.coffeereview.com/review/ethiopia-r...   \n",
              "1  https://www.coffeereview.com/review/double-ana...   \n",
              "2  https://www.coffeereview.com/review/ethiopia-c...   \n",
              "3  https://www.coffeereview.com/review/ethiopia-h...   \n",
              "4  https://www.coffeereview.com/review/colombia-p...   \n",
              "\n",
              "                                           name  \\\n",
              "0                     Ethiopia Reko Yirgacheffe   \n",
              "1  Double-Anaerobic Fermentation Tamiru Tadesse   \n",
              "2          Ethiopia Chelbesa Danche Yirgacheffe   \n",
              "3         Ethiopia Honey Process Tamiru Tadesse   \n",
              "4                      Colombia Planadas Tolima   \n",
              "\n",
              "                                            origin  rating  \\\n",
              "0    Yirgacheffe growing region, southern Ethiopia      94   \n",
              "1    Sidamo growing region, south-central Ethiopia      94   \n",
              "2  Chelchele, Gedeb District, Gedeo Zone, Ethiopia      94   \n",
              "3    Sidamo growing region, south-central Ethiopia      94   \n",
              "4                                 Tolima, Colombia      93   \n",
              "\n",
              "                 roaster  aroma  acid  body  flavor  aftertaste  with_milk  \\\n",
              "0          Temple Coffee    9.0   9.0   9.0     9.0         8.0        NaN   \n",
              "1     Genesis Coffee Lab    9.0   9.0   9.0     9.0         8.0        NaN   \n",
              "2  Jaunt Coffee Roasters    9.0   9.0   9.0     9.0         8.0        NaN   \n",
              "3     Genesis Coffee Lab    9.0   9.0   9.0     9.0         8.0        NaN   \n",
              "4  Jaunt Coffee Roasters    9.0   9.0   8.0     9.0         8.0        NaN   \n",
              "\n",
              "                                              desc_1  \\\n",
              "0  Rich-toned, deeply floral. White peach, tea ro...   \n",
              "1  Richly floral-toned, crisply sweet. Honeysuckl...   \n",
              "2  Elegantly sweet, floral-toned. Lilac, almond, ...   \n",
              "3  Delicately fruit-toned, tisane-like. Dried str...   \n",
              "4  Delicate, richly aromatic. Pineapple, almond n...   \n",
              "\n",
              "                                              desc_2  \\\n",
              "0  Produced by the Reko Farming Cooperative from ...   \n",
              "1  Produced by Tamiru Tadesse of Alo Coffee. Sout...   \n",
              "2  Produced by the METAD farm and mill in souther...   \n",
              "3  Produced by Tamiru Tadesse of Alo Coffee. Sout...   \n",
              "4  Produced by Jorge Elias Rojas entirely of the ...   \n",
              "\n",
              "                                              desc_3  \n",
              "0  A classic washed Yirgacheffe cup driven by not...  \n",
              "1  A floral-driven anaerobic Ethiopia cup free of...  \n",
              "2  A brightly sweet, fragrantly floral-driven was...  \n",
              "3  A delicate, elegant, honey-processed Sidamo cu...  \n",
              "4  A lovely Colombia Geisha cup, finely tea-like ...  "
            ],
            "text/html": [
              "\n",
              "  <div id=\"df-1f81f05f-9d68-43ee-8556-e793253b5139\">\n",
              "    <div class=\"colab-df-container\">\n",
              "      <div>\n",
              "<style scoped>\n",
              "    .dataframe tbody tr th:only-of-type {\n",
              "        vertical-align: middle;\n",
              "    }\n",
              "\n",
              "    .dataframe tbody tr th {\n",
              "        vertical-align: top;\n",
              "    }\n",
              "\n",
              "    .dataframe thead th {\n",
              "        text-align: right;\n",
              "    }\n",
              "</style>\n",
              "<table border=\"1\" class=\"dataframe\">\n",
              "  <thead>\n",
              "    <tr style=\"text-align: right;\">\n",
              "      <th></th>\n",
              "      <th>slug</th>\n",
              "      <th>name</th>\n",
              "      <th>origin</th>\n",
              "      <th>rating</th>\n",
              "      <th>roaster</th>\n",
              "      <th>aroma</th>\n",
              "      <th>acid</th>\n",
              "      <th>body</th>\n",
              "      <th>flavor</th>\n",
              "      <th>aftertaste</th>\n",
              "      <th>with_milk</th>\n",
              "      <th>desc_1</th>\n",
              "      <th>desc_2</th>\n",
              "      <th>desc_3</th>\n",
              "    </tr>\n",
              "  </thead>\n",
              "  <tbody>\n",
              "    <tr>\n",
              "      <th>0</th>\n",
              "      <td>https://www.coffeereview.com/review/ethiopia-r...</td>\n",
              "      <td>Ethiopia Reko Yirgacheffe</td>\n",
              "      <td>Yirgacheffe growing region, southern Ethiopia</td>\n",
              "      <td>94</td>\n",
              "      <td>Temple Coffee</td>\n",
              "      <td>9.0</td>\n",
              "      <td>9.0</td>\n",
              "      <td>9.0</td>\n",
              "      <td>9.0</td>\n",
              "      <td>8.0</td>\n",
              "      <td>NaN</td>\n",
              "      <td>Rich-toned, deeply floral. White peach, tea ro...</td>\n",
              "      <td>Produced by the Reko Farming Cooperative from ...</td>\n",
              "      <td>A classic washed Yirgacheffe cup driven by not...</td>\n",
              "    </tr>\n",
              "    <tr>\n",
              "      <th>1</th>\n",
              "      <td>https://www.coffeereview.com/review/double-ana...</td>\n",
              "      <td>Double-Anaerobic Fermentation Tamiru Tadesse</td>\n",
              "      <td>Sidamo growing region, south-central Ethiopia</td>\n",
              "      <td>94</td>\n",
              "      <td>Genesis Coffee Lab</td>\n",
              "      <td>9.0</td>\n",
              "      <td>9.0</td>\n",
              "      <td>9.0</td>\n",
              "      <td>9.0</td>\n",
              "      <td>8.0</td>\n",
              "      <td>NaN</td>\n",
              "      <td>Richly floral-toned, crisply sweet. Honeysuckl...</td>\n",
              "      <td>Produced by Tamiru Tadesse of Alo Coffee. Sout...</td>\n",
              "      <td>A floral-driven anaerobic Ethiopia cup free of...</td>\n",
              "    </tr>\n",
              "    <tr>\n",
              "      <th>2</th>\n",
              "      <td>https://www.coffeereview.com/review/ethiopia-c...</td>\n",
              "      <td>Ethiopia Chelbesa Danche Yirgacheffe</td>\n",
              "      <td>Chelchele, Gedeb District, Gedeo Zone, Ethiopia</td>\n",
              "      <td>94</td>\n",
              "      <td>Jaunt Coffee Roasters</td>\n",
              "      <td>9.0</td>\n",
              "      <td>9.0</td>\n",
              "      <td>9.0</td>\n",
              "      <td>9.0</td>\n",
              "      <td>8.0</td>\n",
              "      <td>NaN</td>\n",
              "      <td>Elegantly sweet, floral-toned. Lilac, almond, ...</td>\n",
              "      <td>Produced by the METAD farm and mill in souther...</td>\n",
              "      <td>A brightly sweet, fragrantly floral-driven was...</td>\n",
              "    </tr>\n",
              "    <tr>\n",
              "      <th>3</th>\n",
              "      <td>https://www.coffeereview.com/review/ethiopia-h...</td>\n",
              "      <td>Ethiopia Honey Process Tamiru Tadesse</td>\n",
              "      <td>Sidamo growing region, south-central Ethiopia</td>\n",
              "      <td>94</td>\n",
              "      <td>Genesis Coffee Lab</td>\n",
              "      <td>9.0</td>\n",
              "      <td>9.0</td>\n",
              "      <td>9.0</td>\n",
              "      <td>9.0</td>\n",
              "      <td>8.0</td>\n",
              "      <td>NaN</td>\n",
              "      <td>Delicately fruit-toned, tisane-like. Dried str...</td>\n",
              "      <td>Produced by Tamiru Tadesse of Alo Coffee. Sout...</td>\n",
              "      <td>A delicate, elegant, honey-processed Sidamo cu...</td>\n",
              "    </tr>\n",
              "    <tr>\n",
              "      <th>4</th>\n",
              "      <td>https://www.coffeereview.com/review/colombia-p...</td>\n",
              "      <td>Colombia Planadas Tolima</td>\n",
              "      <td>Tolima, Colombia</td>\n",
              "      <td>93</td>\n",
              "      <td>Jaunt Coffee Roasters</td>\n",
              "      <td>9.0</td>\n",
              "      <td>9.0</td>\n",
              "      <td>8.0</td>\n",
              "      <td>9.0</td>\n",
              "      <td>8.0</td>\n",
              "      <td>NaN</td>\n",
              "      <td>Delicate, richly aromatic. Pineapple, almond n...</td>\n",
              "      <td>Produced by Jorge Elias Rojas entirely of the ...</td>\n",
              "      <td>A lovely Colombia Geisha cup, finely tea-like ...</td>\n",
              "    </tr>\n",
              "  </tbody>\n",
              "</table>\n",
              "</div>\n",
              "      <button class=\"colab-df-convert\" onclick=\"convertToInteractive('df-1f81f05f-9d68-43ee-8556-e793253b5139')\"\n",
              "              title=\"Convert this dataframe to an interactive table.\"\n",
              "              style=\"display:none;\">\n",
              "        \n",
              "  <svg xmlns=\"http://www.w3.org/2000/svg\" height=\"24px\"viewBox=\"0 0 24 24\"\n",
              "       width=\"24px\">\n",
              "    <path d=\"M0 0h24v24H0V0z\" fill=\"none\"/>\n",
              "    <path d=\"M18.56 5.44l.94 2.06.94-2.06 2.06-.94-2.06-.94-.94-2.06-.94 2.06-2.06.94zm-11 1L8.5 8.5l.94-2.06 2.06-.94-2.06-.94L8.5 2.5l-.94 2.06-2.06.94zm10 10l.94 2.06.94-2.06 2.06-.94-2.06-.94-.94-2.06-.94 2.06-2.06.94z\"/><path d=\"M17.41 7.96l-1.37-1.37c-.4-.4-.92-.59-1.43-.59-.52 0-1.04.2-1.43.59L10.3 9.45l-7.72 7.72c-.78.78-.78 2.05 0 2.83L4 21.41c.39.39.9.59 1.41.59.51 0 1.02-.2 1.41-.59l7.78-7.78 2.81-2.81c.8-.78.8-2.07 0-2.86zM5.41 20L4 18.59l7.72-7.72 1.47 1.35L5.41 20z\"/>\n",
              "  </svg>\n",
              "      </button>\n",
              "      \n",
              "  <style>\n",
              "    .colab-df-container {\n",
              "      display:flex;\n",
              "      flex-wrap:wrap;\n",
              "      gap: 12px;\n",
              "    }\n",
              "\n",
              "    .colab-df-convert {\n",
              "      background-color: #E8F0FE;\n",
              "      border: none;\n",
              "      border-radius: 50%;\n",
              "      cursor: pointer;\n",
              "      display: none;\n",
              "      fill: #1967D2;\n",
              "      height: 32px;\n",
              "      padding: 0 0 0 0;\n",
              "      width: 32px;\n",
              "    }\n",
              "\n",
              "    .colab-df-convert:hover {\n",
              "      background-color: #E2EBFA;\n",
              "      box-shadow: 0px 1px 2px rgba(60, 64, 67, 0.3), 0px 1px 3px 1px rgba(60, 64, 67, 0.15);\n",
              "      fill: #174EA6;\n",
              "    }\n",
              "\n",
              "    [theme=dark] .colab-df-convert {\n",
              "      background-color: #3B4455;\n",
              "      fill: #D2E3FC;\n",
              "    }\n",
              "\n",
              "    [theme=dark] .colab-df-convert:hover {\n",
              "      background-color: #434B5C;\n",
              "      box-shadow: 0px 1px 3px 1px rgba(0, 0, 0, 0.15);\n",
              "      filter: drop-shadow(0px 1px 2px rgba(0, 0, 0, 0.3));\n",
              "      fill: #FFFFFF;\n",
              "    }\n",
              "  </style>\n",
              "\n",
              "      <script>\n",
              "        const buttonEl =\n",
              "          document.querySelector('#df-1f81f05f-9d68-43ee-8556-e793253b5139 button.colab-df-convert');\n",
              "        buttonEl.style.display =\n",
              "          google.colab.kernel.accessAllowed ? 'block' : 'none';\n",
              "\n",
              "        async function convertToInteractive(key) {\n",
              "          const element = document.querySelector('#df-1f81f05f-9d68-43ee-8556-e793253b5139');\n",
              "          const dataTable =\n",
              "            await google.colab.kernel.invokeFunction('convertToInteractive',\n",
              "                                                     [key], {});\n",
              "          if (!dataTable) return;\n",
              "\n",
              "          const docLinkHtml = 'Like what you see? Visit the ' +\n",
              "            '<a target=\"_blank\" href=https://colab.research.google.com/notebooks/data_table.ipynb>data table notebook</a>'\n",
              "            + ' to learn more about interactive tables.';\n",
              "          element.innerHTML = '';\n",
              "          dataTable['output_type'] = 'display_data';\n",
              "          await google.colab.output.renderOutput(dataTable, element);\n",
              "          const docLink = document.createElement('div');\n",
              "          docLink.innerHTML = docLinkHtml;\n",
              "          element.appendChild(docLink);\n",
              "        }\n",
              "      </script>\n",
              "    </div>\n",
              "  </div>\n",
              "  "
            ]
          },
          "metadata": {},
          "execution_count": 136
        }
      ]
    },
    {
      "cell_type": "markdown",
      "source": [
        "##**Handling Missing Value**"
      ],
      "metadata": {
        "id": "wCDSs5BRQ6Rl"
      }
    },
    {
      "cell_type": "code",
      "source": [
        "duplicate_rev = coffee_rev[coffee_rev.duplicated('name')]\n",
        " \n",
        "print(\"Duplicate Rows :\")\n",
        "\n",
        "duplicate_rev"
      ],
      "metadata": {
        "colab": {
          "base_uri": "https://localhost:8080/",
          "height": 1000
        },
        "id": "fXugAZALO7Ms",
        "outputId": "88f891e4-bb54-4e39-a226-c83fadec1935"
      },
      "execution_count": 137,
      "outputs": [
        {
          "output_type": "stream",
          "name": "stdout",
          "text": [
            "Duplicate Rows :\n"
          ]
        },
        {
          "output_type": "execute_result",
          "data": {
            "text/plain": [
              "                                                   slug  \\\n",
              "293   https://www.coffeereview.com/review/colombia-t...   \n",
              "294   https://www.coffeereview.com/review/colombia-q...   \n",
              "317   https://www.coffeereview.com/review/costa-rica...   \n",
              "343   https://www.coffeereview.com/review/kona-sl34-...   \n",
              "398   https://www.coffeereview.com/review/espresso-b...   \n",
              "...                                                 ...   \n",
              "2253  https://www.coffeereview.com/review/kenya-gich...   \n",
              "2257  https://www.coffeereview.com/review/sweet-holi...   \n",
              "2259  https://www.coffeereview.com/review/holiday-bl...   \n",
              "2266  https://www.coffeereview.com/review/el-salvado...   \n",
              "2270  https://www.coffeereview.com/review/100-kona-b...   \n",
              "\n",
              "                                          name  \\\n",
              "293                     Colombia Tres Dragones   \n",
              "294         Colombia Quindio Anaerobic Natural   \n",
              "317    Costa Rica Naranjo Danilo Salazar Arias   \n",
              "343   Kona SL34 Champagne Natural Uluwehi Farm   \n",
              "398                             Espresso Blend   \n",
              "...                                        ...   \n",
              "2253                           Kenya Gicherori   \n",
              "2257                       Sweet Holiday Blend   \n",
              "2259                             Holiday Blend   \n",
              "2266             El Salvador Finca Kilimanjaro   \n",
              "2270          100% Kona Bourbon Pointu Laurina   \n",
              "\n",
              "                                                 origin  rating  \\\n",
              "293     Caicedonia, Valle de Cauca Department, Colombia      95   \n",
              "294                        Quindio Department, Colombia      94   \n",
              "317                                Alajuela, Costa Rica      94   \n",
              "343               Holualoa, Kona, Big Island of Hawai’i      94   \n",
              "398        India, Brazil, Ethiopia, Indonesia, Colombia      92   \n",
              "...                                                 ...     ...   \n",
              "2253                 Kiambu County, south-central Kenya      91   \n",
              "2257                          Ethiopia; Kenya; Colombia      93   \n",
              "2259                       Ethiopia; Costa Rica; Panama      93   \n",
              "2266                  Santa Ana Department, El Salvador      95   \n",
              "2270  Holualoa, North Kona growing district, “Big Is...      95   \n",
              "\n",
              "                           roaster  aroma  acid  body  flavor  aftertaste  \\\n",
              "293                  modcup coffee    9.0   9.0   9.0     9.0         9.0   \n",
              "294              Paradise Roasters    9.0   9.0   9.0     9.0         8.0   \n",
              "317               Coffee by Design    9.0   9.0   9.0     9.0         8.0   \n",
              "343              Paradise Roasters    9.0   9.0   9.0     9.0         8.0   \n",
              "398                 Ba Yang Coffee    8.0   NaN   9.0     9.0         7.0   \n",
              "...                            ...    ...   ...   ...     ...         ...   \n",
              "2253  The WestBean Coffee Roasters    8.0   8.0   8.0     9.0         8.0   \n",
              "2257    Red Rooster Coffee Roaster    9.0   8.0   9.0     9.0         8.0   \n",
              "2259                   Fumi Coffee    9.0   9.0   8.0     9.0         8.0   \n",
              "2266     Bird Rock Coffee Roasters    9.0   9.0   9.0     9.0         9.0   \n",
              "2270        Hula Daddy Kona Coffee    9.0   9.0   9.0     9.0         9.0   \n",
              "\n",
              "      with_milk                                             desc_1  \\\n",
              "293         NaN  Richly sweet-savory, fruit-forward, juicy. Dri...   \n",
              "294         NaN  Richly fruit and spice-toned. Dried elderberry...   \n",
              "317         NaN  Bright, richly sweet-tart, fruit-toned. Pomegr...   \n",
              "343         NaN  Tropical fruit-toned, juicy and bright. Lychee...   \n",
              "398         9.0  Evaluated as espresso. Chocolaty and nut-toned...   \n",
              "...         ...                                                ...   \n",
              "2253        NaN  Sweetly savory, layered. Rhododendron-like flo...   \n",
              "2257        NaN  Richly sweet, spice-toned. Baker’s chocolate, ...   \n",
              "2259        NaN  Crisply sweet-tart, high-toned. Lemon verbena,...   \n",
              "2266        NaN  High-toned, richly sweet. Strawberry guava, ro...   \n",
              "2270        NaN  Sweet, deep, intense but balanced. Peach, mapl...   \n",
              "\n",
              "                                                 desc_2  \\\n",
              "293   Produced by Rigoberto and Rodrigo Herrera of F...   \n",
              "294   Produced by smallholding farmers and processed...   \n",
              "317   Produced by Danilo Salazar Arias of San Cristo...   \n",
              "343   Produced at Uluwehi Coffee Farm, entirely of t...   \n",
              "398   A blend of coffees from India, Brazil, Ethiopi...   \n",
              "...                                                 ...   \n",
              "2253  Despite grower discontent and urban encroachme...   \n",
              "2257  This coffee tied for the fourth-highest rating...   \n",
              "2259  This coffee tied for the fourth-highest rating...   \n",
              "2266  This exceptional coffee was selected as the No...   \n",
              "2270  This exceptional coffee was selected as the No...   \n",
              "\n",
              "                                                 desc_3  \n",
              "293   A sweetly fermenty fruit bomb with both vibran...  \n",
              "294   A deeply satisfying, savory-sweet Colombia ana...  \n",
              "317   A lively, juicy-bright natural-processed Costa...  \n",
              "343   A complex, multi-layered Kona SL34 cup process...  \n",
              "398   A friendly, accessible, richly chocolate-drive...  \n",
              "...                                                 ...  \n",
              "2253  A round, sweetly savory Kenya enlivened by the...  \n",
              "2257  A brightly juicy, sweet blend with richly laye...  \n",
              "2259  A lovely blend of four exceptional coffees tha...  \n",
              "2266  A graceful, generously fruit- and floral-toned...  \n",
              "2270  Intense, bright but balanced cup with layered ...  \n",
              "\n",
              "[203 rows x 14 columns]"
            ],
            "text/html": [
              "\n",
              "  <div id=\"df-c7567e88-44df-433b-851c-95e988fd2c7d\">\n",
              "    <div class=\"colab-df-container\">\n",
              "      <div>\n",
              "<style scoped>\n",
              "    .dataframe tbody tr th:only-of-type {\n",
              "        vertical-align: middle;\n",
              "    }\n",
              "\n",
              "    .dataframe tbody tr th {\n",
              "        vertical-align: top;\n",
              "    }\n",
              "\n",
              "    .dataframe thead th {\n",
              "        text-align: right;\n",
              "    }\n",
              "</style>\n",
              "<table border=\"1\" class=\"dataframe\">\n",
              "  <thead>\n",
              "    <tr style=\"text-align: right;\">\n",
              "      <th></th>\n",
              "      <th>slug</th>\n",
              "      <th>name</th>\n",
              "      <th>origin</th>\n",
              "      <th>rating</th>\n",
              "      <th>roaster</th>\n",
              "      <th>aroma</th>\n",
              "      <th>acid</th>\n",
              "      <th>body</th>\n",
              "      <th>flavor</th>\n",
              "      <th>aftertaste</th>\n",
              "      <th>with_milk</th>\n",
              "      <th>desc_1</th>\n",
              "      <th>desc_2</th>\n",
              "      <th>desc_3</th>\n",
              "    </tr>\n",
              "  </thead>\n",
              "  <tbody>\n",
              "    <tr>\n",
              "      <th>293</th>\n",
              "      <td>https://www.coffeereview.com/review/colombia-t...</td>\n",
              "      <td>Colombia Tres Dragones</td>\n",
              "      <td>Caicedonia, Valle de Cauca Department, Colombia</td>\n",
              "      <td>95</td>\n",
              "      <td>modcup coffee</td>\n",
              "      <td>9.0</td>\n",
              "      <td>9.0</td>\n",
              "      <td>9.0</td>\n",
              "      <td>9.0</td>\n",
              "      <td>9.0</td>\n",
              "      <td>NaN</td>\n",
              "      <td>Richly sweet-savory, fruit-forward, juicy. Dri...</td>\n",
              "      <td>Produced by Rigoberto and Rodrigo Herrera of F...</td>\n",
              "      <td>A sweetly fermenty fruit bomb with both vibran...</td>\n",
              "    </tr>\n",
              "    <tr>\n",
              "      <th>294</th>\n",
              "      <td>https://www.coffeereview.com/review/colombia-q...</td>\n",
              "      <td>Colombia Quindio Anaerobic Natural</td>\n",
              "      <td>Quindio Department, Colombia</td>\n",
              "      <td>94</td>\n",
              "      <td>Paradise Roasters</td>\n",
              "      <td>9.0</td>\n",
              "      <td>9.0</td>\n",
              "      <td>9.0</td>\n",
              "      <td>9.0</td>\n",
              "      <td>8.0</td>\n",
              "      <td>NaN</td>\n",
              "      <td>Richly fruit and spice-toned. Dried elderberry...</td>\n",
              "      <td>Produced by smallholding farmers and processed...</td>\n",
              "      <td>A deeply satisfying, savory-sweet Colombia ana...</td>\n",
              "    </tr>\n",
              "    <tr>\n",
              "      <th>317</th>\n",
              "      <td>https://www.coffeereview.com/review/costa-rica...</td>\n",
              "      <td>Costa Rica Naranjo Danilo Salazar Arias</td>\n",
              "      <td>Alajuela, Costa Rica</td>\n",
              "      <td>94</td>\n",
              "      <td>Coffee by Design</td>\n",
              "      <td>9.0</td>\n",
              "      <td>9.0</td>\n",
              "      <td>9.0</td>\n",
              "      <td>9.0</td>\n",
              "      <td>8.0</td>\n",
              "      <td>NaN</td>\n",
              "      <td>Bright, richly sweet-tart, fruit-toned. Pomegr...</td>\n",
              "      <td>Produced by Danilo Salazar Arias of San Cristo...</td>\n",
              "      <td>A lively, juicy-bright natural-processed Costa...</td>\n",
              "    </tr>\n",
              "    <tr>\n",
              "      <th>343</th>\n",
              "      <td>https://www.coffeereview.com/review/kona-sl34-...</td>\n",
              "      <td>Kona SL34 Champagne Natural Uluwehi Farm</td>\n",
              "      <td>Holualoa, Kona, Big Island of Hawai’i</td>\n",
              "      <td>94</td>\n",
              "      <td>Paradise Roasters</td>\n",
              "      <td>9.0</td>\n",
              "      <td>9.0</td>\n",
              "      <td>9.0</td>\n",
              "      <td>9.0</td>\n",
              "      <td>8.0</td>\n",
              "      <td>NaN</td>\n",
              "      <td>Tropical fruit-toned, juicy and bright. Lychee...</td>\n",
              "      <td>Produced at Uluwehi Coffee Farm, entirely of t...</td>\n",
              "      <td>A complex, multi-layered Kona SL34 cup process...</td>\n",
              "    </tr>\n",
              "    <tr>\n",
              "      <th>398</th>\n",
              "      <td>https://www.coffeereview.com/review/espresso-b...</td>\n",
              "      <td>Espresso Blend</td>\n",
              "      <td>India, Brazil, Ethiopia, Indonesia, Colombia</td>\n",
              "      <td>92</td>\n",
              "      <td>Ba Yang Coffee</td>\n",
              "      <td>8.0</td>\n",
              "      <td>NaN</td>\n",
              "      <td>9.0</td>\n",
              "      <td>9.0</td>\n",
              "      <td>7.0</td>\n",
              "      <td>9.0</td>\n",
              "      <td>Evaluated as espresso. Chocolaty and nut-toned...</td>\n",
              "      <td>A blend of coffees from India, Brazil, Ethiopi...</td>\n",
              "      <td>A friendly, accessible, richly chocolate-drive...</td>\n",
              "    </tr>\n",
              "    <tr>\n",
              "      <th>...</th>\n",
              "      <td>...</td>\n",
              "      <td>...</td>\n",
              "      <td>...</td>\n",
              "      <td>...</td>\n",
              "      <td>...</td>\n",
              "      <td>...</td>\n",
              "      <td>...</td>\n",
              "      <td>...</td>\n",
              "      <td>...</td>\n",
              "      <td>...</td>\n",
              "      <td>...</td>\n",
              "      <td>...</td>\n",
              "      <td>...</td>\n",
              "      <td>...</td>\n",
              "    </tr>\n",
              "    <tr>\n",
              "      <th>2253</th>\n",
              "      <td>https://www.coffeereview.com/review/kenya-gich...</td>\n",
              "      <td>Kenya Gicherori</td>\n",
              "      <td>Kiambu County, south-central Kenya</td>\n",
              "      <td>91</td>\n",
              "      <td>The WestBean Coffee Roasters</td>\n",
              "      <td>8.0</td>\n",
              "      <td>8.0</td>\n",
              "      <td>8.0</td>\n",
              "      <td>9.0</td>\n",
              "      <td>8.0</td>\n",
              "      <td>NaN</td>\n",
              "      <td>Sweetly savory, layered. Rhododendron-like flo...</td>\n",
              "      <td>Despite grower discontent and urban encroachme...</td>\n",
              "      <td>A round, sweetly savory Kenya enlivened by the...</td>\n",
              "    </tr>\n",
              "    <tr>\n",
              "      <th>2257</th>\n",
              "      <td>https://www.coffeereview.com/review/sweet-holi...</td>\n",
              "      <td>Sweet Holiday Blend</td>\n",
              "      <td>Ethiopia; Kenya; Colombia</td>\n",
              "      <td>93</td>\n",
              "      <td>Red Rooster Coffee Roaster</td>\n",
              "      <td>9.0</td>\n",
              "      <td>8.0</td>\n",
              "      <td>9.0</td>\n",
              "      <td>9.0</td>\n",
              "      <td>8.0</td>\n",
              "      <td>NaN</td>\n",
              "      <td>Richly sweet, spice-toned. Baker’s chocolate, ...</td>\n",
              "      <td>This coffee tied for the fourth-highest rating...</td>\n",
              "      <td>A brightly juicy, sweet blend with richly laye...</td>\n",
              "    </tr>\n",
              "    <tr>\n",
              "      <th>2259</th>\n",
              "      <td>https://www.coffeereview.com/review/holiday-bl...</td>\n",
              "      <td>Holiday Blend</td>\n",
              "      <td>Ethiopia; Costa Rica; Panama</td>\n",
              "      <td>93</td>\n",
              "      <td>Fumi Coffee</td>\n",
              "      <td>9.0</td>\n",
              "      <td>9.0</td>\n",
              "      <td>8.0</td>\n",
              "      <td>9.0</td>\n",
              "      <td>8.0</td>\n",
              "      <td>NaN</td>\n",
              "      <td>Crisply sweet-tart, high-toned. Lemon verbena,...</td>\n",
              "      <td>This coffee tied for the fourth-highest rating...</td>\n",
              "      <td>A lovely blend of four exceptional coffees tha...</td>\n",
              "    </tr>\n",
              "    <tr>\n",
              "      <th>2266</th>\n",
              "      <td>https://www.coffeereview.com/review/el-salvado...</td>\n",
              "      <td>El Salvador Finca Kilimanjaro</td>\n",
              "      <td>Santa Ana Department, El Salvador</td>\n",
              "      <td>95</td>\n",
              "      <td>Bird Rock Coffee Roasters</td>\n",
              "      <td>9.0</td>\n",
              "      <td>9.0</td>\n",
              "      <td>9.0</td>\n",
              "      <td>9.0</td>\n",
              "      <td>9.0</td>\n",
              "      <td>NaN</td>\n",
              "      <td>High-toned, richly sweet. Strawberry guava, ro...</td>\n",
              "      <td>This exceptional coffee was selected as the No...</td>\n",
              "      <td>A graceful, generously fruit- and floral-toned...</td>\n",
              "    </tr>\n",
              "    <tr>\n",
              "      <th>2270</th>\n",
              "      <td>https://www.coffeereview.com/review/100-kona-b...</td>\n",
              "      <td>100% Kona Bourbon Pointu Laurina</td>\n",
              "      <td>Holualoa, North Kona growing district, “Big Is...</td>\n",
              "      <td>95</td>\n",
              "      <td>Hula Daddy Kona Coffee</td>\n",
              "      <td>9.0</td>\n",
              "      <td>9.0</td>\n",
              "      <td>9.0</td>\n",
              "      <td>9.0</td>\n",
              "      <td>9.0</td>\n",
              "      <td>NaN</td>\n",
              "      <td>Sweet, deep, intense but balanced. Peach, mapl...</td>\n",
              "      <td>This exceptional coffee was selected as the No...</td>\n",
              "      <td>Intense, bright but balanced cup with layered ...</td>\n",
              "    </tr>\n",
              "  </tbody>\n",
              "</table>\n",
              "<p>203 rows × 14 columns</p>\n",
              "</div>\n",
              "      <button class=\"colab-df-convert\" onclick=\"convertToInteractive('df-c7567e88-44df-433b-851c-95e988fd2c7d')\"\n",
              "              title=\"Convert this dataframe to an interactive table.\"\n",
              "              style=\"display:none;\">\n",
              "        \n",
              "  <svg xmlns=\"http://www.w3.org/2000/svg\" height=\"24px\"viewBox=\"0 0 24 24\"\n",
              "       width=\"24px\">\n",
              "    <path d=\"M0 0h24v24H0V0z\" fill=\"none\"/>\n",
              "    <path d=\"M18.56 5.44l.94 2.06.94-2.06 2.06-.94-2.06-.94-.94-2.06-.94 2.06-2.06.94zm-11 1L8.5 8.5l.94-2.06 2.06-.94-2.06-.94L8.5 2.5l-.94 2.06-2.06.94zm10 10l.94 2.06.94-2.06 2.06-.94-2.06-.94-.94-2.06-.94 2.06-2.06.94z\"/><path d=\"M17.41 7.96l-1.37-1.37c-.4-.4-.92-.59-1.43-.59-.52 0-1.04.2-1.43.59L10.3 9.45l-7.72 7.72c-.78.78-.78 2.05 0 2.83L4 21.41c.39.39.9.59 1.41.59.51 0 1.02-.2 1.41-.59l7.78-7.78 2.81-2.81c.8-.78.8-2.07 0-2.86zM5.41 20L4 18.59l7.72-7.72 1.47 1.35L5.41 20z\"/>\n",
              "  </svg>\n",
              "      </button>\n",
              "      \n",
              "  <style>\n",
              "    .colab-df-container {\n",
              "      display:flex;\n",
              "      flex-wrap:wrap;\n",
              "      gap: 12px;\n",
              "    }\n",
              "\n",
              "    .colab-df-convert {\n",
              "      background-color: #E8F0FE;\n",
              "      border: none;\n",
              "      border-radius: 50%;\n",
              "      cursor: pointer;\n",
              "      display: none;\n",
              "      fill: #1967D2;\n",
              "      height: 32px;\n",
              "      padding: 0 0 0 0;\n",
              "      width: 32px;\n",
              "    }\n",
              "\n",
              "    .colab-df-convert:hover {\n",
              "      background-color: #E2EBFA;\n",
              "      box-shadow: 0px 1px 2px rgba(60, 64, 67, 0.3), 0px 1px 3px 1px rgba(60, 64, 67, 0.15);\n",
              "      fill: #174EA6;\n",
              "    }\n",
              "\n",
              "    [theme=dark] .colab-df-convert {\n",
              "      background-color: #3B4455;\n",
              "      fill: #D2E3FC;\n",
              "    }\n",
              "\n",
              "    [theme=dark] .colab-df-convert:hover {\n",
              "      background-color: #434B5C;\n",
              "      box-shadow: 0px 1px 3px 1px rgba(0, 0, 0, 0.15);\n",
              "      filter: drop-shadow(0px 1px 2px rgba(0, 0, 0, 0.3));\n",
              "      fill: #FFFFFF;\n",
              "    }\n",
              "  </style>\n",
              "\n",
              "      <script>\n",
              "        const buttonEl =\n",
              "          document.querySelector('#df-c7567e88-44df-433b-851c-95e988fd2c7d button.colab-df-convert');\n",
              "        buttonEl.style.display =\n",
              "          google.colab.kernel.accessAllowed ? 'block' : 'none';\n",
              "\n",
              "        async function convertToInteractive(key) {\n",
              "          const element = document.querySelector('#df-c7567e88-44df-433b-851c-95e988fd2c7d');\n",
              "          const dataTable =\n",
              "            await google.colab.kernel.invokeFunction('convertToInteractive',\n",
              "                                                     [key], {});\n",
              "          if (!dataTable) return;\n",
              "\n",
              "          const docLinkHtml = 'Like what you see? Visit the ' +\n",
              "            '<a target=\"_blank\" href=https://colab.research.google.com/notebooks/data_table.ipynb>data table notebook</a>'\n",
              "            + ' to learn more about interactive tables.';\n",
              "          element.innerHTML = '';\n",
              "          dataTable['output_type'] = 'display_data';\n",
              "          await google.colab.output.renderOutput(dataTable, element);\n",
              "          const docLink = document.createElement('div');\n",
              "          docLink.innerHTML = docLinkHtml;\n",
              "          element.appendChild(docLink);\n",
              "        }\n",
              "      </script>\n",
              "    </div>\n",
              "  </div>\n",
              "  "
            ]
          },
          "metadata": {},
          "execution_count": 137
        }
      ]
    },
    {
      "cell_type": "code",
      "source": [
        "coffee_rev.isnull().sum()"
      ],
      "metadata": {
        "colab": {
          "base_uri": "https://localhost:8080/"
        },
        "id": "NcL8i3jKPInI",
        "outputId": "4587aaae-b12b-4aa4-cb35-06cc51908d99"
      },
      "execution_count": 138,
      "outputs": [
        {
          "output_type": "execute_result",
          "data": {
            "text/plain": [
              "slug             0\n",
              "name             0\n",
              "origin           0\n",
              "rating           0\n",
              "roaster          0\n",
              "aroma           27\n",
              "acid           328\n",
              "body             3\n",
              "flavor           3\n",
              "aftertaste       3\n",
              "with_milk     1929\n",
              "desc_1           0\n",
              "desc_2           0\n",
              "desc_3           2\n",
              "dtype: int64"
            ]
          },
          "metadata": {},
          "execution_count": 138
        }
      ]
    },
    {
      "cell_type": "code",
      "source": [
        "#missing a value for acid or with_milk, but not both\n",
        "coffee_rev[coffee_rev.acid.isnull() ^ coffee_rev.with_milk.isnull()].shape[0]"
      ],
      "metadata": {
        "colab": {
          "base_uri": "https://localhost:8080/"
        },
        "id": "1AKPQldlV8Ex",
        "outputId": "a9219b80-f13f-4542-fa26-c8d35abf29e5"
      },
      "execution_count": 139,
      "outputs": [
        {
          "output_type": "execute_result",
          "data": {
            "text/plain": [
              "2249"
            ]
          },
          "metadata": {},
          "execution_count": 139
        }
      ]
    },
    {
      "cell_type": "code",
      "source": [
        "#value for both acid and with_milk exist\n",
        "coffee_rev[~coffee_rev.acid.isnull() & ~coffee_rev.with_milk.isnull()][['acid','with_milk']]"
      ],
      "metadata": {
        "colab": {
          "base_uri": "https://localhost:8080/",
          "height": 833
        },
        "id": "jWj_uKngWXJJ",
        "outputId": "b2900428-235e-4bdc-8169-2363bc7d3bb8"
      },
      "execution_count": 140,
      "outputs": [
        {
          "output_type": "execute_result",
          "data": {
            "text/plain": [
              "      acid  with_milk\n",
              "228    9.0        8.0\n",
              "739    9.0        5.0\n",
              "1376   9.0        8.0\n",
              "1377   9.0        9.0\n",
              "1378   9.0        8.0\n",
              "1379   9.0        9.0\n",
              "1380   8.0        9.0\n",
              "1381   8.0        9.0\n",
              "1382   9.0        9.0\n",
              "1383   8.0        9.0\n",
              "1384   9.0        8.0\n",
              "1385   8.0        9.0\n",
              "1386   8.0        9.0\n",
              "2047   9.0        9.0\n",
              "2084   8.0        9.0\n",
              "2085   8.0        9.0\n",
              "2086   9.0        9.0\n",
              "2087   8.0        9.0\n",
              "2088   8.0        9.0\n",
              "2089   8.0        8.0\n",
              "2090   8.0        9.0\n",
              "2091   8.0        9.0\n",
              "2092   8.0        8.0\n",
              "2093   8.0        8.0\n",
              "2094   8.0        8.0"
            ],
            "text/html": [
              "\n",
              "  <div id=\"df-0de1bc2a-f7bf-46a2-82eb-1cba5fe72b4c\">\n",
              "    <div class=\"colab-df-container\">\n",
              "      <div>\n",
              "<style scoped>\n",
              "    .dataframe tbody tr th:only-of-type {\n",
              "        vertical-align: middle;\n",
              "    }\n",
              "\n",
              "    .dataframe tbody tr th {\n",
              "        vertical-align: top;\n",
              "    }\n",
              "\n",
              "    .dataframe thead th {\n",
              "        text-align: right;\n",
              "    }\n",
              "</style>\n",
              "<table border=\"1\" class=\"dataframe\">\n",
              "  <thead>\n",
              "    <tr style=\"text-align: right;\">\n",
              "      <th></th>\n",
              "      <th>acid</th>\n",
              "      <th>with_milk</th>\n",
              "    </tr>\n",
              "  </thead>\n",
              "  <tbody>\n",
              "    <tr>\n",
              "      <th>228</th>\n",
              "      <td>9.0</td>\n",
              "      <td>8.0</td>\n",
              "    </tr>\n",
              "    <tr>\n",
              "      <th>739</th>\n",
              "      <td>9.0</td>\n",
              "      <td>5.0</td>\n",
              "    </tr>\n",
              "    <tr>\n",
              "      <th>1376</th>\n",
              "      <td>9.0</td>\n",
              "      <td>8.0</td>\n",
              "    </tr>\n",
              "    <tr>\n",
              "      <th>1377</th>\n",
              "      <td>9.0</td>\n",
              "      <td>9.0</td>\n",
              "    </tr>\n",
              "    <tr>\n",
              "      <th>1378</th>\n",
              "      <td>9.0</td>\n",
              "      <td>8.0</td>\n",
              "    </tr>\n",
              "    <tr>\n",
              "      <th>1379</th>\n",
              "      <td>9.0</td>\n",
              "      <td>9.0</td>\n",
              "    </tr>\n",
              "    <tr>\n",
              "      <th>1380</th>\n",
              "      <td>8.0</td>\n",
              "      <td>9.0</td>\n",
              "    </tr>\n",
              "    <tr>\n",
              "      <th>1381</th>\n",
              "      <td>8.0</td>\n",
              "      <td>9.0</td>\n",
              "    </tr>\n",
              "    <tr>\n",
              "      <th>1382</th>\n",
              "      <td>9.0</td>\n",
              "      <td>9.0</td>\n",
              "    </tr>\n",
              "    <tr>\n",
              "      <th>1383</th>\n",
              "      <td>8.0</td>\n",
              "      <td>9.0</td>\n",
              "    </tr>\n",
              "    <tr>\n",
              "      <th>1384</th>\n",
              "      <td>9.0</td>\n",
              "      <td>8.0</td>\n",
              "    </tr>\n",
              "    <tr>\n",
              "      <th>1385</th>\n",
              "      <td>8.0</td>\n",
              "      <td>9.0</td>\n",
              "    </tr>\n",
              "    <tr>\n",
              "      <th>1386</th>\n",
              "      <td>8.0</td>\n",
              "      <td>9.0</td>\n",
              "    </tr>\n",
              "    <tr>\n",
              "      <th>2047</th>\n",
              "      <td>9.0</td>\n",
              "      <td>9.0</td>\n",
              "    </tr>\n",
              "    <tr>\n",
              "      <th>2084</th>\n",
              "      <td>8.0</td>\n",
              "      <td>9.0</td>\n",
              "    </tr>\n",
              "    <tr>\n",
              "      <th>2085</th>\n",
              "      <td>8.0</td>\n",
              "      <td>9.0</td>\n",
              "    </tr>\n",
              "    <tr>\n",
              "      <th>2086</th>\n",
              "      <td>9.0</td>\n",
              "      <td>9.0</td>\n",
              "    </tr>\n",
              "    <tr>\n",
              "      <th>2087</th>\n",
              "      <td>8.0</td>\n",
              "      <td>9.0</td>\n",
              "    </tr>\n",
              "    <tr>\n",
              "      <th>2088</th>\n",
              "      <td>8.0</td>\n",
              "      <td>9.0</td>\n",
              "    </tr>\n",
              "    <tr>\n",
              "      <th>2089</th>\n",
              "      <td>8.0</td>\n",
              "      <td>8.0</td>\n",
              "    </tr>\n",
              "    <tr>\n",
              "      <th>2090</th>\n",
              "      <td>8.0</td>\n",
              "      <td>9.0</td>\n",
              "    </tr>\n",
              "    <tr>\n",
              "      <th>2091</th>\n",
              "      <td>8.0</td>\n",
              "      <td>9.0</td>\n",
              "    </tr>\n",
              "    <tr>\n",
              "      <th>2092</th>\n",
              "      <td>8.0</td>\n",
              "      <td>8.0</td>\n",
              "    </tr>\n",
              "    <tr>\n",
              "      <th>2093</th>\n",
              "      <td>8.0</td>\n",
              "      <td>8.0</td>\n",
              "    </tr>\n",
              "    <tr>\n",
              "      <th>2094</th>\n",
              "      <td>8.0</td>\n",
              "      <td>8.0</td>\n",
              "    </tr>\n",
              "  </tbody>\n",
              "</table>\n",
              "</div>\n",
              "      <button class=\"colab-df-convert\" onclick=\"convertToInteractive('df-0de1bc2a-f7bf-46a2-82eb-1cba5fe72b4c')\"\n",
              "              title=\"Convert this dataframe to an interactive table.\"\n",
              "              style=\"display:none;\">\n",
              "        \n",
              "  <svg xmlns=\"http://www.w3.org/2000/svg\" height=\"24px\"viewBox=\"0 0 24 24\"\n",
              "       width=\"24px\">\n",
              "    <path d=\"M0 0h24v24H0V0z\" fill=\"none\"/>\n",
              "    <path d=\"M18.56 5.44l.94 2.06.94-2.06 2.06-.94-2.06-.94-.94-2.06-.94 2.06-2.06.94zm-11 1L8.5 8.5l.94-2.06 2.06-.94-2.06-.94L8.5 2.5l-.94 2.06-2.06.94zm10 10l.94 2.06.94-2.06 2.06-.94-2.06-.94-.94-2.06-.94 2.06-2.06.94z\"/><path d=\"M17.41 7.96l-1.37-1.37c-.4-.4-.92-.59-1.43-.59-.52 0-1.04.2-1.43.59L10.3 9.45l-7.72 7.72c-.78.78-.78 2.05 0 2.83L4 21.41c.39.39.9.59 1.41.59.51 0 1.02-.2 1.41-.59l7.78-7.78 2.81-2.81c.8-.78.8-2.07 0-2.86zM5.41 20L4 18.59l7.72-7.72 1.47 1.35L5.41 20z\"/>\n",
              "  </svg>\n",
              "      </button>\n",
              "      \n",
              "  <style>\n",
              "    .colab-df-container {\n",
              "      display:flex;\n",
              "      flex-wrap:wrap;\n",
              "      gap: 12px;\n",
              "    }\n",
              "\n",
              "    .colab-df-convert {\n",
              "      background-color: #E8F0FE;\n",
              "      border: none;\n",
              "      border-radius: 50%;\n",
              "      cursor: pointer;\n",
              "      display: none;\n",
              "      fill: #1967D2;\n",
              "      height: 32px;\n",
              "      padding: 0 0 0 0;\n",
              "      width: 32px;\n",
              "    }\n",
              "\n",
              "    .colab-df-convert:hover {\n",
              "      background-color: #E2EBFA;\n",
              "      box-shadow: 0px 1px 2px rgba(60, 64, 67, 0.3), 0px 1px 3px 1px rgba(60, 64, 67, 0.15);\n",
              "      fill: #174EA6;\n",
              "    }\n",
              "\n",
              "    [theme=dark] .colab-df-convert {\n",
              "      background-color: #3B4455;\n",
              "      fill: #D2E3FC;\n",
              "    }\n",
              "\n",
              "    [theme=dark] .colab-df-convert:hover {\n",
              "      background-color: #434B5C;\n",
              "      box-shadow: 0px 1px 3px 1px rgba(0, 0, 0, 0.15);\n",
              "      filter: drop-shadow(0px 1px 2px rgba(0, 0, 0, 0.3));\n",
              "      fill: #FFFFFF;\n",
              "    }\n",
              "  </style>\n",
              "\n",
              "      <script>\n",
              "        const buttonEl =\n",
              "          document.querySelector('#df-0de1bc2a-f7bf-46a2-82eb-1cba5fe72b4c button.colab-df-convert');\n",
              "        buttonEl.style.display =\n",
              "          google.colab.kernel.accessAllowed ? 'block' : 'none';\n",
              "\n",
              "        async function convertToInteractive(key) {\n",
              "          const element = document.querySelector('#df-0de1bc2a-f7bf-46a2-82eb-1cba5fe72b4c');\n",
              "          const dataTable =\n",
              "            await google.colab.kernel.invokeFunction('convertToInteractive',\n",
              "                                                     [key], {});\n",
              "          if (!dataTable) return;\n",
              "\n",
              "          const docLinkHtml = 'Like what you see? Visit the ' +\n",
              "            '<a target=\"_blank\" href=https://colab.research.google.com/notebooks/data_table.ipynb>data table notebook</a>'\n",
              "            + ' to learn more about interactive tables.';\n",
              "          element.innerHTML = '';\n",
              "          dataTable['output_type'] = 'display_data';\n",
              "          await google.colab.output.renderOutput(dataTable, element);\n",
              "          const docLink = document.createElement('div');\n",
              "          docLink.innerHTML = docLinkHtml;\n",
              "          element.appendChild(docLink);\n",
              "        }\n",
              "      </script>\n",
              "    </div>\n",
              "  </div>\n",
              "  "
            ]
          },
          "metadata": {},
          "execution_count": 140
        }
      ]
    },
    {
      "cell_type": "code",
      "source": [
        "coffee_rev['acid_or_milk'] = coffee_rev['acid'].fillna(coffee_rev.with_milk)\n",
        "coffee_rev['type_with_milk'] = coffee_rev['with_milk'].fillna(0).map(lambda x: 1 if x > 0 else 0)"
      ],
      "metadata": {
        "id": "BxWtzDlUWeFp"
      },
      "execution_count": 141,
      "outputs": []
    },
    {
      "cell_type": "code",
      "source": [
        "coffee_rev['acid_or_milk'].describe()"
      ],
      "metadata": {
        "colab": {
          "base_uri": "https://localhost:8080/"
        },
        "id": "oIk-8ou0XLpi",
        "outputId": "70e6dfd3-5bfa-4c4e-e2ed-72e6eccebd3e"
      },
      "execution_count": 142,
      "outputs": [
        {
          "output_type": "execute_result",
          "data": {
            "text/plain": [
              "count    2274.000000\n",
              "mean        8.543536\n",
              "std         0.630013\n",
              "min         1.000000\n",
              "25%         8.000000\n",
              "50%         9.000000\n",
              "75%         9.000000\n",
              "max        10.000000\n",
              "Name: acid_or_milk, dtype: float64"
            ]
          },
          "metadata": {},
          "execution_count": 142
        }
      ]
    },
    {
      "cell_type": "code",
      "source": [
        "coffee_rev.acid_or_milk.isnull().sum()"
      ],
      "metadata": {
        "colab": {
          "base_uri": "https://localhost:8080/"
        },
        "id": "AO7FB2enWgF6",
        "outputId": "f5c592ea-a862-4437-8d58-caf3be50e73b"
      },
      "execution_count": 143,
      "outputs": [
        {
          "output_type": "execute_result",
          "data": {
            "text/plain": [
              "4"
            ]
          },
          "metadata": {},
          "execution_count": 143
        }
      ]
    },
    {
      "cell_type": "code",
      "source": [
        "coffee_rev = coffee_rev.dropna(subset=['acid_or_milk'],axis=0)"
      ],
      "metadata": {
        "id": "9JF8rqKnWlqu"
      },
      "execution_count": 144,
      "outputs": []
    },
    {
      "cell_type": "code",
      "source": [
        "coffee_rev.isnull().sum()"
      ],
      "metadata": {
        "colab": {
          "base_uri": "https://localhost:8080/"
        },
        "id": "B0u0EplQWtK8",
        "outputId": "92146c2a-db1e-4381-a3fa-74a5e5cf5283"
      },
      "execution_count": 145,
      "outputs": [
        {
          "output_type": "execute_result",
          "data": {
            "text/plain": [
              "slug                 0\n",
              "name                 0\n",
              "origin               0\n",
              "rating               0\n",
              "roaster              0\n",
              "aroma               24\n",
              "acid               324\n",
              "body                 0\n",
              "flavor               0\n",
              "aftertaste           0\n",
              "with_milk         1925\n",
              "desc_1               0\n",
              "desc_2               0\n",
              "desc_3               2\n",
              "acid_or_milk         0\n",
              "type_with_milk       0\n",
              "dtype: int64"
            ]
          },
          "metadata": {},
          "execution_count": 145
        }
      ]
    },
    {
      "cell_type": "code",
      "source": [
        "coffee_data = coffee_rev.filter(['slug', 'name', 'origin', 'rating', 'roaster', 'aroma', 'acid_or_milk', 'body', 'flavor', 'aftertaste', 'desc_1', 'desc_2', 'desc_3'])\n",
        "coffee_data.head(5)"
      ],
      "metadata": {
        "colab": {
          "base_uri": "https://localhost:8080/",
          "height": 669
        },
        "id": "NVC76DJ9W21S",
        "outputId": "0bf99297-f4c1-42fe-cf8b-bb8589859f2b"
      },
      "execution_count": 146,
      "outputs": [
        {
          "output_type": "execute_result",
          "data": {
            "text/plain": [
              "                                                slug  \\\n",
              "0  https://www.coffeereview.com/review/ethiopia-r...   \n",
              "1  https://www.coffeereview.com/review/double-ana...   \n",
              "2  https://www.coffeereview.com/review/ethiopia-c...   \n",
              "3  https://www.coffeereview.com/review/ethiopia-h...   \n",
              "4  https://www.coffeereview.com/review/colombia-p...   \n",
              "\n",
              "                                           name  \\\n",
              "0                     Ethiopia Reko Yirgacheffe   \n",
              "1  Double-Anaerobic Fermentation Tamiru Tadesse   \n",
              "2          Ethiopia Chelbesa Danche Yirgacheffe   \n",
              "3         Ethiopia Honey Process Tamiru Tadesse   \n",
              "4                      Colombia Planadas Tolima   \n",
              "\n",
              "                                            origin  rating  \\\n",
              "0    Yirgacheffe growing region, southern Ethiopia      94   \n",
              "1    Sidamo growing region, south-central Ethiopia      94   \n",
              "2  Chelchele, Gedeb District, Gedeo Zone, Ethiopia      94   \n",
              "3    Sidamo growing region, south-central Ethiopia      94   \n",
              "4                                 Tolima, Colombia      93   \n",
              "\n",
              "                 roaster  aroma  acid_or_milk  body  flavor  aftertaste  \\\n",
              "0          Temple Coffee    9.0           9.0   9.0     9.0         8.0   \n",
              "1     Genesis Coffee Lab    9.0           9.0   9.0     9.0         8.0   \n",
              "2  Jaunt Coffee Roasters    9.0           9.0   9.0     9.0         8.0   \n",
              "3     Genesis Coffee Lab    9.0           9.0   9.0     9.0         8.0   \n",
              "4  Jaunt Coffee Roasters    9.0           9.0   8.0     9.0         8.0   \n",
              "\n",
              "                                              desc_1  \\\n",
              "0  Rich-toned, deeply floral. White peach, tea ro...   \n",
              "1  Richly floral-toned, crisply sweet. Honeysuckl...   \n",
              "2  Elegantly sweet, floral-toned. Lilac, almond, ...   \n",
              "3  Delicately fruit-toned, tisane-like. Dried str...   \n",
              "4  Delicate, richly aromatic. Pineapple, almond n...   \n",
              "\n",
              "                                              desc_2  \\\n",
              "0  Produced by the Reko Farming Cooperative from ...   \n",
              "1  Produced by Tamiru Tadesse of Alo Coffee. Sout...   \n",
              "2  Produced by the METAD farm and mill in souther...   \n",
              "3  Produced by Tamiru Tadesse of Alo Coffee. Sout...   \n",
              "4  Produced by Jorge Elias Rojas entirely of the ...   \n",
              "\n",
              "                                              desc_3  \n",
              "0  A classic washed Yirgacheffe cup driven by not...  \n",
              "1  A floral-driven anaerobic Ethiopia cup free of...  \n",
              "2  A brightly sweet, fragrantly floral-driven was...  \n",
              "3  A delicate, elegant, honey-processed Sidamo cu...  \n",
              "4  A lovely Colombia Geisha cup, finely tea-like ...  "
            ],
            "text/html": [
              "\n",
              "  <div id=\"df-f485460a-0a35-4c66-a9f7-29f3921c6c32\">\n",
              "    <div class=\"colab-df-container\">\n",
              "      <div>\n",
              "<style scoped>\n",
              "    .dataframe tbody tr th:only-of-type {\n",
              "        vertical-align: middle;\n",
              "    }\n",
              "\n",
              "    .dataframe tbody tr th {\n",
              "        vertical-align: top;\n",
              "    }\n",
              "\n",
              "    .dataframe thead th {\n",
              "        text-align: right;\n",
              "    }\n",
              "</style>\n",
              "<table border=\"1\" class=\"dataframe\">\n",
              "  <thead>\n",
              "    <tr style=\"text-align: right;\">\n",
              "      <th></th>\n",
              "      <th>slug</th>\n",
              "      <th>name</th>\n",
              "      <th>origin</th>\n",
              "      <th>rating</th>\n",
              "      <th>roaster</th>\n",
              "      <th>aroma</th>\n",
              "      <th>acid_or_milk</th>\n",
              "      <th>body</th>\n",
              "      <th>flavor</th>\n",
              "      <th>aftertaste</th>\n",
              "      <th>desc_1</th>\n",
              "      <th>desc_2</th>\n",
              "      <th>desc_3</th>\n",
              "    </tr>\n",
              "  </thead>\n",
              "  <tbody>\n",
              "    <tr>\n",
              "      <th>0</th>\n",
              "      <td>https://www.coffeereview.com/review/ethiopia-r...</td>\n",
              "      <td>Ethiopia Reko Yirgacheffe</td>\n",
              "      <td>Yirgacheffe growing region, southern Ethiopia</td>\n",
              "      <td>94</td>\n",
              "      <td>Temple Coffee</td>\n",
              "      <td>9.0</td>\n",
              "      <td>9.0</td>\n",
              "      <td>9.0</td>\n",
              "      <td>9.0</td>\n",
              "      <td>8.0</td>\n",
              "      <td>Rich-toned, deeply floral. White peach, tea ro...</td>\n",
              "      <td>Produced by the Reko Farming Cooperative from ...</td>\n",
              "      <td>A classic washed Yirgacheffe cup driven by not...</td>\n",
              "    </tr>\n",
              "    <tr>\n",
              "      <th>1</th>\n",
              "      <td>https://www.coffeereview.com/review/double-ana...</td>\n",
              "      <td>Double-Anaerobic Fermentation Tamiru Tadesse</td>\n",
              "      <td>Sidamo growing region, south-central Ethiopia</td>\n",
              "      <td>94</td>\n",
              "      <td>Genesis Coffee Lab</td>\n",
              "      <td>9.0</td>\n",
              "      <td>9.0</td>\n",
              "      <td>9.0</td>\n",
              "      <td>9.0</td>\n",
              "      <td>8.0</td>\n",
              "      <td>Richly floral-toned, crisply sweet. Honeysuckl...</td>\n",
              "      <td>Produced by Tamiru Tadesse of Alo Coffee. Sout...</td>\n",
              "      <td>A floral-driven anaerobic Ethiopia cup free of...</td>\n",
              "    </tr>\n",
              "    <tr>\n",
              "      <th>2</th>\n",
              "      <td>https://www.coffeereview.com/review/ethiopia-c...</td>\n",
              "      <td>Ethiopia Chelbesa Danche Yirgacheffe</td>\n",
              "      <td>Chelchele, Gedeb District, Gedeo Zone, Ethiopia</td>\n",
              "      <td>94</td>\n",
              "      <td>Jaunt Coffee Roasters</td>\n",
              "      <td>9.0</td>\n",
              "      <td>9.0</td>\n",
              "      <td>9.0</td>\n",
              "      <td>9.0</td>\n",
              "      <td>8.0</td>\n",
              "      <td>Elegantly sweet, floral-toned. Lilac, almond, ...</td>\n",
              "      <td>Produced by the METAD farm and mill in souther...</td>\n",
              "      <td>A brightly sweet, fragrantly floral-driven was...</td>\n",
              "    </tr>\n",
              "    <tr>\n",
              "      <th>3</th>\n",
              "      <td>https://www.coffeereview.com/review/ethiopia-h...</td>\n",
              "      <td>Ethiopia Honey Process Tamiru Tadesse</td>\n",
              "      <td>Sidamo growing region, south-central Ethiopia</td>\n",
              "      <td>94</td>\n",
              "      <td>Genesis Coffee Lab</td>\n",
              "      <td>9.0</td>\n",
              "      <td>9.0</td>\n",
              "      <td>9.0</td>\n",
              "      <td>9.0</td>\n",
              "      <td>8.0</td>\n",
              "      <td>Delicately fruit-toned, tisane-like. Dried str...</td>\n",
              "      <td>Produced by Tamiru Tadesse of Alo Coffee. Sout...</td>\n",
              "      <td>A delicate, elegant, honey-processed Sidamo cu...</td>\n",
              "    </tr>\n",
              "    <tr>\n",
              "      <th>4</th>\n",
              "      <td>https://www.coffeereview.com/review/colombia-p...</td>\n",
              "      <td>Colombia Planadas Tolima</td>\n",
              "      <td>Tolima, Colombia</td>\n",
              "      <td>93</td>\n",
              "      <td>Jaunt Coffee Roasters</td>\n",
              "      <td>9.0</td>\n",
              "      <td>9.0</td>\n",
              "      <td>8.0</td>\n",
              "      <td>9.0</td>\n",
              "      <td>8.0</td>\n",
              "      <td>Delicate, richly aromatic. Pineapple, almond n...</td>\n",
              "      <td>Produced by Jorge Elias Rojas entirely of the ...</td>\n",
              "      <td>A lovely Colombia Geisha cup, finely tea-like ...</td>\n",
              "    </tr>\n",
              "  </tbody>\n",
              "</table>\n",
              "</div>\n",
              "      <button class=\"colab-df-convert\" onclick=\"convertToInteractive('df-f485460a-0a35-4c66-a9f7-29f3921c6c32')\"\n",
              "              title=\"Convert this dataframe to an interactive table.\"\n",
              "              style=\"display:none;\">\n",
              "        \n",
              "  <svg xmlns=\"http://www.w3.org/2000/svg\" height=\"24px\"viewBox=\"0 0 24 24\"\n",
              "       width=\"24px\">\n",
              "    <path d=\"M0 0h24v24H0V0z\" fill=\"none\"/>\n",
              "    <path d=\"M18.56 5.44l.94 2.06.94-2.06 2.06-.94-2.06-.94-.94-2.06-.94 2.06-2.06.94zm-11 1L8.5 8.5l.94-2.06 2.06-.94-2.06-.94L8.5 2.5l-.94 2.06-2.06.94zm10 10l.94 2.06.94-2.06 2.06-.94-2.06-.94-.94-2.06-.94 2.06-2.06.94z\"/><path d=\"M17.41 7.96l-1.37-1.37c-.4-.4-.92-.59-1.43-.59-.52 0-1.04.2-1.43.59L10.3 9.45l-7.72 7.72c-.78.78-.78 2.05 0 2.83L4 21.41c.39.39.9.59 1.41.59.51 0 1.02-.2 1.41-.59l7.78-7.78 2.81-2.81c.8-.78.8-2.07 0-2.86zM5.41 20L4 18.59l7.72-7.72 1.47 1.35L5.41 20z\"/>\n",
              "  </svg>\n",
              "      </button>\n",
              "      \n",
              "  <style>\n",
              "    .colab-df-container {\n",
              "      display:flex;\n",
              "      flex-wrap:wrap;\n",
              "      gap: 12px;\n",
              "    }\n",
              "\n",
              "    .colab-df-convert {\n",
              "      background-color: #E8F0FE;\n",
              "      border: none;\n",
              "      border-radius: 50%;\n",
              "      cursor: pointer;\n",
              "      display: none;\n",
              "      fill: #1967D2;\n",
              "      height: 32px;\n",
              "      padding: 0 0 0 0;\n",
              "      width: 32px;\n",
              "    }\n",
              "\n",
              "    .colab-df-convert:hover {\n",
              "      background-color: #E2EBFA;\n",
              "      box-shadow: 0px 1px 2px rgba(60, 64, 67, 0.3), 0px 1px 3px 1px rgba(60, 64, 67, 0.15);\n",
              "      fill: #174EA6;\n",
              "    }\n",
              "\n",
              "    [theme=dark] .colab-df-convert {\n",
              "      background-color: #3B4455;\n",
              "      fill: #D2E3FC;\n",
              "    }\n",
              "\n",
              "    [theme=dark] .colab-df-convert:hover {\n",
              "      background-color: #434B5C;\n",
              "      box-shadow: 0px 1px 3px 1px rgba(0, 0, 0, 0.15);\n",
              "      filter: drop-shadow(0px 1px 2px rgba(0, 0, 0, 0.3));\n",
              "      fill: #FFFFFF;\n",
              "    }\n",
              "  </style>\n",
              "\n",
              "      <script>\n",
              "        const buttonEl =\n",
              "          document.querySelector('#df-f485460a-0a35-4c66-a9f7-29f3921c6c32 button.colab-df-convert');\n",
              "        buttonEl.style.display =\n",
              "          google.colab.kernel.accessAllowed ? 'block' : 'none';\n",
              "\n",
              "        async function convertToInteractive(key) {\n",
              "          const element = document.querySelector('#df-f485460a-0a35-4c66-a9f7-29f3921c6c32');\n",
              "          const dataTable =\n",
              "            await google.colab.kernel.invokeFunction('convertToInteractive',\n",
              "                                                     [key], {});\n",
              "          if (!dataTable) return;\n",
              "\n",
              "          const docLinkHtml = 'Like what you see? Visit the ' +\n",
              "            '<a target=\"_blank\" href=https://colab.research.google.com/notebooks/data_table.ipynb>data table notebook</a>'\n",
              "            + ' to learn more about interactive tables.';\n",
              "          element.innerHTML = '';\n",
              "          dataTable['output_type'] = 'display_data';\n",
              "          await google.colab.output.renderOutput(dataTable, element);\n",
              "          const docLink = document.createElement('div');\n",
              "          docLink.innerHTML = docLinkHtml;\n",
              "          element.appendChild(docLink);\n",
              "        }\n",
              "      </script>\n",
              "    </div>\n",
              "  </div>\n",
              "  "
            ]
          },
          "metadata": {},
          "execution_count": 146
        }
      ]
    },
    {
      "cell_type": "code",
      "source": [
        "coffee_data.isnull().sum()"
      ],
      "metadata": {
        "colab": {
          "base_uri": "https://localhost:8080/"
        },
        "id": "h-FrK4EMY66B",
        "outputId": "8841d25a-ed13-4930-bcb5-310255635699"
      },
      "execution_count": 147,
      "outputs": [
        {
          "output_type": "execute_result",
          "data": {
            "text/plain": [
              "slug             0\n",
              "name             0\n",
              "origin           0\n",
              "rating           0\n",
              "roaster          0\n",
              "aroma           24\n",
              "acid_or_milk     0\n",
              "body             0\n",
              "flavor           0\n",
              "aftertaste       0\n",
              "desc_1           0\n",
              "desc_2           0\n",
              "desc_3           2\n",
              "dtype: int64"
            ]
          },
          "metadata": {},
          "execution_count": 147
        }
      ]
    },
    {
      "cell_type": "markdown",
      "source": [
        "Since there are quite a lot of null data in the important columns, we will assign a value of 0 to each of those null columns. We do this because if we remove all null data then we will lose quite a lot of data, and we don't want this."
      ],
      "metadata": {
        "id": "zjf-BGyURr63"
      }
    },
    {
      "cell_type": "code",
      "source": [
        "values = {'aroma': 0.0, 'desc_3': 'nothing'}\n",
        "coffee_data.fillna(values, inplace=True)"
      ],
      "metadata": {
        "id": "Z49xeHE6RsrD"
      },
      "execution_count": 148,
      "outputs": []
    },
    {
      "cell_type": "code",
      "source": [
        "print('The number of null data is ', coffee_data.isnull().sum().sum(), ' records')"
      ],
      "metadata": {
        "colab": {
          "base_uri": "https://localhost:8080/"
        },
        "id": "ehjRP9yiSFFL",
        "outputId": "ffa6beaf-685c-4760-b173-c7395a16d950"
      },
      "execution_count": 149,
      "outputs": [
        {
          "output_type": "stream",
          "name": "stdout",
          "text": [
            "The number of null data is  0  records\n"
          ]
        }
      ]
    },
    {
      "cell_type": "markdown",
      "source": [
        "##**Analyze data for each column**"
      ],
      "metadata": {
        "id": "2QvRjWRiSZGh"
      }
    },
    {
      "cell_type": "code",
      "source": [
        "coffee_data.info()"
      ],
      "metadata": {
        "colab": {
          "base_uri": "https://localhost:8080/"
        },
        "id": "B14RyrcwPW5l",
        "outputId": "b171b180-6ade-48fc-a5b4-ab6fd1d26f77"
      },
      "execution_count": 150,
      "outputs": [
        {
          "output_type": "stream",
          "name": "stdout",
          "text": [
            "<class 'pandas.core.frame.DataFrame'>\n",
            "Int64Index: 2274 entries, 0 to 2277\n",
            "Data columns (total 13 columns):\n",
            " #   Column        Non-Null Count  Dtype  \n",
            "---  ------        --------------  -----  \n",
            " 0   slug          2274 non-null   object \n",
            " 1   name          2274 non-null   object \n",
            " 2   origin        2274 non-null   object \n",
            " 3   rating        2274 non-null   int64  \n",
            " 4   roaster       2274 non-null   object \n",
            " 5   aroma         2274 non-null   float64\n",
            " 6   acid_or_milk  2274 non-null   float64\n",
            " 7   body          2274 non-null   float64\n",
            " 8   flavor        2274 non-null   float64\n",
            " 9   aftertaste    2274 non-null   float64\n",
            " 10  desc_1        2274 non-null   object \n",
            " 11  desc_2        2274 non-null   object \n",
            " 12  desc_3        2274 non-null   object \n",
            "dtypes: float64(5), int64(1), object(7)\n",
            "memory usage: 248.7+ KB\n"
          ]
        }
      ]
    },
    {
      "cell_type": "markdown",
      "source": [
        "###**Name column**"
      ],
      "metadata": {
        "id": "nzRoVqkyifrs"
      }
    },
    {
      "cell_type": "code",
      "source": [
        "count_name_rev = coffee_data.name.unique().size\n",
        "print(f'There are {count_name_rev} different coffee_data name of {coffee_data.shape[0]} data in our dataset')"
      ],
      "metadata": {
        "colab": {
          "base_uri": "https://localhost:8080/"
        },
        "id": "L0JwH2evP8nB",
        "outputId": "bbe48f7b-fa69-416f-bfce-533c640bdb1a"
      },
      "execution_count": 151,
      "outputs": [
        {
          "output_type": "stream",
          "name": "stdout",
          "text": [
            "There are 2071 different coffee_data name of 2274 data in our dataset\n"
          ]
        }
      ]
    },
    {
      "cell_type": "markdown",
      "source": [
        "We can see that there are a lot of duplicate coffee names. Therefore we will leave one unique name and delete data with duplicate names so that it does not interfere with the filtering and recommendation process"
      ],
      "metadata": {
        "id": "0yDvjQDcjalF"
      }
    },
    {
      "cell_type": "code",
      "source": [
        "coffee_data = coffee_data.drop_duplicates(subset=['name'])\n",
        "print(f'There are {count_name_rev} different coffee_data name of {coffee_data.shape[0]} data in our dataset')"
      ],
      "metadata": {
        "colab": {
          "base_uri": "https://localhost:8080/"
        },
        "id": "XYP8oZXlQEgj",
        "outputId": "3f8312cd-ba4c-49b5-a452-929e1644b4d0"
      },
      "execution_count": 152,
      "outputs": [
        {
          "output_type": "stream",
          "name": "stdout",
          "text": [
            "There are 2071 different coffee_data name of 2071 data in our dataset\n"
          ]
        }
      ]
    },
    {
      "cell_type": "markdown",
      "source": [
        "###**Rating column**"
      ],
      "metadata": {
        "id": "obvjCIv9Supn"
      }
    },
    {
      "cell_type": "code",
      "source": [
        "plt.figure(figsize=(10,10))\n",
        "sns.countplot(y=coffee_data['rating'])\n",
        "plt.title(\"Coffee Rating Frequency\")\n",
        "plt.show()"
      ],
      "metadata": {
        "colab": {
          "base_uri": "https://localhost:8080/",
          "height": 620
        },
        "id": "jIss6GrNQNze",
        "outputId": "1f88f83e-d64f-4b8b-c750-be75affc4a2d"
      },
      "execution_count": 153,
      "outputs": [
        {
          "output_type": "display_data",
          "data": {
            "text/plain": [
              "<Figure size 720x720 with 1 Axes>"
            ],
            "image/png": "[encoded data removed]"
          },
          "metadata": {}
        }
      ]
    },
    {
      "cell_type": "code",
      "source": [
        "print('Count each value of rating')\n",
        "coffee_data['rating'].value_counts()"
      ],
      "metadata": {
        "colab": {
          "base_uri": "https://localhost:8080/"
        },
        "id": "W1kZRB6WQSQf",
        "outputId": "cd3ddc6c-72b6-4433-a196-23f7d96cf313"
      },
      "execution_count": 154,
      "outputs": [
        {
          "output_type": "stream",
          "name": "stdout",
          "text": [
            "Count each value of rating\n"
          ]
        },
        {
          "output_type": "execute_result",
          "data": {
            "text/plain": [
              "93    605\n",
              "94    504\n",
              "92    368\n",
              "95    248\n",
              "91    113\n",
              "90     96\n",
              "96     68\n",
              "97     15\n",
              "88     12\n",
              "89      9\n",
              "87      8\n",
              "86      8\n",
              "84      4\n",
              "98      3\n",
              "83      3\n",
              "85      2\n",
              "80      1\n",
              "72      1\n",
              "68      1\n",
              "63      1\n",
              "67      1\n",
              "Name: rating, dtype: int64"
            ]
          },
          "metadata": {},
          "execution_count": 154
        }
      ]
    },
    {
      "cell_type": "code",
      "source": [
        "coffee_data['rating'].describe()"
      ],
      "metadata": {
        "colab": {
          "base_uri": "https://localhost:8080/"
        },
        "id": "0QaScExsQVUD",
        "outputId": "8d5ddedc-73dd-4fe6-bf3f-ad441af4a249"
      },
      "execution_count": 155,
      "outputs": [
        {
          "output_type": "execute_result",
          "data": {
            "text/plain": [
              "count    2071.000000\n",
              "mean       93.000000\n",
              "std         2.061143\n",
              "min        63.000000\n",
              "25%        92.000000\n",
              "50%        93.000000\n",
              "75%        94.000000\n",
              "max        98.000000\n",
              "Name: rating, dtype: float64"
            ]
          },
          "metadata": {},
          "execution_count": 155
        }
      ]
    },
    {
      "cell_type": "markdown",
      "source": [
        "From the visualization and analysis above, we can see that the majority of our coffee data has a good rating"
      ],
      "metadata": {
        "id": "oDn9BVr2YiXR"
      }
    },
    {
      "cell_type": "markdown",
      "source": [
        "###**Roaster column**"
      ],
      "metadata": {
        "id": "YCZtjQ4abKAH"
      }
    },
    {
      "cell_type": "code",
      "source": [
        "count_roaster_rev = coffee_data.roaster.unique().size\n",
        "print(f'There are {count_roaster_rev} different roasters in our dataset')"
      ],
      "metadata": {
        "colab": {
          "base_uri": "https://localhost:8080/"
        },
        "id": "k3d98HYgQYfq",
        "outputId": "229ae2e6-82df-45e0-8185-a37d5bd52d6a"
      },
      "execution_count": 156,
      "outputs": [
        {
          "output_type": "stream",
          "name": "stdout",
          "text": [
            "There are 464 different roasters in our dataset\n"
          ]
        }
      ]
    },
    {
      "cell_type": "markdown",
      "source": [
        "###**Aroma, acid, and body column**"
      ],
      "metadata": {
        "id": "Qbr4FR2VY5MI"
      }
    },
    {
      "cell_type": "code",
      "source": [
        "coffee_data[['aroma', 'acid_or_milk', 'body', 'flavor', 'aftertaste']].describe()"
      ],
      "metadata": {
        "colab": {
          "base_uri": "https://localhost:8080/",
          "height": 300
        },
        "id": "xe16mNKNQd0B",
        "outputId": "856d61d4-7393-4a2b-a6c7-fe1338ac8694"
      },
      "execution_count": 157,
      "outputs": [
        {
          "output_type": "execute_result",
          "data": {
            "text/plain": [
              "             aroma  acid_or_milk         body       flavor   aftertaste\n",
              "count  2071.000000   2071.000000  2071.000000  2071.000000  2071.000000\n",
              "mean      8.739739      8.544182     8.600676     8.946403     8.094640\n",
              "std       0.973742      0.633870     0.530590     0.453143     0.557535\n",
              "min       0.000000      1.000000     5.000000     2.000000     2.000000\n",
              "25%       9.000000      8.000000     8.000000     9.000000     8.000000\n",
              "50%       9.000000      9.000000     9.000000     9.000000     8.000000\n",
              "75%       9.000000      9.000000     9.000000     9.000000     8.000000\n",
              "max      10.000000     10.000000    10.000000    10.000000    10.000000"
            ],
            "text/html": [
              "\n",
              "  <div id=\"df-dbe9d0b2-c7d7-479d-a896-81424f03317b\">\n",
              "    <div class=\"colab-df-container\">\n",
              "      <div>\n",
              "<style scoped>\n",
              "    .dataframe tbody tr th:only-of-type {\n",
              "        vertical-align: middle;\n",
              "    }\n",
              "\n",
              "    .dataframe tbody tr th {\n",
              "        vertical-align: top;\n",
              "    }\n",
              "\n",
              "    .dataframe thead th {\n",
              "        text-align: right;\n",
              "    }\n",
              "</style>\n",
              "<table border=\"1\" class=\"dataframe\">\n",
              "  <thead>\n",
              "    <tr style=\"text-align: right;\">\n",
              "      <th></th>\n",
              "      <th>aroma</th>\n",
              "      <th>acid_or_milk</th>\n",
              "      <th>body</th>\n",
              "      <th>flavor</th>\n",
              "      <th>aftertaste</th>\n",
              "    </tr>\n",
              "  </thead>\n",
              "  <tbody>\n",
              "    <tr>\n",
              "      <th>count</th>\n",
              "      <td>2071.000000</td>\n",
              "      <td>2071.000000</td>\n",
              "      <td>2071.000000</td>\n",
              "      <td>2071.000000</td>\n",
              "      <td>2071.000000</td>\n",
              "    </tr>\n",
              "    <tr>\n",
              "      <th>mean</th>\n",
              "      <td>8.739739</td>\n",
              "      <td>8.544182</td>\n",
              "      <td>8.600676</td>\n",
              "      <td>8.946403</td>\n",
              "      <td>8.094640</td>\n",
              "    </tr>\n",
              "    <tr>\n",
              "      <th>std</th>\n",
              "      <td>0.973742</td>\n",
              "      <td>0.633870</td>\n",
              "      <td>0.530590</td>\n",
              "      <td>0.453143</td>\n",
              "      <td>0.557535</td>\n",
              "    </tr>\n",
              "    <tr>\n",
              "      <th>min</th>\n",
              "      <td>0.000000</td>\n",
              "      <td>1.000000</td>\n",
              "      <td>5.000000</td>\n",
              "      <td>2.000000</td>\n",
              "      <td>2.000000</td>\n",
              "    </tr>\n",
              "    <tr>\n",
              "      <th>25%</th>\n",
              "      <td>9.000000</td>\n",
              "      <td>8.000000</td>\n",
              "      <td>8.000000</td>\n",
              "      <td>9.000000</td>\n",
              "      <td>8.000000</td>\n",
              "    </tr>\n",
              "    <tr>\n",
              "      <th>50%</th>\n",
              "      <td>9.000000</td>\n",
              "      <td>9.000000</td>\n",
              "      <td>9.000000</td>\n",
              "      <td>9.000000</td>\n",
              "      <td>8.000000</td>\n",
              "    </tr>\n",
              "    <tr>\n",
              "      <th>75%</th>\n",
              "      <td>9.000000</td>\n",
              "      <td>9.000000</td>\n",
              "      <td>9.000000</td>\n",
              "      <td>9.000000</td>\n",
              "      <td>8.000000</td>\n",
              "    </tr>\n",
              "    <tr>\n",
              "      <th>max</th>\n",
              "      <td>10.000000</td>\n",
              "      <td>10.000000</td>\n",
              "      <td>10.000000</td>\n",
              "      <td>10.000000</td>\n",
              "      <td>10.000000</td>\n",
              "    </tr>\n",
              "  </tbody>\n",
              "</table>\n",
              "</div>\n",
              "      <button class=\"colab-df-convert\" onclick=\"convertToInteractive('df-dbe9d0b2-c7d7-479d-a896-81424f03317b')\"\n",
              "              title=\"Convert this dataframe to an interactive table.\"\n",
              "              style=\"display:none;\">\n",
              "        \n",
              "  <svg xmlns=\"http://www.w3.org/2000/svg\" height=\"24px\"viewBox=\"0 0 24 24\"\n",
              "       width=\"24px\">\n",
              "    <path d=\"M0 0h24v24H0V0z\" fill=\"none\"/>\n",
              "    <path d=\"M18.56 5.44l.94 2.06.94-2.06 2.06-.94-2.06-.94-.94-2.06-.94 2.06-2.06.94zm-11 1L8.5 8.5l.94-2.06 2.06-.94-2.06-.94L8.5 2.5l-.94 2.06-2.06.94zm10 10l.94 2.06.94-2.06 2.06-.94-2.06-.94-.94-2.06-.94 2.06-2.06.94z\"/><path d=\"M17.41 7.96l-1.37-1.37c-.4-.4-.92-.59-1.43-.59-.52 0-1.04.2-1.43.59L10.3 9.45l-7.72 7.72c-.78.78-.78 2.05 0 2.83L4 21.41c.39.39.9.59 1.41.59.51 0 1.02-.2 1.41-.59l7.78-7.78 2.81-2.81c.8-.78.8-2.07 0-2.86zM5.41 20L4 18.59l7.72-7.72 1.47 1.35L5.41 20z\"/>\n",
              "  </svg>\n",
              "      </button>\n",
              "      \n",
              "  <style>\n",
              "    .colab-df-container {\n",
              "      display:flex;\n",
              "      flex-wrap:wrap;\n",
              "      gap: 12px;\n",
              "    }\n",
              "\n",
              "    .colab-df-convert {\n",
              "      background-color: #E8F0FE;\n",
              "      border: none;\n",
              "      border-radius: 50%;\n",
              "      cursor: pointer;\n",
              "      display: none;\n",
              "      fill: #1967D2;\n",
              "      height: 32px;\n",
              "      padding: 0 0 0 0;\n",
              "      width: 32px;\n",
              "    }\n",
              "\n",
              "    .colab-df-convert:hover {\n",
              "      background-color: #E2EBFA;\n",
              "      box-shadow: 0px 1px 2px rgba(60, 64, 67, 0.3), 0px 1px 3px 1px rgba(60, 64, 67, 0.15);\n",
              "      fill: #174EA6;\n",
              "    }\n",
              "\n",
              "    [theme=dark] .colab-df-convert {\n",
              "      background-color: #3B4455;\n",
              "      fill: #D2E3FC;\n",
              "    }\n",
              "\n",
              "    [theme=dark] .colab-df-convert:hover {\n",
              "      background-color: #434B5C;\n",
              "      box-shadow: 0px 1px 3px 1px rgba(0, 0, 0, 0.15);\n",
              "      filter: drop-shadow(0px 1px 2px rgba(0, 0, 0, 0.3));\n",
              "      fill: #FFFFFF;\n",
              "    }\n",
              "  </style>\n",
              "\n",
              "      <script>\n",
              "        const buttonEl =\n",
              "          document.querySelector('#df-dbe9d0b2-c7d7-479d-a896-81424f03317b button.colab-df-convert');\n",
              "        buttonEl.style.display =\n",
              "          google.colab.kernel.accessAllowed ? 'block' : 'none';\n",
              "\n",
              "        async function convertToInteractive(key) {\n",
              "          const element = document.querySelector('#df-dbe9d0b2-c7d7-479d-a896-81424f03317b');\n",
              "          const dataTable =\n",
              "            await google.colab.kernel.invokeFunction('convertToInteractive',\n",
              "                                                     [key], {});\n",
              "          if (!dataTable) return;\n",
              "\n",
              "          const docLinkHtml = 'Like what you see? Visit the ' +\n",
              "            '<a target=\"_blank\" href=https://colab.research.google.com/notebooks/data_table.ipynb>data table notebook</a>'\n",
              "            + ' to learn more about interactive tables.';\n",
              "          element.innerHTML = '';\n",
              "          dataTable['output_type'] = 'display_data';\n",
              "          await google.colab.output.renderOutput(dataTable, element);\n",
              "          const docLink = document.createElement('div');\n",
              "          docLink.innerHTML = docLinkHtml;\n",
              "          element.appendChild(docLink);\n",
              "        }\n",
              "      </script>\n",
              "    </div>\n",
              "  </div>\n",
              "  "
            ]
          },
          "metadata": {},
          "execution_count": 157
        }
      ]
    },
    {
      "cell_type": "code",
      "source": [
        "fig, ax = plt.subplots(1,3, figsize=(20, 10))\n",
        "sns.countplot(y=coffee_data['aroma'], ax=ax[0])\n",
        "ax[0].set_title('coffee_data Aroma Frequency')\n",
        "sns.countplot(y=coffee_data['acid_or_milk'], ax=ax[1])\n",
        "ax[1].set_title('coffee_data Acidity Frequency')\n",
        "sns.countplot(y=coffee_data['body'], ax=ax[2])\n",
        "ax[2].set_title('coffee_rev Body Frequency')\n",
        "fig.show()"
      ],
      "metadata": {
        "colab": {
          "base_uri": "https://localhost:8080/",
          "height": 503
        },
        "id": "RFVftFisQjel",
        "outputId": "9d700b67-c7c2-4aad-d262-efc3b671baaa"
      },
      "execution_count": 158,
      "outputs": [
        {
          "output_type": "display_data",
          "data": {
            "text/plain": [
              "<Figure size 1440x720 with 3 Axes>"
            ],
            "image/png": "[encoded data removed]"
          },
          "metadata": {}
        }
      ]
    },
    {
      "cell_type": "code",
      "source": [
        "fig, ax = plt.subplots(1,2, figsize=(20, 10))\n",
        "sns.countplot(y=coffee_data['flavor'], ax=ax[0])\n",
        "ax[0].set_title('coffee_data Flavor Frequency')\n",
        "sns.countplot(y=coffee_data['aftertaste'], ax=ax[1])\n",
        "ax[1].set_title('coffee_data Aftertaste Frequency')\n",
        "fig.show()"
      ],
      "metadata": {
        "colab": {
          "base_uri": "https://localhost:8080/",
          "height": 500
        },
        "id": "w0iK9vINQrzm",
        "outputId": "bd483e6e-30c5-4f59-9cc1-810dd750b25e"
      },
      "execution_count": 159,
      "outputs": [
        {
          "output_type": "display_data",
          "data": {
            "text/plain": [
              "<Figure size 1440x720 with 2 Axes>"
            ],
            "image/png": "[encoded data removed]"
          },
          "metadata": {}
        }
      ]
    },
    {
      "cell_type": "code",
      "source": [
        "print('Count each value of aroma')\n",
        "coffee_data['aroma'].value_counts()"
      ],
      "metadata": {
        "colab": {
          "base_uri": "https://localhost:8080/"
        },
        "id": "1sBzi5CFQyb5",
        "outputId": "9fd2a4be-9876-4ad6-9502-63a670b9f626"
      },
      "execution_count": 160,
      "outputs": [
        {
          "output_type": "stream",
          "name": "stdout",
          "text": [
            "Count each value of aroma\n"
          ]
        },
        {
          "output_type": "execute_result",
          "data": {
            "text/plain": [
              "9.0     1668\n",
              "8.0      333\n",
              "10.0      27\n",
              "0.0       19\n",
              "7.0       19\n",
              "6.0        2\n",
              "3.0        1\n",
              "2.0        1\n",
              "4.0        1\n",
              "Name: aroma, dtype: int64"
            ]
          },
          "metadata": {},
          "execution_count": 160
        }
      ]
    },
    {
      "cell_type": "code",
      "source": [
        "print('Count each value of acid')\n",
        "coffee_data['acid_or_milk'].value_counts()"
      ],
      "metadata": {
        "colab": {
          "base_uri": "https://localhost:8080/"
        },
        "id": "SxqxxEWPQ0Ro",
        "outputId": "266ec289-0fff-499c-c9a5-5d5cf2a03d31"
      },
      "execution_count": 161,
      "outputs": [
        {
          "output_type": "stream",
          "name": "stdout",
          "text": [
            "Count each value of acid\n"
          ]
        },
        {
          "output_type": "execute_result",
          "data": {
            "text/plain": [
              "9.0     1162\n",
              "8.0      835\n",
              "7.0       44\n",
              "10.0      21\n",
              "6.0        5\n",
              "3.0        2\n",
              "1.0        1\n",
              "2.0        1\n",
              "Name: acid_or_milk, dtype: int64"
            ]
          },
          "metadata": {},
          "execution_count": 161
        }
      ]
    },
    {
      "cell_type": "code",
      "source": [
        "print('Count each value of body')\n",
        "coffee_data['body'].value_counts()"
      ],
      "metadata": {
        "colab": {
          "base_uri": "https://localhost:8080/"
        },
        "id": "b_bk7ZbwQ2yU",
        "outputId": "83cbe205-da59-4dfc-915e-4bd5d3184644"
      },
      "execution_count": 162,
      "outputs": [
        {
          "output_type": "stream",
          "name": "stdout",
          "text": [
            "Count each value of body\n"
          ]
        },
        {
          "output_type": "execute_result",
          "data": {
            "text/plain": [
              "9.0     1277\n",
              "8.0      764\n",
              "7.0       24\n",
              "6.0        4\n",
              "10.0       1\n",
              "5.0        1\n",
              "Name: body, dtype: int64"
            ]
          },
          "metadata": {},
          "execution_count": 162
        }
      ]
    },
    {
      "cell_type": "code",
      "source": [
        "print('Count each value of flavor')\n",
        "coffee_data['flavor'].value_counts()"
      ],
      "metadata": {
        "colab": {
          "base_uri": "https://localhost:8080/"
        },
        "id": "UdxtRgXGQ5OG",
        "outputId": "7b74d54d-d9fb-4f29-fcda-1fdf9a306d15"
      },
      "execution_count": 163,
      "outputs": [
        {
          "output_type": "stream",
          "name": "stdout",
          "text": [
            "Count each value of flavor\n"
          ]
        },
        {
          "output_type": "execute_result",
          "data": {
            "text/plain": [
              "9.0     1810\n",
              "8.0      153\n",
              "10.0      91\n",
              "7.0       12\n",
              "6.0        2\n",
              "3.0        2\n",
              "2.0        1\n",
              "Name: flavor, dtype: int64"
            ]
          },
          "metadata": {},
          "execution_count": 163
        }
      ]
    },
    {
      "cell_type": "code",
      "source": [
        "print('Count each value of aftertaste')\n",
        "coffee_data['aftertaste'].value_counts()"
      ],
      "metadata": {
        "colab": {
          "base_uri": "https://localhost:8080/"
        },
        "id": "qDkEAejIQ73T",
        "outputId": "5f29d6ae-bfa0-4735-c4be-3be4c77dd7ea"
      },
      "execution_count": 164,
      "outputs": [
        {
          "output_type": "stream",
          "name": "stdout",
          "text": [
            "Count each value of aftertaste\n"
          ]
        },
        {
          "output_type": "execute_result",
          "data": {
            "text/plain": [
              "8.0     1539\n",
              "9.0      375\n",
              "7.0      144\n",
              "6.0        7\n",
              "3.0        2\n",
              "10.0       1\n",
              "5.0        1\n",
              "4.0        1\n",
              "2.0        1\n",
              "Name: aftertaste, dtype: int64"
            ]
          },
          "metadata": {},
          "execution_count": 164
        }
      ]
    },
    {
      "cell_type": "markdown",
      "source": [
        "##**Exporting Final DataFrames**"
      ],
      "metadata": {
        "id": "71G6wehbsRdZ"
      }
    },
    {
      "cell_type": "markdown",
      "source": [
        "**Filtering dataset**"
      ],
      "metadata": {
        "id": "1S71Ytwc8xuc"
      }
    },
    {
      "cell_type": "code",
      "source": [
        "coffee_data.to_csv('coffee_clean.csv', index=False)"
      ],
      "metadata": {
        "id": "-2XgrKkTsfPR"
      },
      "execution_count": 169,
      "outputs": []
    },
    {
      "cell_type": "markdown",
      "source": [
        "**Recommendation system dataset**"
      ],
      "metadata": {
        "id": "6QvQrsJp9QtD"
      }
    },
    {
      "cell_type": "code",
      "source": [
        "coffee_recom = coffee_data\n",
        "coffee_recom.head(1)"
      ],
      "metadata": {
        "colab": {
          "base_uri": "https://localhost:8080/",
          "height": 266
        },
        "id": "CoFDqgGC9QFZ",
        "outputId": "949b7df9-a072-4690-fb3d-45f22a09b0a1"
      },
      "execution_count": 170,
      "outputs": [
        {
          "output_type": "execute_result",
          "data": {
            "text/plain": [
              "                                                slug  \\\n",
              "0  https://www.coffeereview.com/review/ethiopia-r...   \n",
              "\n",
              "                        name                                         origin  \\\n",
              "0  Ethiopia Reko Yirgacheffe  Yirgacheffe growing region, southern Ethiopia   \n",
              "\n",
              "   rating        roaster  aroma  acid_or_milk  body  flavor  aftertaste  \\\n",
              "0      94  Temple Coffee    9.0           9.0   9.0     9.0         8.0   \n",
              "\n",
              "                                              desc_1  \\\n",
              "0  Rich-toned, deeply floral. White peach, tea ro...   \n",
              "\n",
              "                                              desc_2  \\\n",
              "0  Produced by the Reko Farming Cooperative from ...   \n",
              "\n",
              "                                              desc_3  \n",
              "0  A classic washed Yirgacheffe cup driven by not...  "
            ],
            "text/html": [
              "\n",
              "  <div id=\"df-027a3711-645c-4f28-b032-81b8fe7ceb66\">\n",
              "    <div class=\"colab-df-container\">\n",
              "      <div>\n",
              "<style scoped>\n",
              "    .dataframe tbody tr th:only-of-type {\n",
              "        vertical-align: middle;\n",
              "    }\n",
              "\n",
              "    .dataframe tbody tr th {\n",
              "        vertical-align: top;\n",
              "    }\n",
              "\n",
              "    .dataframe thead th {\n",
              "        text-align: right;\n",
              "    }\n",
              "</style>\n",
              "<table border=\"1\" class=\"dataframe\">\n",
              "  <thead>\n",
              "    <tr style=\"text-align: right;\">\n",
              "      <th></th>\n",
              "      <th>slug</th>\n",
              "      <th>name</th>\n",
              "      <th>origin</th>\n",
              "      <th>rating</th>\n",
              "      <th>roaster</th>\n",
              "      <th>aroma</th>\n",
              "      <th>acid_or_milk</th>\n",
              "      <th>body</th>\n",
              "      <th>flavor</th>\n",
              "      <th>aftertaste</th>\n",
              "      <th>desc_1</th>\n",
              "      <th>desc_2</th>\n",
              "      <th>desc_3</th>\n",
              "    </tr>\n",
              "  </thead>\n",
              "  <tbody>\n",
              "    <tr>\n",
              "      <th>0</th>\n",
              "      <td>https://www.coffeereview.com/review/ethiopia-r...</td>\n",
              "      <td>Ethiopia Reko Yirgacheffe</td>\n",
              "      <td>Yirgacheffe growing region, southern Ethiopia</td>\n",
              "      <td>94</td>\n",
              "      <td>Temple Coffee</td>\n",
              "      <td>9.0</td>\n",
              "      <td>9.0</td>\n",
              "      <td>9.0</td>\n",
              "      <td>9.0</td>\n",
              "      <td>8.0</td>\n",
              "      <td>Rich-toned, deeply floral. White peach, tea ro...</td>\n",
              "      <td>Produced by the Reko Farming Cooperative from ...</td>\n",
              "      <td>A classic washed Yirgacheffe cup driven by not...</td>\n",
              "    </tr>\n",
              "  </tbody>\n",
              "</table>\n",
              "</div>\n",
              "      <button class=\"colab-df-convert\" onclick=\"convertToInteractive('df-027a3711-645c-4f28-b032-81b8fe7ceb66')\"\n",
              "              title=\"Convert this dataframe to an interactive table.\"\n",
              "              style=\"display:none;\">\n",
              "        \n",
              "  <svg xmlns=\"http://www.w3.org/2000/svg\" height=\"24px\"viewBox=\"0 0 24 24\"\n",
              "       width=\"24px\">\n",
              "    <path d=\"M0 0h24v24H0V0z\" fill=\"none\"/>\n",
              "    <path d=\"M18.56 5.44l.94 2.06.94-2.06 2.06-.94-2.06-.94-.94-2.06-.94 2.06-2.06.94zm-11 1L8.5 8.5l.94-2.06 2.06-.94-2.06-.94L8.5 2.5l-.94 2.06-2.06.94zm10 10l.94 2.06.94-2.06 2.06-.94-2.06-.94-.94-2.06-.94 2.06-2.06.94z\"/><path d=\"M17.41 7.96l-1.37-1.37c-.4-.4-.92-.59-1.43-.59-.52 0-1.04.2-1.43.59L10.3 9.45l-7.72 7.72c-.78.78-.78 2.05 0 2.83L4 21.41c.39.39.9.59 1.41.59.51 0 1.02-.2 1.41-.59l7.78-7.78 2.81-2.81c.8-.78.8-2.07 0-2.86zM5.41 20L4 18.59l7.72-7.72 1.47 1.35L5.41 20z\"/>\n",
              "  </svg>\n",
              "      </button>\n",
              "      \n",
              "  <style>\n",
              "    .colab-df-container {\n",
              "      display:flex;\n",
              "      flex-wrap:wrap;\n",
              "      gap: 12px;\n",
              "    }\n",
              "\n",
              "    .colab-df-convert {\n",
              "      background-color: #E8F0FE;\n",
              "      border: none;\n",
              "      border-radius: 50%;\n",
              "      cursor: pointer;\n",
              "      display: none;\n",
              "      fill: #1967D2;\n",
              "      height: 32px;\n",
              "      padding: 0 0 0 0;\n",
              "      width: 32px;\n",
              "    }\n",
              "\n",
              "    .colab-df-convert:hover {\n",
              "      background-color: #E2EBFA;\n",
              "      box-shadow: 0px 1px 2px rgba(60, 64, 67, 0.3), 0px 1px 3px 1px rgba(60, 64, 67, 0.15);\n",
              "      fill: #174EA6;\n",
              "    }\n",
              "\n",
              "    [theme=dark] .colab-df-convert {\n",
              "      background-color: #3B4455;\n",
              "      fill: #D2E3FC;\n",
              "    }\n",
              "\n",
              "    [theme=dark] .colab-df-convert:hover {\n",
              "      background-color: #434B5C;\n",
              "      box-shadow: 0px 1px 3px 1px rgba(0, 0, 0, 0.15);\n",
              "      filter: drop-shadow(0px 1px 2px rgba(0, 0, 0, 0.3));\n",
              "      fill: #FFFFFF;\n",
              "    }\n",
              "  </style>\n",
              "\n",
              "      <script>\n",
              "        const buttonEl =\n",
              "          document.querySelector('#df-027a3711-645c-4f28-b032-81b8fe7ceb66 button.colab-df-convert');\n",
              "        buttonEl.style.display =\n",
              "          google.colab.kernel.accessAllowed ? 'block' : 'none';\n",
              "\n",
              "        async function convertToInteractive(key) {\n",
              "          const element = document.querySelector('#df-027a3711-645c-4f28-b032-81b8fe7ceb66');\n",
              "          const dataTable =\n",
              "            await google.colab.kernel.invokeFunction('convertToInteractive',\n",
              "                                                     [key], {});\n",
              "          if (!dataTable) return;\n",
              "\n",
              "          const docLinkHtml = 'Like what you see? Visit the ' +\n",
              "            '<a target=\"_blank\" href=https://colab.research.google.com/notebooks/data_table.ipynb>data table notebook</a>'\n",
              "            + ' to learn more about interactive tables.';\n",
              "          element.innerHTML = '';\n",
              "          dataTable['output_type'] = 'display_data';\n",
              "          await google.colab.output.renderOutput(dataTable, element);\n",
              "          const docLink = document.createElement('div');\n",
              "          docLink.innerHTML = docLinkHtml;\n",
              "          element.appendChild(docLink);\n",
              "        }\n",
              "      </script>\n",
              "    </div>\n",
              "  </div>\n",
              "  "
            ]
          },
          "metadata": {},
          "execution_count": 170
        }
      ]
    },
    {
      "cell_type": "code",
      "source": [
        "coffee_recom['label'] = coffee_recom[coffee_recom.columns[5:10]].apply(\n",
        "    lambda x: ','.join(x.dropna().astype(str)),\n",
        "    axis=1\n",
        ")\n",
        "coffee_recom.head(5)"
      ],
      "metadata": {
        "colab": {
          "base_uri": "https://localhost:8080/",
          "height": 669
        },
        "id": "eeJ3BUDM9gPa",
        "outputId": "29539bea-bd26-4c2d-a47b-4368084f5391"
      },
      "execution_count": 173,
      "outputs": [
        {
          "output_type": "execute_result",
          "data": {
            "text/plain": [
              "                                                slug  \\\n",
              "0  https://www.coffeereview.com/review/ethiopia-r...   \n",
              "1  https://www.coffeereview.com/review/double-ana...   \n",
              "2  https://www.coffeereview.com/review/ethiopia-c...   \n",
              "3  https://www.coffeereview.com/review/ethiopia-h...   \n",
              "4  https://www.coffeereview.com/review/colombia-p...   \n",
              "\n",
              "                                           name  \\\n",
              "0                     Ethiopia Reko Yirgacheffe   \n",
              "1  Double-Anaerobic Fermentation Tamiru Tadesse   \n",
              "2          Ethiopia Chelbesa Danche Yirgacheffe   \n",
              "3         Ethiopia Honey Process Tamiru Tadesse   \n",
              "4                      Colombia Planadas Tolima   \n",
              "\n",
              "                                            origin  rating  \\\n",
              "0    Yirgacheffe growing region, southern Ethiopia      94   \n",
              "1    Sidamo growing region, south-central Ethiopia      94   \n",
              "2  Chelchele, Gedeb District, Gedeo Zone, Ethiopia      94   \n",
              "3    Sidamo growing region, south-central Ethiopia      94   \n",
              "4                                 Tolima, Colombia      93   \n",
              "\n",
              "                 roaster  aroma  acid_or_milk  body  flavor  aftertaste  \\\n",
              "0          Temple Coffee    9.0           9.0   9.0     9.0         8.0   \n",
              "1     Genesis Coffee Lab    9.0           9.0   9.0     9.0         8.0   \n",
              "2  Jaunt Coffee Roasters    9.0           9.0   9.0     9.0         8.0   \n",
              "3     Genesis Coffee Lab    9.0           9.0   9.0     9.0         8.0   \n",
              "4  Jaunt Coffee Roasters    9.0           9.0   8.0     9.0         8.0   \n",
              "\n",
              "                                              desc_1  \\\n",
              "0  Rich-toned, deeply floral. White peach, tea ro...   \n",
              "1  Richly floral-toned, crisply sweet. Honeysuckl...   \n",
              "2  Elegantly sweet, floral-toned. Lilac, almond, ...   \n",
              "3  Delicately fruit-toned, tisane-like. Dried str...   \n",
              "4  Delicate, richly aromatic. Pineapple, almond n...   \n",
              "\n",
              "                                              desc_2  \\\n",
              "0  Produced by the Reko Farming Cooperative from ...   \n",
              "1  Produced by Tamiru Tadesse of Alo Coffee. Sout...   \n",
              "2  Produced by the METAD farm and mill in souther...   \n",
              "3  Produced by Tamiru Tadesse of Alo Coffee. Sout...   \n",
              "4  Produced by Jorge Elias Rojas entirely of the ...   \n",
              "\n",
              "                                              desc_3                label  \n",
              "0  A classic washed Yirgacheffe cup driven by not...  9.0,9.0,9.0,9.0,8.0  \n",
              "1  A floral-driven anaerobic Ethiopia cup free of...  9.0,9.0,9.0,9.0,8.0  \n",
              "2  A brightly sweet, fragrantly floral-driven was...  9.0,9.0,9.0,9.0,8.0  \n",
              "3  A delicate, elegant, honey-processed Sidamo cu...  9.0,9.0,9.0,9.0,8.0  \n",
              "4  A lovely Colombia Geisha cup, finely tea-like ...  9.0,9.0,8.0,9.0,8.0  "
            ],
            "text/html": [
              "\n",
              "  <div id=\"df-594faf67-ad74-4ac2-ba2d-6ba62d620602\">\n",
              "    <div class=\"colab-df-container\">\n",
              "      <div>\n",
              "<style scoped>\n",
              "    .dataframe tbody tr th:only-of-type {\n",
              "        vertical-align: middle;\n",
              "    }\n",
              "\n",
              "    .dataframe tbody tr th {\n",
              "        vertical-align: top;\n",
              "    }\n",
              "\n",
              "    .dataframe thead th {\n",
              "        text-align: right;\n",
              "    }\n",
              "</style>\n",
              "<table border=\"1\" class=\"dataframe\">\n",
              "  <thead>\n",
              "    <tr style=\"text-align: right;\">\n",
              "      <th></th>\n",
              "      <th>slug</th>\n",
              "      <th>name</th>\n",
              "      <th>origin</th>\n",
              "      <th>rating</th>\n",
              "      <th>roaster</th>\n",
              "      <th>aroma</th>\n",
              "      <th>acid_or_milk</th>\n",
              "      <th>body</th>\n",
              "      <th>flavor</th>\n",
              "      <th>aftertaste</th>\n",
              "      <th>desc_1</th>\n",
              "      <th>desc_2</th>\n",
              "      <th>desc_3</th>\n",
              "      <th>label</th>\n",
              "    </tr>\n",
              "  </thead>\n",
              "  <tbody>\n",
              "    <tr>\n",
              "      <th>0</th>\n",
              "      <td>https://www.coffeereview.com/review/ethiopia-r...</td>\n",
              "      <td>Ethiopia Reko Yirgacheffe</td>\n",
              "      <td>Yirgacheffe growing region, southern Ethiopia</td>\n",
              "      <td>94</td>\n",
              "      <td>Temple Coffee</td>\n",
              "      <td>9.0</td>\n",
              "      <td>9.0</td>\n",
              "      <td>9.0</td>\n",
              "      <td>9.0</td>\n",
              "      <td>8.0</td>\n",
              "      <td>Rich-toned, deeply floral. White peach, tea ro...</td>\n",
              "      <td>Produced by the Reko Farming Cooperative from ...</td>\n",
              "      <td>A classic washed Yirgacheffe cup driven by not...</td>\n",
              "      <td>9.0,9.0,9.0,9.0,8.0</td>\n",
              "    </tr>\n",
              "    <tr>\n",
              "      <th>1</th>\n",
              "      <td>https://www.coffeereview.com/review/double-ana...</td>\n",
              "      <td>Double-Anaerobic Fermentation Tamiru Tadesse</td>\n",
              "      <td>Sidamo growing region, south-central Ethiopia</td>\n",
              "      <td>94</td>\n",
              "      <td>Genesis Coffee Lab</td>\n",
              "      <td>9.0</td>\n",
              "      <td>9.0</td>\n",
              "      <td>9.0</td>\n",
              "      <td>9.0</td>\n",
              "      <td>8.0</td>\n",
              "      <td>Richly floral-toned, crisply sweet. Honeysuckl...</td>\n",
              "      <td>Produced by Tamiru Tadesse of Alo Coffee. Sout...</td>\n",
              "      <td>A floral-driven anaerobic Ethiopia cup free of...</td>\n",
              "      <td>9.0,9.0,9.0,9.0,8.0</td>\n",
              "    </tr>\n",
              "    <tr>\n",
              "      <th>2</th>\n",
              "      <td>https://www.coffeereview.com/review/ethiopia-c...</td>\n",
              "      <td>Ethiopia Chelbesa Danche Yirgacheffe</td>\n",
              "      <td>Chelchele, Gedeb District, Gedeo Zone, Ethiopia</td>\n",
              "      <td>94</td>\n",
              "      <td>Jaunt Coffee Roasters</td>\n",
              "      <td>9.0</td>\n",
              "      <td>9.0</td>\n",
              "      <td>9.0</td>\n",
              "      <td>9.0</td>\n",
              "      <td>8.0</td>\n",
              "      <td>Elegantly sweet, floral-toned. Lilac, almond, ...</td>\n",
              "      <td>Produced by the METAD farm and mill in souther...</td>\n",
              "      <td>A brightly sweet, fragrantly floral-driven was...</td>\n",
              "      <td>9.0,9.0,9.0,9.0,8.0</td>\n",
              "    </tr>\n",
              "    <tr>\n",
              "      <th>3</th>\n",
              "      <td>https://www.coffeereview.com/review/ethiopia-h...</td>\n",
              "      <td>Ethiopia Honey Process Tamiru Tadesse</td>\n",
              "      <td>Sidamo growing region, south-central Ethiopia</td>\n",
              "      <td>94</td>\n",
              "      <td>Genesis Coffee Lab</td>\n",
              "      <td>9.0</td>\n",
              "      <td>9.0</td>\n",
              "      <td>9.0</td>\n",
              "      <td>9.0</td>\n",
              "      <td>8.0</td>\n",
              "      <td>Delicately fruit-toned, tisane-like. Dried str...</td>\n",
              "      <td>Produced by Tamiru Tadesse of Alo Coffee. Sout...</td>\n",
              "      <td>A delicate, elegant, honey-processed Sidamo cu...</td>\n",
              "      <td>9.0,9.0,9.0,9.0,8.0</td>\n",
              "    </tr>\n",
              "    <tr>\n",
              "      <th>4</th>\n",
              "      <td>https://www.coffeereview.com/review/colombia-p...</td>\n",
              "      <td>Colombia Planadas Tolima</td>\n",
              "      <td>Tolima, Colombia</td>\n",
              "      <td>93</td>\n",
              "      <td>Jaunt Coffee Roasters</td>\n",
              "      <td>9.0</td>\n",
              "      <td>9.0</td>\n",
              "      <td>8.0</td>\n",
              "      <td>9.0</td>\n",
              "      <td>8.0</td>\n",
              "      <td>Delicate, richly aromatic. Pineapple, almond n...</td>\n",
              "      <td>Produced by Jorge Elias Rojas entirely of the ...</td>\n",
              "      <td>A lovely Colombia Geisha cup, finely tea-like ...</td>\n",
              "      <td>9.0,9.0,8.0,9.0,8.0</td>\n",
              "    </tr>\n",
              "  </tbody>\n",
              "</table>\n",
              "</div>\n",
              "      <button class=\"colab-df-convert\" onclick=\"convertToInteractive('df-594faf67-ad74-4ac2-ba2d-6ba62d620602')\"\n",
              "              title=\"Convert this dataframe to an interactive table.\"\n",
              "              style=\"display:none;\">\n",
              "        \n",
              "  <svg xmlns=\"http://www.w3.org/2000/svg\" height=\"24px\"viewBox=\"0 0 24 24\"\n",
              "       width=\"24px\">\n",
              "    <path d=\"M0 0h24v24H0V0z\" fill=\"none\"/>\n",
              "    <path d=\"M18.56 5.44l.94 2.06.94-2.06 2.06-.94-2.06-.94-.94-2.06-.94 2.06-2.06.94zm-11 1L8.5 8.5l.94-2.06 2.06-.94-2.06-.94L8.5 2.5l-.94 2.06-2.06.94zm10 10l.94 2.06.94-2.06 2.06-.94-2.06-.94-.94-2.06-.94 2.06-2.06.94z\"/><path d=\"M17.41 7.96l-1.37-1.37c-.4-.4-.92-.59-1.43-.59-.52 0-1.04.2-1.43.59L10.3 9.45l-7.72 7.72c-.78.78-.78 2.05 0 2.83L4 21.41c.39.39.9.59 1.41.59.51 0 1.02-.2 1.41-.59l7.78-7.78 2.81-2.81c.8-.78.8-2.07 0-2.86zM5.41 20L4 18.59l7.72-7.72 1.47 1.35L5.41 20z\"/>\n",
              "  </svg>\n",
              "      </button>\n",
              "      \n",
              "  <style>\n",
              "    .colab-df-container {\n",
              "      display:flex;\n",
              "      flex-wrap:wrap;\n",
              "      gap: 12px;\n",
              "    }\n",
              "\n",
              "    .colab-df-convert {\n",
              "      background-color: #E8F0FE;\n",
              "      border: none;\n",
              "      border-radius: 50%;\n",
              "      cursor: pointer;\n",
              "      display: none;\n",
              "      fill: #1967D2;\n",
              "      height: 32px;\n",
              "      padding: 0 0 0 0;\n",
              "      width: 32px;\n",
              "    }\n",
              "\n",
              "    .colab-df-convert:hover {\n",
              "      background-color: #E2EBFA;\n",
              "      box-shadow: 0px 1px 2px rgba(60, 64, 67, 0.3), 0px 1px 3px 1px rgba(60, 64, 67, 0.15);\n",
              "      fill: #174EA6;\n",
              "    }\n",
              "\n",
              "    [theme=dark] .colab-df-convert {\n",
              "      background-color: #3B4455;\n",
              "      fill: #D2E3FC;\n",
              "    }\n",
              "\n",
              "    [theme=dark] .colab-df-convert:hover {\n",
              "      background-color: #434B5C;\n",
              "      box-shadow: 0px 1px 3px 1px rgba(0, 0, 0, 0.15);\n",
              "      filter: drop-shadow(0px 1px 2px rgba(0, 0, 0, 0.3));\n",
              "      fill: #FFFFFF;\n",
              "    }\n",
              "  </style>\n",
              "\n",
              "      <script>\n",
              "        const buttonEl =\n",
              "          document.querySelector('#df-594faf67-ad74-4ac2-ba2d-6ba62d620602 button.colab-df-convert');\n",
              "        buttonEl.style.display =\n",
              "          google.colab.kernel.accessAllowed ? 'block' : 'none';\n",
              "\n",
              "        async function convertToInteractive(key) {\n",
              "          const element = document.querySelector('#df-594faf67-ad74-4ac2-ba2d-6ba62d620602');\n",
              "          const dataTable =\n",
              "            await google.colab.kernel.invokeFunction('convertToInteractive',\n",
              "                                                     [key], {});\n",
              "          if (!dataTable) return;\n",
              "\n",
              "          const docLinkHtml = 'Like what you see? Visit the ' +\n",
              "            '<a target=\"_blank\" href=https://colab.research.google.com/notebooks/data_table.ipynb>data table notebook</a>'\n",
              "            + ' to learn more about interactive tables.';\n",
              "          element.innerHTML = '';\n",
              "          dataTable['output_type'] = 'display_data';\n",
              "          await google.colab.output.renderOutput(dataTable, element);\n",
              "          const docLink = document.createElement('div');\n",
              "          docLink.innerHTML = docLinkHtml;\n",
              "          element.appendChild(docLink);\n",
              "        }\n",
              "      </script>\n",
              "    </div>\n",
              "  </div>\n",
              "  "
            ]
          },
          "metadata": {},
          "execution_count": 173
        }
      ]
    },
    {
      "cell_type": "code",
      "source": [
        "coffee_recom.to_csv('coffee_recom.csv', index=False)"
      ],
      "metadata": {
        "id": "txNymQbU_HRS"
      },
      "execution_count": 174,
      "outputs": []
    }
  ]
}